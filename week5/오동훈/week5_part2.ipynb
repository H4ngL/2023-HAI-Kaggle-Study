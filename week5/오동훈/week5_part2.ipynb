{
  "nbformat": 4,
  "nbformat_minor": 0,
  "metadata": {
    "colab": {
      "provenance": []
    },
    "kernelspec": {
      "name": "python3",
      "display_name": "Python 3"
    },
    "language_info": {
      "name": "python"
    }
  },
  "cells": [
    {
      "cell_type": "markdown",
      "source": [
        "# Modeling"
      ],
      "metadata": {
        "id": "pLMPsVRCqDrP"
      }
    },
    {
      "cell_type": "markdown",
      "source": [
        "kaggle 에서 다운받은 데이터 -> 구글 드라이브 "
      ],
      "metadata": {
        "id": "aqyddn3jfZh_"
      }
    },
    {
      "cell_type": "code",
      "execution_count": null,
      "metadata": {
        "id": "mEMU9EH0eaMZ"
      },
      "outputs": [],
      "source": [
        "import pandas as pd\n",
        "\n",
        "data_path = '/data/'\n",
        "\n",
        "sales_train = pd.read_csv(data_path + 'sales_train.csv')\n",
        "shops = pd.read_csv(data_path + 'shops.csv')\n",
        "items = pd.read_csv(data_path + 'items.csv')\n",
        "item_categories = pd.read_csv(data_path + 'item_categories.csv')\n",
        "test = pd.read_csv(data_path + 'test.csv')\n",
        "submission = pd.read_csv(data_path + 'sample_submission.csv')"
      ]
    },
    {
      "cell_type": "markdown",
      "source": [
        "데이터 정리는 Baseline에서 했던 과정과 동일"
      ],
      "metadata": {
        "id": "_0mv-a11qWKm"
      }
    },
    {
      "cell_type": "code",
      "source": [
        "# 피처 엔지니어링 : 피처명 한글화와 데이터 다운캐스팅\n",
        "sales_train = sales_train.rename(columns={'date': '날짜', \n",
        "                                          'date_block_num': '월ID',\n",
        "                                          'shop_id': '상점ID',\n",
        "                                          'item_id': '상품ID',\n",
        "                                          'item_price': '판매가',\n",
        "                                          'item_cnt_day': '판매량'})\n",
        "\n",
        "shops = shops.rename(columns={'shop_name': '상점명',\n",
        "                              'shop_id': '상점ID'})\n",
        "\n",
        "items = items.rename(columns={'item_name': '상품명',\n",
        "                              'item_id': '상품ID',\n",
        "                              'item_category_id': '상품분류ID'})\n",
        "\n",
        "item_categories = item_categories.rename(columns=\n",
        "                                         {'item_category_name': '상품분류명',\n",
        "                                          'item_category_id': '상품분류ID'})\n",
        "\n",
        "test = test.rename(columns={'shop_id': '상점ID',\n",
        "                            'item_id': '상품ID'})"
      ],
      "metadata": {
        "id": "yMM9KG4UqN2H"
      },
      "execution_count": null,
      "outputs": []
    },
    {
      "cell_type": "code",
      "source": [
        "def downcast(df, verbose=True):\n",
        "    start_mem = df.memory_usage().sum() / 1024**2\n",
        "    for col in df.columns:\n",
        "        dtype_name = df[col].dtype.name\n",
        "        if dtype_name == 'object':\n",
        "            pass\n",
        "        elif dtype_name == 'bool':\n",
        "            df[col] = df[col].astype('int8')\n",
        "        elif dtype_name.startswith('int') or (df[col].round() == df[col]).all():\n",
        "            df[col] = pd.to_numeric(df[col], downcast='integer')\n",
        "        else:\n",
        "            df[col] = pd.to_numeric(df[col], downcast='float')\n",
        "    end_mem = df.memory_usage().sum() / 1024**2\n",
        "    if verbose:\n",
        "        print('{:.1f}% 압축됨'.format(100 * (start_mem - end_mem) / start_mem))\n",
        "    \n",
        "    return df\n",
        "\n",
        "all_df = [sales_train, shops, items, item_categories, test]\n",
        "for df in all_df:\n",
        "    df = downcast(df)"
      ],
      "metadata": {
        "colab": {
          "base_uri": "https://localhost:8080/"
        },
        "id": "xzwNY1ZZqVO-",
        "outputId": "41725cec-ee6f-4d8d-efdb-983085c63739"
      },
      "execution_count": null,
      "outputs": [
        {
          "output_type": "stream",
          "name": "stdout",
          "text": [
            "54.2% 압축됨\n",
            "38.6% 압축됨\n",
            "54.2% 압축됨\n",
            "39.9% 압축됨\n",
            "70.8% 압축됨\n"
          ]
        }
      ]
    },
    {
      "cell_type": "markdown",
      "source": [
        "구체적으로 각 피처별 데이터 정리"
      ],
      "metadata": {
        "id": "YS4Rdo6nqk8V"
      }
    },
    {
      "cell_type": "code",
      "source": [
        "# 피처 엔지니어링 : 개별 데이터 피처 엔지니어링\n",
        "# slaes_train 이상치 제거 및 전처리\n",
        "\n",
        "# 판매가가 0보다 큰 데이터 추출\n",
        "sales_train = sales_train[sales_train['판매가'] > 0]\n",
        "# 판매가가 50,000보다 작은 데이터 추출\n",
        "sales_train = sales_train[sales_train['판매가'] < 50000]\n",
        "\n",
        "# 판매량이 0보다 큰 데이터 추출\n",
        "sales_train = sales_train[sales_train['판매량'] > 0]\n",
        "# 판매량이 1,000보다 작은 데이터 추출\n",
        "sales_train = sales_train[sales_train['판매량'] < 1000]"
      ],
      "metadata": {
        "id": "ZyZ5rzXzqeQW"
      },
      "execution_count": null,
      "outputs": []
    },
    {
      "cell_type": "code",
      "source": [
        "print(shops['상점명'][0], '||', shops['상점명'][57])\n",
        "print(shops['상점명'][1], '||', shops['상점명'][58])\n",
        "print(shops['상점명'][10], '||', shops['상점명'][11])\n",
        "print(shops['상점명'][39], '||', shops['상점명'][40])"
      ],
      "metadata": {
        "colab": {
          "base_uri": "https://localhost:8080/"
        },
        "id": "-xk0YTzjq5yF",
        "outputId": "37a239b1-3abc-478b-8cda-a94d4ae73561"
      },
      "execution_count": null,
      "outputs": [
        {
          "output_type": "stream",
          "name": "stdout",
          "text": [
            "!Якутск Орджоникидзе, 56 фран || Якутск Орджоникидзе, 56\n",
            "!Якутск ТЦ \"Центральный\" фран || Якутск ТЦ \"Центральный\"\n",
            "Жуковский ул. Чкалова 39м? || Жуковский ул. Чкалова 39м²\n",
            "РостовНаДону ТРК \"Мегацентр Горизонт\" || РостовНаДону ТРК \"Мегацентр Горизонт\" Островной\n"
          ]
        }
      ]
    },
    {
      "cell_type": "code",
      "source": [
        "# sales_train 데이터에서 상점ID 수정\n",
        "sales_train.loc[sales_train['상점ID'] == 0, '상점ID'] = 57\n",
        "sales_train.loc[sales_train['상점ID'] == 1, '상점ID'] = 58\n",
        "sales_train.loc[sales_train['상점ID'] == 10, '상점ID'] = 11\n",
        "sales_train.loc[sales_train['상점ID'] == 39, '상점ID'] = 40\n",
        "\n",
        "# test 데이터에서 상점ID 수정\n",
        "test.loc[test['상점ID'] == 0, '상점ID'] = 57\n",
        "test.loc[test['상점ID'] == 1, '상점ID'] = 58\n",
        "test.loc[test['상점ID'] == 10, '상점ID'] = 11\n",
        "test.loc[test['상점ID'] == 39, '상점ID'] = 40"
      ],
      "metadata": {
        "id": "-FjTrWcBq6EJ"
      },
      "execution_count": null,
      "outputs": []
    },
    {
      "cell_type": "code",
      "source": [
        "# shops 파생 피처 생성 및 인코딩\n",
        "\n",
        "shops['도시'] = shops['상점명'].apply(lambda x: x.split()[0])"
      ],
      "metadata": {
        "id": "YmFV9oWTq9Wt"
      },
      "execution_count": null,
      "outputs": []
    },
    {
      "cell_type": "code",
      "source": [
        "shops['도시'].unique()"
      ],
      "metadata": {
        "colab": {
          "base_uri": "https://localhost:8080/"
        },
        "id": "VxUMhJZDrjg-",
        "outputId": "04594fff-f32a-49c4-d8b7-f4e9ca225db3"
      },
      "execution_count": null,
      "outputs": [
        {
          "output_type": "execute_result",
          "data": {
            "text/plain": [
              "array(['!Якутск', 'Адыгея', 'Балашиха', 'Волжский', 'Вологда', 'Воронеж',\n",
              "       'Выездная', 'Жуковский', 'Интернет-магазин', 'Казань', 'Калуга',\n",
              "       'Коломна', 'Красноярск', 'Курск', 'Москва', 'Мытищи', 'Н.Новгород',\n",
              "       'Новосибирск', 'Омск', 'РостовНаДону', 'СПб', 'Самара', 'Сергиев',\n",
              "       'Сургут', 'Томск', 'Тюмень', 'Уфа', 'Химки', 'Цифровой', 'Чехов',\n",
              "       'Якутск', 'Ярославль'], dtype=object)"
            ]
          },
          "metadata": {},
          "execution_count": 10
        }
      ]
    },
    {
      "cell_type": "code",
      "source": [
        "shops.loc[shops['도시'] =='!Якутск', '도시'] = 'Якутск'"
      ],
      "metadata": {
        "id": "aklQOt04rmeN"
      },
      "execution_count": null,
      "outputs": []
    },
    {
      "cell_type": "code",
      "source": [
        "from sklearn.preprocessing import LabelEncoder\n",
        "# 레이블 인코더 생성\n",
        "label_encoder = LabelEncoder()\n",
        "# 도시 피처 레이블 인코딩\n",
        "shops['도시'] = label_encoder.fit_transform(shops['도시'])"
      ],
      "metadata": {
        "id": "cGbORHn7rpIF"
      },
      "execution_count": null,
      "outputs": []
    },
    {
      "cell_type": "code",
      "source": [
        "# 상점명 피처 제거\n",
        "shops = shops.drop('상점명', axis=1)\n",
        "\n",
        "shops.head()"
      ],
      "metadata": {
        "colab": {
          "base_uri": "https://localhost:8080/",
          "height": 206
        },
        "id": "mH7oETBRr4Vb",
        "outputId": "dc549cbd-d536-4c52-a03f-df944d5154db"
      },
      "execution_count": null,
      "outputs": [
        {
          "output_type": "execute_result",
          "data": {
            "text/plain": [
              "   상점ID  도시\n",
              "0     0  29\n",
              "1     1  29\n",
              "2     2   0\n",
              "3     3   1\n",
              "4     4   2"
            ],
            "text/html": [
              "\n",
              "  <div id=\"df-0200b440-e07f-43ef-8157-b82062febae3\">\n",
              "    <div class=\"colab-df-container\">\n",
              "      <div>\n",
              "<style scoped>\n",
              "    .dataframe tbody tr th:only-of-type {\n",
              "        vertical-align: middle;\n",
              "    }\n",
              "\n",
              "    .dataframe tbody tr th {\n",
              "        vertical-align: top;\n",
              "    }\n",
              "\n",
              "    .dataframe thead th {\n",
              "        text-align: right;\n",
              "    }\n",
              "</style>\n",
              "<table border=\"1\" class=\"dataframe\">\n",
              "  <thead>\n",
              "    <tr style=\"text-align: right;\">\n",
              "      <th></th>\n",
              "      <th>상점ID</th>\n",
              "      <th>도시</th>\n",
              "    </tr>\n",
              "  </thead>\n",
              "  <tbody>\n",
              "    <tr>\n",
              "      <th>0</th>\n",
              "      <td>0</td>\n",
              "      <td>29</td>\n",
              "    </tr>\n",
              "    <tr>\n",
              "      <th>1</th>\n",
              "      <td>1</td>\n",
              "      <td>29</td>\n",
              "    </tr>\n",
              "    <tr>\n",
              "      <th>2</th>\n",
              "      <td>2</td>\n",
              "      <td>0</td>\n",
              "    </tr>\n",
              "    <tr>\n",
              "      <th>3</th>\n",
              "      <td>3</td>\n",
              "      <td>1</td>\n",
              "    </tr>\n",
              "    <tr>\n",
              "      <th>4</th>\n",
              "      <td>4</td>\n",
              "      <td>2</td>\n",
              "    </tr>\n",
              "  </tbody>\n",
              "</table>\n",
              "</div>\n",
              "      <button class=\"colab-df-convert\" onclick=\"convertToInteractive('df-0200b440-e07f-43ef-8157-b82062febae3')\"\n",
              "              title=\"Convert this dataframe to an interactive table.\"\n",
              "              style=\"display:none;\">\n",
              "        \n",
              "  <svg xmlns=\"http://www.w3.org/2000/svg\" height=\"24px\"viewBox=\"0 0 24 24\"\n",
              "       width=\"24px\">\n",
              "    <path d=\"M0 0h24v24H0V0z\" fill=\"none\"/>\n",
              "    <path d=\"M18.56 5.44l.94 2.06.94-2.06 2.06-.94-2.06-.94-.94-2.06-.94 2.06-2.06.94zm-11 1L8.5 8.5l.94-2.06 2.06-.94-2.06-.94L8.5 2.5l-.94 2.06-2.06.94zm10 10l.94 2.06.94-2.06 2.06-.94-2.06-.94-.94-2.06-.94 2.06-2.06.94z\"/><path d=\"M17.41 7.96l-1.37-1.37c-.4-.4-.92-.59-1.43-.59-.52 0-1.04.2-1.43.59L10.3 9.45l-7.72 7.72c-.78.78-.78 2.05 0 2.83L4 21.41c.39.39.9.59 1.41.59.51 0 1.02-.2 1.41-.59l7.78-7.78 2.81-2.81c.8-.78.8-2.07 0-2.86zM5.41 20L4 18.59l7.72-7.72 1.47 1.35L5.41 20z\"/>\n",
              "  </svg>\n",
              "      </button>\n",
              "      \n",
              "  <style>\n",
              "    .colab-df-container {\n",
              "      display:flex;\n",
              "      flex-wrap:wrap;\n",
              "      gap: 12px;\n",
              "    }\n",
              "\n",
              "    .colab-df-convert {\n",
              "      background-color: #E8F0FE;\n",
              "      border: none;\n",
              "      border-radius: 50%;\n",
              "      cursor: pointer;\n",
              "      display: none;\n",
              "      fill: #1967D2;\n",
              "      height: 32px;\n",
              "      padding: 0 0 0 0;\n",
              "      width: 32px;\n",
              "    }\n",
              "\n",
              "    .colab-df-convert:hover {\n",
              "      background-color: #E2EBFA;\n",
              "      box-shadow: 0px 1px 2px rgba(60, 64, 67, 0.3), 0px 1px 3px 1px rgba(60, 64, 67, 0.15);\n",
              "      fill: #174EA6;\n",
              "    }\n",
              "\n",
              "    [theme=dark] .colab-df-convert {\n",
              "      background-color: #3B4455;\n",
              "      fill: #D2E3FC;\n",
              "    }\n",
              "\n",
              "    [theme=dark] .colab-df-convert:hover {\n",
              "      background-color: #434B5C;\n",
              "      box-shadow: 0px 1px 3px 1px rgba(0, 0, 0, 0.15);\n",
              "      filter: drop-shadow(0px 1px 2px rgba(0, 0, 0, 0.3));\n",
              "      fill: #FFFFFF;\n",
              "    }\n",
              "  </style>\n",
              "\n",
              "      <script>\n",
              "        const buttonEl =\n",
              "          document.querySelector('#df-0200b440-e07f-43ef-8157-b82062febae3 button.colab-df-convert');\n",
              "        buttonEl.style.display =\n",
              "          google.colab.kernel.accessAllowed ? 'block' : 'none';\n",
              "\n",
              "        async function convertToInteractive(key) {\n",
              "          const element = document.querySelector('#df-0200b440-e07f-43ef-8157-b82062febae3');\n",
              "          const dataTable =\n",
              "            await google.colab.kernel.invokeFunction('convertToInteractive',\n",
              "                                                     [key], {});\n",
              "          if (!dataTable) return;\n",
              "\n",
              "          const docLinkHtml = 'Like what you see? Visit the ' +\n",
              "            '<a target=\"_blank\" href=https://colab.research.google.com/notebooks/data_table.ipynb>data table notebook</a>'\n",
              "            + ' to learn more about interactive tables.';\n",
              "          element.innerHTML = '';\n",
              "          dataTable['output_type'] = 'display_data';\n",
              "          await google.colab.output.renderOutput(dataTable, element);\n",
              "          const docLink = document.createElement('div');\n",
              "          docLink.innerHTML = docLinkHtml;\n",
              "          element.appendChild(docLink);\n",
              "        }\n",
              "      </script>\n",
              "    </div>\n",
              "  </div>\n",
              "  "
            ]
          },
          "metadata": {},
          "execution_count": 13
        }
      ]
    },
    {
      "cell_type": "code",
      "source": [
        "# items 파생 피처 생성\n",
        "# 상품명 피처 제거\n",
        "items = items.drop(['상품명'], axis=1)"
      ],
      "metadata": {
        "id": "kHFDIlOQr5dL"
      },
      "execution_count": null,
      "outputs": []
    },
    {
      "cell_type": "code",
      "source": [
        "# 상품이 맨 처음 팔린 날을 피처로 추가\n",
        "items['첫 판매월'] = sales_train.groupby('상품ID').agg({'월ID': 'min'})['월ID']\n",
        "\n",
        "items.head()"
      ],
      "metadata": {
        "colab": {
          "base_uri": "https://localhost:8080/",
          "height": 206
        },
        "id": "oRaOEixEr8HC",
        "outputId": "108a1888-cdc5-4ce4-e465-b2785dc5e8e0"
      },
      "execution_count": null,
      "outputs": [
        {
          "output_type": "execute_result",
          "data": {
            "text/plain": [
              "   상품ID  상품분류ID  첫 판매월\n",
              "0     0      40   20.0\n",
              "1     1      76   15.0\n",
              "2     2      40   19.0\n",
              "3     3      40   18.0\n",
              "4     4      40   20.0"
            ],
            "text/html": [
              "\n",
              "  <div id=\"df-d3fc4b9d-307c-4f1c-aec0-ea8262729793\">\n",
              "    <div class=\"colab-df-container\">\n",
              "      <div>\n",
              "<style scoped>\n",
              "    .dataframe tbody tr th:only-of-type {\n",
              "        vertical-align: middle;\n",
              "    }\n",
              "\n",
              "    .dataframe tbody tr th {\n",
              "        vertical-align: top;\n",
              "    }\n",
              "\n",
              "    .dataframe thead th {\n",
              "        text-align: right;\n",
              "    }\n",
              "</style>\n",
              "<table border=\"1\" class=\"dataframe\">\n",
              "  <thead>\n",
              "    <tr style=\"text-align: right;\">\n",
              "      <th></th>\n",
              "      <th>상품ID</th>\n",
              "      <th>상품분류ID</th>\n",
              "      <th>첫 판매월</th>\n",
              "    </tr>\n",
              "  </thead>\n",
              "  <tbody>\n",
              "    <tr>\n",
              "      <th>0</th>\n",
              "      <td>0</td>\n",
              "      <td>40</td>\n",
              "      <td>20.0</td>\n",
              "    </tr>\n",
              "    <tr>\n",
              "      <th>1</th>\n",
              "      <td>1</td>\n",
              "      <td>76</td>\n",
              "      <td>15.0</td>\n",
              "    </tr>\n",
              "    <tr>\n",
              "      <th>2</th>\n",
              "      <td>2</td>\n",
              "      <td>40</td>\n",
              "      <td>19.0</td>\n",
              "    </tr>\n",
              "    <tr>\n",
              "      <th>3</th>\n",
              "      <td>3</td>\n",
              "      <td>40</td>\n",
              "      <td>18.0</td>\n",
              "    </tr>\n",
              "    <tr>\n",
              "      <th>4</th>\n",
              "      <td>4</td>\n",
              "      <td>40</td>\n",
              "      <td>20.0</td>\n",
              "    </tr>\n",
              "  </tbody>\n",
              "</table>\n",
              "</div>\n",
              "      <button class=\"colab-df-convert\" onclick=\"convertToInteractive('df-d3fc4b9d-307c-4f1c-aec0-ea8262729793')\"\n",
              "              title=\"Convert this dataframe to an interactive table.\"\n",
              "              style=\"display:none;\">\n",
              "        \n",
              "  <svg xmlns=\"http://www.w3.org/2000/svg\" height=\"24px\"viewBox=\"0 0 24 24\"\n",
              "       width=\"24px\">\n",
              "    <path d=\"M0 0h24v24H0V0z\" fill=\"none\"/>\n",
              "    <path d=\"M18.56 5.44l.94 2.06.94-2.06 2.06-.94-2.06-.94-.94-2.06-.94 2.06-2.06.94zm-11 1L8.5 8.5l.94-2.06 2.06-.94-2.06-.94L8.5 2.5l-.94 2.06-2.06.94zm10 10l.94 2.06.94-2.06 2.06-.94-2.06-.94-.94-2.06-.94 2.06-2.06.94z\"/><path d=\"M17.41 7.96l-1.37-1.37c-.4-.4-.92-.59-1.43-.59-.52 0-1.04.2-1.43.59L10.3 9.45l-7.72 7.72c-.78.78-.78 2.05 0 2.83L4 21.41c.39.39.9.59 1.41.59.51 0 1.02-.2 1.41-.59l7.78-7.78 2.81-2.81c.8-.78.8-2.07 0-2.86zM5.41 20L4 18.59l7.72-7.72 1.47 1.35L5.41 20z\"/>\n",
              "  </svg>\n",
              "      </button>\n",
              "      \n",
              "  <style>\n",
              "    .colab-df-container {\n",
              "      display:flex;\n",
              "      flex-wrap:wrap;\n",
              "      gap: 12px;\n",
              "    }\n",
              "\n",
              "    .colab-df-convert {\n",
              "      background-color: #E8F0FE;\n",
              "      border: none;\n",
              "      border-radius: 50%;\n",
              "      cursor: pointer;\n",
              "      display: none;\n",
              "      fill: #1967D2;\n",
              "      height: 32px;\n",
              "      padding: 0 0 0 0;\n",
              "      width: 32px;\n",
              "    }\n",
              "\n",
              "    .colab-df-convert:hover {\n",
              "      background-color: #E2EBFA;\n",
              "      box-shadow: 0px 1px 2px rgba(60, 64, 67, 0.3), 0px 1px 3px 1px rgba(60, 64, 67, 0.15);\n",
              "      fill: #174EA6;\n",
              "    }\n",
              "\n",
              "    [theme=dark] .colab-df-convert {\n",
              "      background-color: #3B4455;\n",
              "      fill: #D2E3FC;\n",
              "    }\n",
              "\n",
              "    [theme=dark] .colab-df-convert:hover {\n",
              "      background-color: #434B5C;\n",
              "      box-shadow: 0px 1px 3px 1px rgba(0, 0, 0, 0.15);\n",
              "      filter: drop-shadow(0px 1px 2px rgba(0, 0, 0, 0.3));\n",
              "      fill: #FFFFFF;\n",
              "    }\n",
              "  </style>\n",
              "\n",
              "      <script>\n",
              "        const buttonEl =\n",
              "          document.querySelector('#df-d3fc4b9d-307c-4f1c-aec0-ea8262729793 button.colab-df-convert');\n",
              "        buttonEl.style.display =\n",
              "          google.colab.kernel.accessAllowed ? 'block' : 'none';\n",
              "\n",
              "        async function convertToInteractive(key) {\n",
              "          const element = document.querySelector('#df-d3fc4b9d-307c-4f1c-aec0-ea8262729793');\n",
              "          const dataTable =\n",
              "            await google.colab.kernel.invokeFunction('convertToInteractive',\n",
              "                                                     [key], {});\n",
              "          if (!dataTable) return;\n",
              "\n",
              "          const docLinkHtml = 'Like what you see? Visit the ' +\n",
              "            '<a target=\"_blank\" href=https://colab.research.google.com/notebooks/data_table.ipynb>data table notebook</a>'\n",
              "            + ' to learn more about interactive tables.';\n",
              "          element.innerHTML = '';\n",
              "          dataTable['output_type'] = 'display_data';\n",
              "          await google.colab.output.renderOutput(dataTable, element);\n",
              "          const docLink = document.createElement('div');\n",
              "          docLink.innerHTML = docLinkHtml;\n",
              "          element.appendChild(docLink);\n",
              "        }\n",
              "      </script>\n",
              "    </div>\n",
              "  </div>\n",
              "  "
            ]
          },
          "metadata": {},
          "execution_count": 15
        }
      ]
    },
    {
      "cell_type": "code",
      "source": [
        "items[items['첫 판매월'].isna()]"
      ],
      "metadata": {
        "colab": {
          "base_uri": "https://localhost:8080/",
          "height": 424
        },
        "id": "TNIsfdzar9Rb",
        "outputId": "21e871b0-099d-401c-bc55-470c4b267a7a"
      },
      "execution_count": null,
      "outputs": [
        {
          "output_type": "execute_result",
          "data": {
            "text/plain": [
              "        상품ID  상품분류ID  첫 판매월\n",
              "83        83      40    NaN\n",
              "140      140      45    NaN\n",
              "168      168      44    NaN\n",
              "173      173      45    NaN\n",
              "204      204      44    NaN\n",
              "...      ...     ...    ...\n",
              "21974  21974      61    NaN\n",
              "21975  21975      61    NaN\n",
              "22022  22022      40    NaN\n",
              "22035  22035      40    NaN\n",
              "22137  22137      40    NaN\n",
              "\n",
              "[368 rows x 3 columns]"
            ],
            "text/html": [
              "\n",
              "  <div id=\"df-49a5a72b-5d00-4bca-b84e-3b36013be331\">\n",
              "    <div class=\"colab-df-container\">\n",
              "      <div>\n",
              "<style scoped>\n",
              "    .dataframe tbody tr th:only-of-type {\n",
              "        vertical-align: middle;\n",
              "    }\n",
              "\n",
              "    .dataframe tbody tr th {\n",
              "        vertical-align: top;\n",
              "    }\n",
              "\n",
              "    .dataframe thead th {\n",
              "        text-align: right;\n",
              "    }\n",
              "</style>\n",
              "<table border=\"1\" class=\"dataframe\">\n",
              "  <thead>\n",
              "    <tr style=\"text-align: right;\">\n",
              "      <th></th>\n",
              "      <th>상품ID</th>\n",
              "      <th>상품분류ID</th>\n",
              "      <th>첫 판매월</th>\n",
              "    </tr>\n",
              "  </thead>\n",
              "  <tbody>\n",
              "    <tr>\n",
              "      <th>83</th>\n",
              "      <td>83</td>\n",
              "      <td>40</td>\n",
              "      <td>NaN</td>\n",
              "    </tr>\n",
              "    <tr>\n",
              "      <th>140</th>\n",
              "      <td>140</td>\n",
              "      <td>45</td>\n",
              "      <td>NaN</td>\n",
              "    </tr>\n",
              "    <tr>\n",
              "      <th>168</th>\n",
              "      <td>168</td>\n",
              "      <td>44</td>\n",
              "      <td>NaN</td>\n",
              "    </tr>\n",
              "    <tr>\n",
              "      <th>173</th>\n",
              "      <td>173</td>\n",
              "      <td>45</td>\n",
              "      <td>NaN</td>\n",
              "    </tr>\n",
              "    <tr>\n",
              "      <th>204</th>\n",
              "      <td>204</td>\n",
              "      <td>44</td>\n",
              "      <td>NaN</td>\n",
              "    </tr>\n",
              "    <tr>\n",
              "      <th>...</th>\n",
              "      <td>...</td>\n",
              "      <td>...</td>\n",
              "      <td>...</td>\n",
              "    </tr>\n",
              "    <tr>\n",
              "      <th>21974</th>\n",
              "      <td>21974</td>\n",
              "      <td>61</td>\n",
              "      <td>NaN</td>\n",
              "    </tr>\n",
              "    <tr>\n",
              "      <th>21975</th>\n",
              "      <td>21975</td>\n",
              "      <td>61</td>\n",
              "      <td>NaN</td>\n",
              "    </tr>\n",
              "    <tr>\n",
              "      <th>22022</th>\n",
              "      <td>22022</td>\n",
              "      <td>40</td>\n",
              "      <td>NaN</td>\n",
              "    </tr>\n",
              "    <tr>\n",
              "      <th>22035</th>\n",
              "      <td>22035</td>\n",
              "      <td>40</td>\n",
              "      <td>NaN</td>\n",
              "    </tr>\n",
              "    <tr>\n",
              "      <th>22137</th>\n",
              "      <td>22137</td>\n",
              "      <td>40</td>\n",
              "      <td>NaN</td>\n",
              "    </tr>\n",
              "  </tbody>\n",
              "</table>\n",
              "<p>368 rows × 3 columns</p>\n",
              "</div>\n",
              "      <button class=\"colab-df-convert\" onclick=\"convertToInteractive('df-49a5a72b-5d00-4bca-b84e-3b36013be331')\"\n",
              "              title=\"Convert this dataframe to an interactive table.\"\n",
              "              style=\"display:none;\">\n",
              "        \n",
              "  <svg xmlns=\"http://www.w3.org/2000/svg\" height=\"24px\"viewBox=\"0 0 24 24\"\n",
              "       width=\"24px\">\n",
              "    <path d=\"M0 0h24v24H0V0z\" fill=\"none\"/>\n",
              "    <path d=\"M18.56 5.44l.94 2.06.94-2.06 2.06-.94-2.06-.94-.94-2.06-.94 2.06-2.06.94zm-11 1L8.5 8.5l.94-2.06 2.06-.94-2.06-.94L8.5 2.5l-.94 2.06-2.06.94zm10 10l.94 2.06.94-2.06 2.06-.94-2.06-.94-.94-2.06-.94 2.06-2.06.94z\"/><path d=\"M17.41 7.96l-1.37-1.37c-.4-.4-.92-.59-1.43-.59-.52 0-1.04.2-1.43.59L10.3 9.45l-7.72 7.72c-.78.78-.78 2.05 0 2.83L4 21.41c.39.39.9.59 1.41.59.51 0 1.02-.2 1.41-.59l7.78-7.78 2.81-2.81c.8-.78.8-2.07 0-2.86zM5.41 20L4 18.59l7.72-7.72 1.47 1.35L5.41 20z\"/>\n",
              "  </svg>\n",
              "      </button>\n",
              "      \n",
              "  <style>\n",
              "    .colab-df-container {\n",
              "      display:flex;\n",
              "      flex-wrap:wrap;\n",
              "      gap: 12px;\n",
              "    }\n",
              "\n",
              "    .colab-df-convert {\n",
              "      background-color: #E8F0FE;\n",
              "      border: none;\n",
              "      border-radius: 50%;\n",
              "      cursor: pointer;\n",
              "      display: none;\n",
              "      fill: #1967D2;\n",
              "      height: 32px;\n",
              "      padding: 0 0 0 0;\n",
              "      width: 32px;\n",
              "    }\n",
              "\n",
              "    .colab-df-convert:hover {\n",
              "      background-color: #E2EBFA;\n",
              "      box-shadow: 0px 1px 2px rgba(60, 64, 67, 0.3), 0px 1px 3px 1px rgba(60, 64, 67, 0.15);\n",
              "      fill: #174EA6;\n",
              "    }\n",
              "\n",
              "    [theme=dark] .colab-df-convert {\n",
              "      background-color: #3B4455;\n",
              "      fill: #D2E3FC;\n",
              "    }\n",
              "\n",
              "    [theme=dark] .colab-df-convert:hover {\n",
              "      background-color: #434B5C;\n",
              "      box-shadow: 0px 1px 3px 1px rgba(0, 0, 0, 0.15);\n",
              "      filter: drop-shadow(0px 1px 2px rgba(0, 0, 0, 0.3));\n",
              "      fill: #FFFFFF;\n",
              "    }\n",
              "  </style>\n",
              "\n",
              "      <script>\n",
              "        const buttonEl =\n",
              "          document.querySelector('#df-49a5a72b-5d00-4bca-b84e-3b36013be331 button.colab-df-convert');\n",
              "        buttonEl.style.display =\n",
              "          google.colab.kernel.accessAllowed ? 'block' : 'none';\n",
              "\n",
              "        async function convertToInteractive(key) {\n",
              "          const element = document.querySelector('#df-49a5a72b-5d00-4bca-b84e-3b36013be331');\n",
              "          const dataTable =\n",
              "            await google.colab.kernel.invokeFunction('convertToInteractive',\n",
              "                                                     [key], {});\n",
              "          if (!dataTable) return;\n",
              "\n",
              "          const docLinkHtml = 'Like what you see? Visit the ' +\n",
              "            '<a target=\"_blank\" href=https://colab.research.google.com/notebooks/data_table.ipynb>data table notebook</a>'\n",
              "            + ' to learn more about interactive tables.';\n",
              "          element.innerHTML = '';\n",
              "          dataTable['output_type'] = 'display_data';\n",
              "          await google.colab.output.renderOutput(dataTable, element);\n",
              "          const docLink = document.createElement('div');\n",
              "          docLink.innerHTML = docLinkHtml;\n",
              "          element.appendChild(docLink);\n",
              "        }\n",
              "      </script>\n",
              "    </div>\n",
              "  </div>\n",
              "  "
            ]
          },
          "metadata": {},
          "execution_count": 16
        }
      ]
    },
    {
      "cell_type": "code",
      "source": [
        "# 첫 판매월 피처의 결측값을 34로 대체\n",
        "items['첫 판매월'] = items['첫 판매월'].fillna(34)"
      ],
      "metadata": {
        "id": "1wsTNZq6sEHU"
      },
      "execution_count": null,
      "outputs": []
    },
    {
      "cell_type": "code",
      "source": [
        "# item_categories 파생 피처 생성 및 인코딩\n",
        "\n",
        "# 상품분류명의 첫 단어를 대분류로 추출\n",
        "item_categories['대분류'] = item_categories['상품분류명'].apply(lambda x: x.split()[0])"
      ],
      "metadata": {
        "id": "LLOIFlyKsFbG"
      },
      "execution_count": null,
      "outputs": []
    },
    {
      "cell_type": "code",
      "source": [
        "item_categories['대분류'].value_counts()"
      ],
      "metadata": {
        "colab": {
          "base_uri": "https://localhost:8080/"
        },
        "id": "0ceXKGP2sRu7",
        "outputId": "4ca9dadf-788a-4997-c17c-e3b7821b588f"
      },
      "execution_count": null,
      "outputs": [
        {
          "output_type": "execute_result",
          "data": {
            "text/plain": [
              "Игры          14\n",
              "Книги         13\n",
              "Подарки       12\n",
              "Игровые        8\n",
              "Аксессуары     7\n",
              "Музыка         6\n",
              "Программы      6\n",
              "Карты          5\n",
              "Кино           5\n",
              "Служебные      2\n",
              "Чистые         2\n",
              "PC             1\n",
              "Билеты         1\n",
              "Доставка       1\n",
              "Элементы       1\n",
              "Name: 대분류, dtype: int64"
            ]
          },
          "metadata": {},
          "execution_count": 19
        }
      ]
    },
    {
      "cell_type": "code",
      "source": [
        "def make_etc(x):\n",
        "    if len(item_categories[item_categories['대분류']==x]) >= 5:\n",
        "        return x\n",
        "    else:\n",
        "        return 'etc'\n",
        "\n",
        "# 대분류의 고윳값 개수가 5개 미만이면 'etc'로 바꾸기\n",
        "item_categories['대분류'] = item_categories['대분류'].apply(make_etc)"
      ],
      "metadata": {
        "id": "rkkDW1yzsSfu"
      },
      "execution_count": null,
      "outputs": []
    },
    {
      "cell_type": "code",
      "source": [
        "item_categories.head()"
      ],
      "metadata": {
        "colab": {
          "base_uri": "https://localhost:8080/",
          "height": 206
        },
        "id": "4gDivhCesWH_",
        "outputId": "1688b556-0517-4ed5-ae17-f8bba0628e3a"
      },
      "execution_count": null,
      "outputs": [
        {
          "output_type": "execute_result",
          "data": {
            "text/plain": [
              "                     상품분류명  상품분류ID         대분류\n",
              "0  PC - Гарнитуры/Наушники       0         etc\n",
              "1         Аксессуары - PS2       1  Аксессуары\n",
              "2         Аксессуары - PS3       2  Аксессуары\n",
              "3         Аксессуары - PS4       3  Аксессуары\n",
              "4         Аксессуары - PSP       4  Аксессуары"
            ],
            "text/html": [
              "\n",
              "  <div id=\"df-cb721075-feec-4bfd-97fe-8db13b146f85\">\n",
              "    <div class=\"colab-df-container\">\n",
              "      <div>\n",
              "<style scoped>\n",
              "    .dataframe tbody tr th:only-of-type {\n",
              "        vertical-align: middle;\n",
              "    }\n",
              "\n",
              "    .dataframe tbody tr th {\n",
              "        vertical-align: top;\n",
              "    }\n",
              "\n",
              "    .dataframe thead th {\n",
              "        text-align: right;\n",
              "    }\n",
              "</style>\n",
              "<table border=\"1\" class=\"dataframe\">\n",
              "  <thead>\n",
              "    <tr style=\"text-align: right;\">\n",
              "      <th></th>\n",
              "      <th>상품분류명</th>\n",
              "      <th>상품분류ID</th>\n",
              "      <th>대분류</th>\n",
              "    </tr>\n",
              "  </thead>\n",
              "  <tbody>\n",
              "    <tr>\n",
              "      <th>0</th>\n",
              "      <td>PC - Гарнитуры/Наушники</td>\n",
              "      <td>0</td>\n",
              "      <td>etc</td>\n",
              "    </tr>\n",
              "    <tr>\n",
              "      <th>1</th>\n",
              "      <td>Аксессуары - PS2</td>\n",
              "      <td>1</td>\n",
              "      <td>Аксессуары</td>\n",
              "    </tr>\n",
              "    <tr>\n",
              "      <th>2</th>\n",
              "      <td>Аксессуары - PS3</td>\n",
              "      <td>2</td>\n",
              "      <td>Аксессуары</td>\n",
              "    </tr>\n",
              "    <tr>\n",
              "      <th>3</th>\n",
              "      <td>Аксессуары - PS4</td>\n",
              "      <td>3</td>\n",
              "      <td>Аксессуары</td>\n",
              "    </tr>\n",
              "    <tr>\n",
              "      <th>4</th>\n",
              "      <td>Аксессуары - PSP</td>\n",
              "      <td>4</td>\n",
              "      <td>Аксессуары</td>\n",
              "    </tr>\n",
              "  </tbody>\n",
              "</table>\n",
              "</div>\n",
              "      <button class=\"colab-df-convert\" onclick=\"convertToInteractive('df-cb721075-feec-4bfd-97fe-8db13b146f85')\"\n",
              "              title=\"Convert this dataframe to an interactive table.\"\n",
              "              style=\"display:none;\">\n",
              "        \n",
              "  <svg xmlns=\"http://www.w3.org/2000/svg\" height=\"24px\"viewBox=\"0 0 24 24\"\n",
              "       width=\"24px\">\n",
              "    <path d=\"M0 0h24v24H0V0z\" fill=\"none\"/>\n",
              "    <path d=\"M18.56 5.44l.94 2.06.94-2.06 2.06-.94-2.06-.94-.94-2.06-.94 2.06-2.06.94zm-11 1L8.5 8.5l.94-2.06 2.06-.94-2.06-.94L8.5 2.5l-.94 2.06-2.06.94zm10 10l.94 2.06.94-2.06 2.06-.94-2.06-.94-.94-2.06-.94 2.06-2.06.94z\"/><path d=\"M17.41 7.96l-1.37-1.37c-.4-.4-.92-.59-1.43-.59-.52 0-1.04.2-1.43.59L10.3 9.45l-7.72 7.72c-.78.78-.78 2.05 0 2.83L4 21.41c.39.39.9.59 1.41.59.51 0 1.02-.2 1.41-.59l7.78-7.78 2.81-2.81c.8-.78.8-2.07 0-2.86zM5.41 20L4 18.59l7.72-7.72 1.47 1.35L5.41 20z\"/>\n",
              "  </svg>\n",
              "      </button>\n",
              "      \n",
              "  <style>\n",
              "    .colab-df-container {\n",
              "      display:flex;\n",
              "      flex-wrap:wrap;\n",
              "      gap: 12px;\n",
              "    }\n",
              "\n",
              "    .colab-df-convert {\n",
              "      background-color: #E8F0FE;\n",
              "      border: none;\n",
              "      border-radius: 50%;\n",
              "      cursor: pointer;\n",
              "      display: none;\n",
              "      fill: #1967D2;\n",
              "      height: 32px;\n",
              "      padding: 0 0 0 0;\n",
              "      width: 32px;\n",
              "    }\n",
              "\n",
              "    .colab-df-convert:hover {\n",
              "      background-color: #E2EBFA;\n",
              "      box-shadow: 0px 1px 2px rgba(60, 64, 67, 0.3), 0px 1px 3px 1px rgba(60, 64, 67, 0.15);\n",
              "      fill: #174EA6;\n",
              "    }\n",
              "\n",
              "    [theme=dark] .colab-df-convert {\n",
              "      background-color: #3B4455;\n",
              "      fill: #D2E3FC;\n",
              "    }\n",
              "\n",
              "    [theme=dark] .colab-df-convert:hover {\n",
              "      background-color: #434B5C;\n",
              "      box-shadow: 0px 1px 3px 1px rgba(0, 0, 0, 0.15);\n",
              "      filter: drop-shadow(0px 1px 2px rgba(0, 0, 0, 0.3));\n",
              "      fill: #FFFFFF;\n",
              "    }\n",
              "  </style>\n",
              "\n",
              "      <script>\n",
              "        const buttonEl =\n",
              "          document.querySelector('#df-cb721075-feec-4bfd-97fe-8db13b146f85 button.colab-df-convert');\n",
              "        buttonEl.style.display =\n",
              "          google.colab.kernel.accessAllowed ? 'block' : 'none';\n",
              "\n",
              "        async function convertToInteractive(key) {\n",
              "          const element = document.querySelector('#df-cb721075-feec-4bfd-97fe-8db13b146f85');\n",
              "          const dataTable =\n",
              "            await google.colab.kernel.invokeFunction('convertToInteractive',\n",
              "                                                     [key], {});\n",
              "          if (!dataTable) return;\n",
              "\n",
              "          const docLinkHtml = 'Like what you see? Visit the ' +\n",
              "            '<a target=\"_blank\" href=https://colab.research.google.com/notebooks/data_table.ipynb>data table notebook</a>'\n",
              "            + ' to learn more about interactive tables.';\n",
              "          element.innerHTML = '';\n",
              "          dataTable['output_type'] = 'display_data';\n",
              "          await google.colab.output.renderOutput(dataTable, element);\n",
              "          const docLink = document.createElement('div');\n",
              "          docLink.innerHTML = docLinkHtml;\n",
              "          element.appendChild(docLink);\n",
              "        }\n",
              "      </script>\n",
              "    </div>\n",
              "  </div>\n",
              "  "
            ]
          },
          "metadata": {},
          "execution_count": 21
        }
      ]
    },
    {
      "cell_type": "code",
      "source": [
        "# 레이블 인코더 생성\n",
        "label_encoder = LabelEncoder()\n",
        "\n",
        "# 대분류 피처 레이블 인코딩\n",
        "item_categories['대분류'] = label_encoder.fit_transform(item_categories['대분류'])\n",
        "\n",
        "# 상품분류명 피처 제거\n",
        "item_categories = item_categories.drop('상품분류명', axis=1)"
      ],
      "metadata": {
        "id": "nfgP9TpisZD4"
      },
      "execution_count": null,
      "outputs": []
    },
    {
      "cell_type": "code",
      "source": [
        "# 피처 엔지니어링 : 데이터 조합 및 파생 피처 생성\n",
        "\n",
        "from itertools import product\n",
        "import numpy as np\n",
        "\n",
        "train = []\n",
        "# 월ID, 상점ID, 상품ID 조합 생성\n",
        "for i in sales_train['월ID'].unique():\n",
        "    all_shop = sales_train.loc[sales_train['월ID']==i, '상점ID'].unique()\n",
        "    all_item = sales_train.loc[sales_train['월ID']==i, '상품ID'].unique()\n",
        "    train.append(np.array(list(product([i], all_shop, all_item))))"
      ],
      "metadata": {
        "id": "ne5GdP8DsauO"
      },
      "execution_count": null,
      "outputs": []
    },
    {
      "cell_type": "code",
      "source": [
        "idx_features = ['월ID', '상점ID', '상품ID'] # 기준 피처\n",
        "train = pd.DataFrame(np.vstack(train), columns=idx_features)"
      ],
      "metadata": {
        "id": "1WEu_Yq_sjpy"
      },
      "execution_count": null,
      "outputs": []
    },
    {
      "cell_type": "code",
      "source": [
        "# 파생 피처 생성\n",
        "group = sales_train.groupby(idx_features).agg({'판매량':'sum', '판매가':'mean'})\n",
        "\n",
        "group = group.reset_index()\n",
        "group = group.rename(columns={'판매량': '월간 판매량', '판매가': '평균 판매가'})\n",
        "train = train.merge(group, on=idx_features, how='left')\n",
        "\n",
        "train.head()"
      ],
      "metadata": {
        "colab": {
          "base_uri": "https://localhost:8080/",
          "height": 206
        },
        "id": "gDN16OT8spXE",
        "outputId": "b91f973c-904a-482b-b372-1c245aa29b9e"
      },
      "execution_count": null,
      "outputs": [
        {
          "output_type": "execute_result",
          "data": {
            "text/plain": [
              "   월ID  상점ID   상품ID  월간 판매량  평균 판매가\n",
              "0    0    59  22154     1.0   999.0\n",
              "1    0    59   2552     NaN     NaN\n",
              "2    0    59   2554     NaN     NaN\n",
              "3    0    59   2555     NaN     NaN\n",
              "4    0    59   2564     NaN     NaN"
            ],
            "text/html": [
              "\n",
              "  <div id=\"df-240758c4-8e9a-4421-9d2d-556de8ae2404\">\n",
              "    <div class=\"colab-df-container\">\n",
              "      <div>\n",
              "<style scoped>\n",
              "    .dataframe tbody tr th:only-of-type {\n",
              "        vertical-align: middle;\n",
              "    }\n",
              "\n",
              "    .dataframe tbody tr th {\n",
              "        vertical-align: top;\n",
              "    }\n",
              "\n",
              "    .dataframe thead th {\n",
              "        text-align: right;\n",
              "    }\n",
              "</style>\n",
              "<table border=\"1\" class=\"dataframe\">\n",
              "  <thead>\n",
              "    <tr style=\"text-align: right;\">\n",
              "      <th></th>\n",
              "      <th>월ID</th>\n",
              "      <th>상점ID</th>\n",
              "      <th>상품ID</th>\n",
              "      <th>월간 판매량</th>\n",
              "      <th>평균 판매가</th>\n",
              "    </tr>\n",
              "  </thead>\n",
              "  <tbody>\n",
              "    <tr>\n",
              "      <th>0</th>\n",
              "      <td>0</td>\n",
              "      <td>59</td>\n",
              "      <td>22154</td>\n",
              "      <td>1.0</td>\n",
              "      <td>999.0</td>\n",
              "    </tr>\n",
              "    <tr>\n",
              "      <th>1</th>\n",
              "      <td>0</td>\n",
              "      <td>59</td>\n",
              "      <td>2552</td>\n",
              "      <td>NaN</td>\n",
              "      <td>NaN</td>\n",
              "    </tr>\n",
              "    <tr>\n",
              "      <th>2</th>\n",
              "      <td>0</td>\n",
              "      <td>59</td>\n",
              "      <td>2554</td>\n",
              "      <td>NaN</td>\n",
              "      <td>NaN</td>\n",
              "    </tr>\n",
              "    <tr>\n",
              "      <th>3</th>\n",
              "      <td>0</td>\n",
              "      <td>59</td>\n",
              "      <td>2555</td>\n",
              "      <td>NaN</td>\n",
              "      <td>NaN</td>\n",
              "    </tr>\n",
              "    <tr>\n",
              "      <th>4</th>\n",
              "      <td>0</td>\n",
              "      <td>59</td>\n",
              "      <td>2564</td>\n",
              "      <td>NaN</td>\n",
              "      <td>NaN</td>\n",
              "    </tr>\n",
              "  </tbody>\n",
              "</table>\n",
              "</div>\n",
              "      <button class=\"colab-df-convert\" onclick=\"convertToInteractive('df-240758c4-8e9a-4421-9d2d-556de8ae2404')\"\n",
              "              title=\"Convert this dataframe to an interactive table.\"\n",
              "              style=\"display:none;\">\n",
              "        \n",
              "  <svg xmlns=\"http://www.w3.org/2000/svg\" height=\"24px\"viewBox=\"0 0 24 24\"\n",
              "       width=\"24px\">\n",
              "    <path d=\"M0 0h24v24H0V0z\" fill=\"none\"/>\n",
              "    <path d=\"M18.56 5.44l.94 2.06.94-2.06 2.06-.94-2.06-.94-.94-2.06-.94 2.06-2.06.94zm-11 1L8.5 8.5l.94-2.06 2.06-.94-2.06-.94L8.5 2.5l-.94 2.06-2.06.94zm10 10l.94 2.06.94-2.06 2.06-.94-2.06-.94-.94-2.06-.94 2.06-2.06.94z\"/><path d=\"M17.41 7.96l-1.37-1.37c-.4-.4-.92-.59-1.43-.59-.52 0-1.04.2-1.43.59L10.3 9.45l-7.72 7.72c-.78.78-.78 2.05 0 2.83L4 21.41c.39.39.9.59 1.41.59.51 0 1.02-.2 1.41-.59l7.78-7.78 2.81-2.81c.8-.78.8-2.07 0-2.86zM5.41 20L4 18.59l7.72-7.72 1.47 1.35L5.41 20z\"/>\n",
              "  </svg>\n",
              "      </button>\n",
              "      \n",
              "  <style>\n",
              "    .colab-df-container {\n",
              "      display:flex;\n",
              "      flex-wrap:wrap;\n",
              "      gap: 12px;\n",
              "    }\n",
              "\n",
              "    .colab-df-convert {\n",
              "      background-color: #E8F0FE;\n",
              "      border: none;\n",
              "      border-radius: 50%;\n",
              "      cursor: pointer;\n",
              "      display: none;\n",
              "      fill: #1967D2;\n",
              "      height: 32px;\n",
              "      padding: 0 0 0 0;\n",
              "      width: 32px;\n",
              "    }\n",
              "\n",
              "    .colab-df-convert:hover {\n",
              "      background-color: #E2EBFA;\n",
              "      box-shadow: 0px 1px 2px rgba(60, 64, 67, 0.3), 0px 1px 3px 1px rgba(60, 64, 67, 0.15);\n",
              "      fill: #174EA6;\n",
              "    }\n",
              "\n",
              "    [theme=dark] .colab-df-convert {\n",
              "      background-color: #3B4455;\n",
              "      fill: #D2E3FC;\n",
              "    }\n",
              "\n",
              "    [theme=dark] .colab-df-convert:hover {\n",
              "      background-color: #434B5C;\n",
              "      box-shadow: 0px 1px 3px 1px rgba(0, 0, 0, 0.15);\n",
              "      filter: drop-shadow(0px 1px 2px rgba(0, 0, 0, 0.3));\n",
              "      fill: #FFFFFF;\n",
              "    }\n",
              "  </style>\n",
              "\n",
              "      <script>\n",
              "        const buttonEl =\n",
              "          document.querySelector('#df-240758c4-8e9a-4421-9d2d-556de8ae2404 button.colab-df-convert');\n",
              "        buttonEl.style.display =\n",
              "          google.colab.kernel.accessAllowed ? 'block' : 'none';\n",
              "\n",
              "        async function convertToInteractive(key) {\n",
              "          const element = document.querySelector('#df-240758c4-8e9a-4421-9d2d-556de8ae2404');\n",
              "          const dataTable =\n",
              "            await google.colab.kernel.invokeFunction('convertToInteractive',\n",
              "                                                     [key], {});\n",
              "          if (!dataTable) return;\n",
              "\n",
              "          const docLinkHtml = 'Like what you see? Visit the ' +\n",
              "            '<a target=\"_blank\" href=https://colab.research.google.com/notebooks/data_table.ipynb>data table notebook</a>'\n",
              "            + ' to learn more about interactive tables.';\n",
              "          element.innerHTML = '';\n",
              "          dataTable['output_type'] = 'display_data';\n",
              "          await google.colab.output.renderOutput(dataTable, element);\n",
              "          const docLink = document.createElement('div');\n",
              "          docLink.innerHTML = docLinkHtml;\n",
              "          element.appendChild(docLink);\n",
              "        }\n",
              "      </script>\n",
              "    </div>\n",
              "  </div>\n",
              "  "
            ]
          },
          "metadata": {},
          "execution_count": 27
        }
      ]
    },
    {
      "cell_type": "code",
      "source": [
        "import gc\n",
        "del group\n",
        "gc.collect();"
      ],
      "metadata": {
        "id": "a1U-unVKs0cm"
      },
      "execution_count": null,
      "outputs": []
    },
    {
      "cell_type": "code",
      "source": [
        "# 상품 판매건수 피처 추가\n",
        "group = sales_train.groupby(idx_features).agg({'판매량': 'count'})\n",
        "group = group.reset_index()\n",
        "group = group.rename(columns={'판매량': '판매건수'})\n",
        "\n",
        "train = train.merge(group, on=idx_features, how='left')\n",
        "\n",
        "# 가비지 컬렉션\n",
        "del group, sales_train\n",
        "gc.collect()\n",
        "\n",
        "train.head()"
      ],
      "metadata": {
        "colab": {
          "base_uri": "https://localhost:8080/",
          "height": 206
        },
        "id": "DFPlm5dYs4pT",
        "outputId": "26a992de-4c8c-4d0b-8ceb-908a38d46de8"
      },
      "execution_count": null,
      "outputs": [
        {
          "output_type": "execute_result",
          "data": {
            "text/plain": [
              "   월ID  상점ID   상품ID  월간 판매량  평균 판매가  판매건수\n",
              "0    0    59  22154     1.0   999.0   1.0\n",
              "1    0    59   2552     NaN     NaN   NaN\n",
              "2    0    59   2554     NaN     NaN   NaN\n",
              "3    0    59   2555     NaN     NaN   NaN\n",
              "4    0    59   2564     NaN     NaN   NaN"
            ],
            "text/html": [
              "\n",
              "  <div id=\"df-f8d3c94b-e90e-4414-84f9-3b249e923f05\">\n",
              "    <div class=\"colab-df-container\">\n",
              "      <div>\n",
              "<style scoped>\n",
              "    .dataframe tbody tr th:only-of-type {\n",
              "        vertical-align: middle;\n",
              "    }\n",
              "\n",
              "    .dataframe tbody tr th {\n",
              "        vertical-align: top;\n",
              "    }\n",
              "\n",
              "    .dataframe thead th {\n",
              "        text-align: right;\n",
              "    }\n",
              "</style>\n",
              "<table border=\"1\" class=\"dataframe\">\n",
              "  <thead>\n",
              "    <tr style=\"text-align: right;\">\n",
              "      <th></th>\n",
              "      <th>월ID</th>\n",
              "      <th>상점ID</th>\n",
              "      <th>상품ID</th>\n",
              "      <th>월간 판매량</th>\n",
              "      <th>평균 판매가</th>\n",
              "      <th>판매건수</th>\n",
              "    </tr>\n",
              "  </thead>\n",
              "  <tbody>\n",
              "    <tr>\n",
              "      <th>0</th>\n",
              "      <td>0</td>\n",
              "      <td>59</td>\n",
              "      <td>22154</td>\n",
              "      <td>1.0</td>\n",
              "      <td>999.0</td>\n",
              "      <td>1.0</td>\n",
              "    </tr>\n",
              "    <tr>\n",
              "      <th>1</th>\n",
              "      <td>0</td>\n",
              "      <td>59</td>\n",
              "      <td>2552</td>\n",
              "      <td>NaN</td>\n",
              "      <td>NaN</td>\n",
              "      <td>NaN</td>\n",
              "    </tr>\n",
              "    <tr>\n",
              "      <th>2</th>\n",
              "      <td>0</td>\n",
              "      <td>59</td>\n",
              "      <td>2554</td>\n",
              "      <td>NaN</td>\n",
              "      <td>NaN</td>\n",
              "      <td>NaN</td>\n",
              "    </tr>\n",
              "    <tr>\n",
              "      <th>3</th>\n",
              "      <td>0</td>\n",
              "      <td>59</td>\n",
              "      <td>2555</td>\n",
              "      <td>NaN</td>\n",
              "      <td>NaN</td>\n",
              "      <td>NaN</td>\n",
              "    </tr>\n",
              "    <tr>\n",
              "      <th>4</th>\n",
              "      <td>0</td>\n",
              "      <td>59</td>\n",
              "      <td>2564</td>\n",
              "      <td>NaN</td>\n",
              "      <td>NaN</td>\n",
              "      <td>NaN</td>\n",
              "    </tr>\n",
              "  </tbody>\n",
              "</table>\n",
              "</div>\n",
              "      <button class=\"colab-df-convert\" onclick=\"convertToInteractive('df-f8d3c94b-e90e-4414-84f9-3b249e923f05')\"\n",
              "              title=\"Convert this dataframe to an interactive table.\"\n",
              "              style=\"display:none;\">\n",
              "        \n",
              "  <svg xmlns=\"http://www.w3.org/2000/svg\" height=\"24px\"viewBox=\"0 0 24 24\"\n",
              "       width=\"24px\">\n",
              "    <path d=\"M0 0h24v24H0V0z\" fill=\"none\"/>\n",
              "    <path d=\"M18.56 5.44l.94 2.06.94-2.06 2.06-.94-2.06-.94-.94-2.06-.94 2.06-2.06.94zm-11 1L8.5 8.5l.94-2.06 2.06-.94-2.06-.94L8.5 2.5l-.94 2.06-2.06.94zm10 10l.94 2.06.94-2.06 2.06-.94-2.06-.94-.94-2.06-.94 2.06-2.06.94z\"/><path d=\"M17.41 7.96l-1.37-1.37c-.4-.4-.92-.59-1.43-.59-.52 0-1.04.2-1.43.59L10.3 9.45l-7.72 7.72c-.78.78-.78 2.05 0 2.83L4 21.41c.39.39.9.59 1.41.59.51 0 1.02-.2 1.41-.59l7.78-7.78 2.81-2.81c.8-.78.8-2.07 0-2.86zM5.41 20L4 18.59l7.72-7.72 1.47 1.35L5.41 20z\"/>\n",
              "  </svg>\n",
              "      </button>\n",
              "      \n",
              "  <style>\n",
              "    .colab-df-container {\n",
              "      display:flex;\n",
              "      flex-wrap:wrap;\n",
              "      gap: 12px;\n",
              "    }\n",
              "\n",
              "    .colab-df-convert {\n",
              "      background-color: #E8F0FE;\n",
              "      border: none;\n",
              "      border-radius: 50%;\n",
              "      cursor: pointer;\n",
              "      display: none;\n",
              "      fill: #1967D2;\n",
              "      height: 32px;\n",
              "      padding: 0 0 0 0;\n",
              "      width: 32px;\n",
              "    }\n",
              "\n",
              "    .colab-df-convert:hover {\n",
              "      background-color: #E2EBFA;\n",
              "      box-shadow: 0px 1px 2px rgba(60, 64, 67, 0.3), 0px 1px 3px 1px rgba(60, 64, 67, 0.15);\n",
              "      fill: #174EA6;\n",
              "    }\n",
              "\n",
              "    [theme=dark] .colab-df-convert {\n",
              "      background-color: #3B4455;\n",
              "      fill: #D2E3FC;\n",
              "    }\n",
              "\n",
              "    [theme=dark] .colab-df-convert:hover {\n",
              "      background-color: #434B5C;\n",
              "      box-shadow: 0px 1px 3px 1px rgba(0, 0, 0, 0.15);\n",
              "      filter: drop-shadow(0px 1px 2px rgba(0, 0, 0, 0.3));\n",
              "      fill: #FFFFFF;\n",
              "    }\n",
              "  </style>\n",
              "\n",
              "      <script>\n",
              "        const buttonEl =\n",
              "          document.querySelector('#df-f8d3c94b-e90e-4414-84f9-3b249e923f05 button.colab-df-convert');\n",
              "        buttonEl.style.display =\n",
              "          google.colab.kernel.accessAllowed ? 'block' : 'none';\n",
              "\n",
              "        async function convertToInteractive(key) {\n",
              "          const element = document.querySelector('#df-f8d3c94b-e90e-4414-84f9-3b249e923f05');\n",
              "          const dataTable =\n",
              "            await google.colab.kernel.invokeFunction('convertToInteractive',\n",
              "                                                     [key], {});\n",
              "          if (!dataTable) return;\n",
              "\n",
              "          const docLinkHtml = 'Like what you see? Visit the ' +\n",
              "            '<a target=\"_blank\" href=https://colab.research.google.com/notebooks/data_table.ipynb>data table notebook</a>'\n",
              "            + ' to learn more about interactive tables.';\n",
              "          element.innerHTML = '';\n",
              "          dataTable['output_type'] = 'display_data';\n",
              "          await google.colab.output.renderOutput(dataTable, element);\n",
              "          const docLink = document.createElement('div');\n",
              "          docLink.innerHTML = docLinkHtml;\n",
              "          element.appendChild(docLink);\n",
              "        }\n",
              "      </script>\n",
              "    </div>\n",
              "  </div>\n",
              "  "
            ]
          },
          "metadata": {},
          "execution_count": 29
        }
      ]
    },
    {
      "cell_type": "code",
      "source": [
        "# 피처 엔지니어링 : 데이터 합치기\n",
        "# 테스트 데이터 이어붙이기\n",
        "# 테스트 데이터 월ID를 34로 설정\n",
        "test['월ID'] = 34\n",
        "\n",
        "# train과 test 이어붙이기\n",
        "all_data = pd.concat([train, test.drop('ID', axis=1)],\n",
        "                     ignore_index=True,\n",
        "                     keys=idx_features)\n",
        "# 결측값을 0으로 대체\n",
        "all_data = all_data.fillna(0)\n",
        "\n",
        "all_data.head()"
      ],
      "metadata": {
        "colab": {
          "base_uri": "https://localhost:8080/",
          "height": 206
        },
        "id": "5l-C1tGes9e-",
        "outputId": "c09539ce-b9f8-4e08-b139-fe64c70f4d9a"
      },
      "execution_count": null,
      "outputs": [
        {
          "output_type": "execute_result",
          "data": {
            "text/plain": [
              "   월ID  상점ID   상품ID  월간 판매량  평균 판매가  판매건수\n",
              "0    0    59  22154     1.0   999.0   1.0\n",
              "1    0    59   2552     0.0     0.0   0.0\n",
              "2    0    59   2554     0.0     0.0   0.0\n",
              "3    0    59   2555     0.0     0.0   0.0\n",
              "4    0    59   2564     0.0     0.0   0.0"
            ],
            "text/html": [
              "\n",
              "  <div id=\"df-7823e45d-16a6-4109-8d13-0d0719829e62\">\n",
              "    <div class=\"colab-df-container\">\n",
              "      <div>\n",
              "<style scoped>\n",
              "    .dataframe tbody tr th:only-of-type {\n",
              "        vertical-align: middle;\n",
              "    }\n",
              "\n",
              "    .dataframe tbody tr th {\n",
              "        vertical-align: top;\n",
              "    }\n",
              "\n",
              "    .dataframe thead th {\n",
              "        text-align: right;\n",
              "    }\n",
              "</style>\n",
              "<table border=\"1\" class=\"dataframe\">\n",
              "  <thead>\n",
              "    <tr style=\"text-align: right;\">\n",
              "      <th></th>\n",
              "      <th>월ID</th>\n",
              "      <th>상점ID</th>\n",
              "      <th>상품ID</th>\n",
              "      <th>월간 판매량</th>\n",
              "      <th>평균 판매가</th>\n",
              "      <th>판매건수</th>\n",
              "    </tr>\n",
              "  </thead>\n",
              "  <tbody>\n",
              "    <tr>\n",
              "      <th>0</th>\n",
              "      <td>0</td>\n",
              "      <td>59</td>\n",
              "      <td>22154</td>\n",
              "      <td>1.0</td>\n",
              "      <td>999.0</td>\n",
              "      <td>1.0</td>\n",
              "    </tr>\n",
              "    <tr>\n",
              "      <th>1</th>\n",
              "      <td>0</td>\n",
              "      <td>59</td>\n",
              "      <td>2552</td>\n",
              "      <td>0.0</td>\n",
              "      <td>0.0</td>\n",
              "      <td>0.0</td>\n",
              "    </tr>\n",
              "    <tr>\n",
              "      <th>2</th>\n",
              "      <td>0</td>\n",
              "      <td>59</td>\n",
              "      <td>2554</td>\n",
              "      <td>0.0</td>\n",
              "      <td>0.0</td>\n",
              "      <td>0.0</td>\n",
              "    </tr>\n",
              "    <tr>\n",
              "      <th>3</th>\n",
              "      <td>0</td>\n",
              "      <td>59</td>\n",
              "      <td>2555</td>\n",
              "      <td>0.0</td>\n",
              "      <td>0.0</td>\n",
              "      <td>0.0</td>\n",
              "    </tr>\n",
              "    <tr>\n",
              "      <th>4</th>\n",
              "      <td>0</td>\n",
              "      <td>59</td>\n",
              "      <td>2564</td>\n",
              "      <td>0.0</td>\n",
              "      <td>0.0</td>\n",
              "      <td>0.0</td>\n",
              "    </tr>\n",
              "  </tbody>\n",
              "</table>\n",
              "</div>\n",
              "      <button class=\"colab-df-convert\" onclick=\"convertToInteractive('df-7823e45d-16a6-4109-8d13-0d0719829e62')\"\n",
              "              title=\"Convert this dataframe to an interactive table.\"\n",
              "              style=\"display:none;\">\n",
              "        \n",
              "  <svg xmlns=\"http://www.w3.org/2000/svg\" height=\"24px\"viewBox=\"0 0 24 24\"\n",
              "       width=\"24px\">\n",
              "    <path d=\"M0 0h24v24H0V0z\" fill=\"none\"/>\n",
              "    <path d=\"M18.56 5.44l.94 2.06.94-2.06 2.06-.94-2.06-.94-.94-2.06-.94 2.06-2.06.94zm-11 1L8.5 8.5l.94-2.06 2.06-.94-2.06-.94L8.5 2.5l-.94 2.06-2.06.94zm10 10l.94 2.06.94-2.06 2.06-.94-2.06-.94-.94-2.06-.94 2.06-2.06.94z\"/><path d=\"M17.41 7.96l-1.37-1.37c-.4-.4-.92-.59-1.43-.59-.52 0-1.04.2-1.43.59L10.3 9.45l-7.72 7.72c-.78.78-.78 2.05 0 2.83L4 21.41c.39.39.9.59 1.41.59.51 0 1.02-.2 1.41-.59l7.78-7.78 2.81-2.81c.8-.78.8-2.07 0-2.86zM5.41 20L4 18.59l7.72-7.72 1.47 1.35L5.41 20z\"/>\n",
              "  </svg>\n",
              "      </button>\n",
              "      \n",
              "  <style>\n",
              "    .colab-df-container {\n",
              "      display:flex;\n",
              "      flex-wrap:wrap;\n",
              "      gap: 12px;\n",
              "    }\n",
              "\n",
              "    .colab-df-convert {\n",
              "      background-color: #E8F0FE;\n",
              "      border: none;\n",
              "      border-radius: 50%;\n",
              "      cursor: pointer;\n",
              "      display: none;\n",
              "      fill: #1967D2;\n",
              "      height: 32px;\n",
              "      padding: 0 0 0 0;\n",
              "      width: 32px;\n",
              "    }\n",
              "\n",
              "    .colab-df-convert:hover {\n",
              "      background-color: #E2EBFA;\n",
              "      box-shadow: 0px 1px 2px rgba(60, 64, 67, 0.3), 0px 1px 3px 1px rgba(60, 64, 67, 0.15);\n",
              "      fill: #174EA6;\n",
              "    }\n",
              "\n",
              "    [theme=dark] .colab-df-convert {\n",
              "      background-color: #3B4455;\n",
              "      fill: #D2E3FC;\n",
              "    }\n",
              "\n",
              "    [theme=dark] .colab-df-convert:hover {\n",
              "      background-color: #434B5C;\n",
              "      box-shadow: 0px 1px 3px 1px rgba(0, 0, 0, 0.15);\n",
              "      filter: drop-shadow(0px 1px 2px rgba(0, 0, 0, 0.3));\n",
              "      fill: #FFFFFF;\n",
              "    }\n",
              "  </style>\n",
              "\n",
              "      <script>\n",
              "        const buttonEl =\n",
              "          document.querySelector('#df-7823e45d-16a6-4109-8d13-0d0719829e62 button.colab-df-convert');\n",
              "        buttonEl.style.display =\n",
              "          google.colab.kernel.accessAllowed ? 'block' : 'none';\n",
              "\n",
              "        async function convertToInteractive(key) {\n",
              "          const element = document.querySelector('#df-7823e45d-16a6-4109-8d13-0d0719829e62');\n",
              "          const dataTable =\n",
              "            await google.colab.kernel.invokeFunction('convertToInteractive',\n",
              "                                                     [key], {});\n",
              "          if (!dataTable) return;\n",
              "\n",
              "          const docLinkHtml = 'Like what you see? Visit the ' +\n",
              "            '<a target=\"_blank\" href=https://colab.research.google.com/notebooks/data_table.ipynb>data table notebook</a>'\n",
              "            + ' to learn more about interactive tables.';\n",
              "          element.innerHTML = '';\n",
              "          dataTable['output_type'] = 'display_data';\n",
              "          await google.colab.output.renderOutput(dataTable, element);\n",
              "          const docLink = document.createElement('div');\n",
              "          docLink.innerHTML = docLinkHtml;\n",
              "          element.appendChild(docLink);\n",
              "        }\n",
              "      </script>\n",
              "    </div>\n",
              "  </div>\n",
              "  "
            ]
          },
          "metadata": {},
          "execution_count": 30
        }
      ]
    },
    {
      "cell_type": "code",
      "source": [
        "# 나머지 데이터 병합\n",
        "all_data = all_data.merge(shops, on='상점ID', how='left')\n",
        "all_data = all_data.merge(items, on='상품ID', how='left')\n",
        "all_data = all_data.merge(item_categories, on='상품분류ID', how='left')\n",
        "\n",
        "# 데이터 다운캐스팅\n",
        "all_data = downcast(all_data)"
      ],
      "metadata": {
        "colab": {
          "base_uri": "https://localhost:8080/"
        },
        "id": "8FI3s5i2tDYc",
        "outputId": "8044c3e8-130e-479c-8838-d850dcaa845f"
      },
      "execution_count": null,
      "outputs": [
        {
          "output_type": "stream",
          "name": "stdout",
          "text": [
            "60.9% 압축됨\n"
          ]
        }
      ]
    },
    {
      "cell_type": "code",
      "source": [
        "del shops, items, item_categories\n",
        "gc.collect();"
      ],
      "metadata": {
        "id": "MkxBstnXtFUf"
      },
      "execution_count": null,
      "outputs": []
    },
    {
      "cell_type": "code",
      "source": [
        "# 피처 엔지니어링 : 시차 피처 생성\n",
        "# 기준 피처별 월간 평균 판매량 파생 피처 생성\n",
        "\n",
        "def add_mean_features(df, mean_features, idx_features):\n",
        "    # 기준 피처 확인\n",
        "    assert (idx_features[0] == '월ID') and len(idx_features) in [2,3]\n",
        "    \n",
        "    if len(idx_features) == 2:\n",
        "        feature_name = idx_features[1] + '별 평균 판매량'\n",
        "    else:\n",
        "        feature_name = idx_features[1] + ' ' + idx_features[2] + '별 평균 판매량'\n",
        "    \n",
        "    # 기준 피처를 토대로 그룹화해 월간 평균 판매량 구하기 \n",
        "    group = df.groupby(idx_features).agg({'월간 판매량': 'mean'})\n",
        "    group = group.reset_index()\n",
        "    group = group.rename(columns={'월간 판매량': feature_name})\n",
        "    \n",
        "    # df와 group 병합 \n",
        "    df = df.merge(group, on=idx_features, how='left')\n",
        "    # 데이터 다운캐스팅 \n",
        "    df = downcast(df, verbose=False)\n",
        "    # 새로 만든 feature_name 피처명을 mean_features 리스트에 추가 \n",
        "    mean_features.append(feature_name)\n",
        "    \n",
        "    # 가비지 컬렉션\n",
        "    del group\n",
        "    gc.collect()\n",
        "    \n",
        "    return df, mean_features"
      ],
      "metadata": {
        "id": "cCp_Zu72tH3v"
      },
      "execution_count": null,
      "outputs": []
    },
    {
      "cell_type": "code",
      "source": [
        "# 그룹화 기준 피처 중 '상품ID' 가 포함된 파생 피처명을 담을 리스트\n",
        "item_mean_features = []\n",
        "\n",
        "# ['월ID', '상품ID'] 로 그룹화한 월간 평균 판매량 파생 피처 생성\n",
        "all_data, item_mean_features = add_mean_features(df=all_data,\n",
        "                                                 mean_features=item_mean_features,\n",
        "                                                 idx_features=['월ID', '상품ID'])\n",
        "\n",
        "# ['월ID', '상품ID', '도시']로 그룹화한 월간 평균 판매량 파생 피처 생성\n",
        "all_data, item_mean_features = add_mean_features(df=all_data,\n",
        "                                                 mean_features=item_mean_features,\n",
        "                                                 idx_features=['월ID', '상품ID', '도시'])"
      ],
      "metadata": {
        "id": "jUvGdEUxtLTn"
      },
      "execution_count": null,
      "outputs": []
    },
    {
      "cell_type": "code",
      "source": [
        "item_mean_features"
      ],
      "metadata": {
        "colab": {
          "base_uri": "https://localhost:8080/"
        },
        "id": "EC2uDoBZt4NJ",
        "outputId": "ee727714-6fbc-431f-85bf-b1e4242126ba"
      },
      "execution_count": null,
      "outputs": [
        {
          "output_type": "execute_result",
          "data": {
            "text/plain": [
              "['상품ID별 평균 판매량', '상품ID 도시별 평균 판매량']"
            ]
          },
          "metadata": {},
          "execution_count": 36
        }
      ]
    },
    {
      "cell_type": "code",
      "source": [
        "# 그룹화 기준 피처 중 '상점ID'가 포함된 파생 피처명을 담을 리스트\n",
        "shop_mean_features = []\n",
        "\n",
        "# ['월ID', '상점ID', '상품분류ID']로 그룹화한 월간 평균 판매량 파생 피처 생성\n",
        "all_data, shop_mean_features = add_mean_features(df=all_data, \n",
        "                                                 mean_features=shop_mean_features,\n",
        "                                                 idx_features=['월ID', '상점ID', '상품분류ID'])"
      ],
      "metadata": {
        "id": "58RbLcf8t-_6"
      },
      "execution_count": null,
      "outputs": []
    },
    {
      "cell_type": "code",
      "source": [
        "shop_mean_features"
      ],
      "metadata": {
        "colab": {
          "base_uri": "https://localhost:8080/"
        },
        "id": "AIyTTIQFuAaH",
        "outputId": "1d046c96-6276-4c0e-e803-a873c8c28216"
      },
      "execution_count": null,
      "outputs": [
        {
          "output_type": "execute_result",
          "data": {
            "text/plain": [
              "['상점ID 상품분류ID별 평균 판매량']"
            ]
          },
          "metadata": {},
          "execution_count": 38
        }
      ]
    },
    {
      "cell_type": "code",
      "source": [
        "def add_lag_features(df, lag_features_to_clip, idx_features, \n",
        "                     lag_feature, nlags=3, clip=False):\n",
        "    # 시차 피처 생성에 필요한 DataFrame 부분만 복사 \n",
        "    df_temp = df[idx_features + [lag_feature]].copy() \n",
        "\n",
        "    # 시차 피처 생성 \n",
        "    for i in range(1, nlags+1):\n",
        "        # 시차 피처명 \n",
        "        lag_feature_name = lag_feature +'_시차' + str(i)\n",
        "        # df_temp 열 이름 설정 \n",
        "        df_temp.columns = idx_features + [lag_feature_name]\n",
        "        # df_temp의 date_block_num 피처에 1 더하기 \n",
        "        df_temp['월ID'] += 1\n",
        "        # idx_feature를 기준으로 df와 df_temp 병합하기 \n",
        "        df = df.merge(df_temp.drop_duplicates(), \n",
        "                      on=idx_features, \n",
        "                      how='left')\n",
        "        # 결측값 0으로 대체 \n",
        "        df[lag_feature_name] = df[lag_feature_name].fillna(0)\n",
        "        # 0 ~ 20 사이로 제한할 시차 피처명을 lag_features_to_clip에 추가 \n",
        "        if clip: \n",
        "            lag_features_to_clip.append(lag_feature_name)\n",
        "    \n",
        "    # 데이터 다운캐스팅\n",
        "    df = downcast(df, False)\n",
        "    # 가비지 컬렉션\n",
        "    del df_temp\n",
        "    gc.collect()\n",
        "    \n",
        "    return df, lag_features_to_clip"
      ],
      "metadata": {
        "id": "4QB4CDfyuBd8"
      },
      "execution_count": null,
      "outputs": []
    },
    {
      "cell_type": "code",
      "source": [
        "# 시차 피처 생성 I : 월간 판매량\n",
        "lag_features_to_clip = [] # 0 ~ 20 사이로 제한할 시차 피처명을 담을 리스트\n",
        "idx_features = ['월ID', '상점ID', '상품ID'] # 기준 피처\n",
        "\n",
        "# idx_features를 기준으로 월간 판매량의 세 달치 시차 피처 생성\n",
        "all_data, lag_features_to_clip = add_lag_features(df=all_data, \n",
        "                                                  lag_features_to_clip=lag_features_to_clip,\n",
        "                                                  idx_features=idx_features,\n",
        "                                                  lag_feature='월간 판매량', \n",
        "                                                  nlags=3,\n",
        "                                                  clip=True) # 값을 0 ~ 20 사이로 제한"
      ],
      "metadata": {
        "id": "k9lPGaUNuIAU"
      },
      "execution_count": null,
      "outputs": []
    },
    {
      "cell_type": "code",
      "source": [
        "all_data.head().T"
      ],
      "metadata": {
        "colab": {
          "base_uri": "https://localhost:8080/",
          "height": 551
        },
        "id": "Gq8H3G3SuITk",
        "outputId": "d6c659b9-e4b0-4a3a-b58e-a4339a107e31"
      },
      "execution_count": null,
      "outputs": [
        {
          "output_type": "execute_result",
          "data": {
            "text/plain": [
              "                                0            1            2            3  \\\n",
              "월ID                      0.000000     0.000000     0.000000     0.000000   \n",
              "상점ID                    59.000000    59.000000    59.000000    59.000000   \n",
              "상품ID                 22154.000000  2552.000000  2554.000000  2555.000000   \n",
              "월간 판매량                   1.000000     0.000000     0.000000     0.000000   \n",
              "평균 판매가                 999.000000     0.000000     0.000000     0.000000   \n",
              "판매건수                     1.000000     0.000000     0.000000     0.000000   \n",
              "도시                      30.000000    30.000000    30.000000    30.000000   \n",
              "상품분류ID                  37.000000    58.000000    58.000000    56.000000   \n",
              "첫 판매월                    0.000000     0.000000     0.000000     0.000000   \n",
              "대분류                      5.000000     7.000000     7.000000     7.000000   \n",
              "상품ID별 평균 판매량             0.400000     0.022222     0.022222     0.044444   \n",
              "상품ID 도시별 평균 판매량          1.000000     0.000000     0.000000     0.000000   \n",
              "상점ID 상품분류ID별 평균 판매량      0.088496     0.000000     0.000000     0.008333   \n",
              "월간 판매량_시차1               0.000000     0.000000     0.000000     0.000000   \n",
              "월간 판매량_시차2               0.000000     0.000000     0.000000     0.000000   \n",
              "월간 판매량_시차3               0.000000     0.000000     0.000000     0.000000   \n",
              "\n",
              "                               4  \n",
              "월ID                     0.000000  \n",
              "상점ID                   59.000000  \n",
              "상품ID                 2564.000000  \n",
              "월간 판매량                  0.000000  \n",
              "평균 판매가                  0.000000  \n",
              "판매건수                    0.000000  \n",
              "도시                     30.000000  \n",
              "상품분류ID                 59.000000  \n",
              "첫 판매월                   0.000000  \n",
              "대분류                     7.000000  \n",
              "상품ID별 평균 판매량            0.111111  \n",
              "상품ID 도시별 평균 판매량         0.000000  \n",
              "상점ID 상품분류ID별 평균 판매량     0.011976  \n",
              "월간 판매량_시차1              0.000000  \n",
              "월간 판매량_시차2              0.000000  \n",
              "월간 판매량_시차3              0.000000  "
            ],
            "text/html": [
              "\n",
              "  <div id=\"df-b2da2c9f-658c-4dc4-818d-b884f1ce3e41\">\n",
              "    <div class=\"colab-df-container\">\n",
              "      <div>\n",
              "<style scoped>\n",
              "    .dataframe tbody tr th:only-of-type {\n",
              "        vertical-align: middle;\n",
              "    }\n",
              "\n",
              "    .dataframe tbody tr th {\n",
              "        vertical-align: top;\n",
              "    }\n",
              "\n",
              "    .dataframe thead th {\n",
              "        text-align: right;\n",
              "    }\n",
              "</style>\n",
              "<table border=\"1\" class=\"dataframe\">\n",
              "  <thead>\n",
              "    <tr style=\"text-align: right;\">\n",
              "      <th></th>\n",
              "      <th>0</th>\n",
              "      <th>1</th>\n",
              "      <th>2</th>\n",
              "      <th>3</th>\n",
              "      <th>4</th>\n",
              "    </tr>\n",
              "  </thead>\n",
              "  <tbody>\n",
              "    <tr>\n",
              "      <th>월ID</th>\n",
              "      <td>0.000000</td>\n",
              "      <td>0.000000</td>\n",
              "      <td>0.000000</td>\n",
              "      <td>0.000000</td>\n",
              "      <td>0.000000</td>\n",
              "    </tr>\n",
              "    <tr>\n",
              "      <th>상점ID</th>\n",
              "      <td>59.000000</td>\n",
              "      <td>59.000000</td>\n",
              "      <td>59.000000</td>\n",
              "      <td>59.000000</td>\n",
              "      <td>59.000000</td>\n",
              "    </tr>\n",
              "    <tr>\n",
              "      <th>상품ID</th>\n",
              "      <td>22154.000000</td>\n",
              "      <td>2552.000000</td>\n",
              "      <td>2554.000000</td>\n",
              "      <td>2555.000000</td>\n",
              "      <td>2564.000000</td>\n",
              "    </tr>\n",
              "    <tr>\n",
              "      <th>월간 판매량</th>\n",
              "      <td>1.000000</td>\n",
              "      <td>0.000000</td>\n",
              "      <td>0.000000</td>\n",
              "      <td>0.000000</td>\n",
              "      <td>0.000000</td>\n",
              "    </tr>\n",
              "    <tr>\n",
              "      <th>평균 판매가</th>\n",
              "      <td>999.000000</td>\n",
              "      <td>0.000000</td>\n",
              "      <td>0.000000</td>\n",
              "      <td>0.000000</td>\n",
              "      <td>0.000000</td>\n",
              "    </tr>\n",
              "    <tr>\n",
              "      <th>판매건수</th>\n",
              "      <td>1.000000</td>\n",
              "      <td>0.000000</td>\n",
              "      <td>0.000000</td>\n",
              "      <td>0.000000</td>\n",
              "      <td>0.000000</td>\n",
              "    </tr>\n",
              "    <tr>\n",
              "      <th>도시</th>\n",
              "      <td>30.000000</td>\n",
              "      <td>30.000000</td>\n",
              "      <td>30.000000</td>\n",
              "      <td>30.000000</td>\n",
              "      <td>30.000000</td>\n",
              "    </tr>\n",
              "    <tr>\n",
              "      <th>상품분류ID</th>\n",
              "      <td>37.000000</td>\n",
              "      <td>58.000000</td>\n",
              "      <td>58.000000</td>\n",
              "      <td>56.000000</td>\n",
              "      <td>59.000000</td>\n",
              "    </tr>\n",
              "    <tr>\n",
              "      <th>첫 판매월</th>\n",
              "      <td>0.000000</td>\n",
              "      <td>0.000000</td>\n",
              "      <td>0.000000</td>\n",
              "      <td>0.000000</td>\n",
              "      <td>0.000000</td>\n",
              "    </tr>\n",
              "    <tr>\n",
              "      <th>대분류</th>\n",
              "      <td>5.000000</td>\n",
              "      <td>7.000000</td>\n",
              "      <td>7.000000</td>\n",
              "      <td>7.000000</td>\n",
              "      <td>7.000000</td>\n",
              "    </tr>\n",
              "    <tr>\n",
              "      <th>상품ID별 평균 판매량</th>\n",
              "      <td>0.400000</td>\n",
              "      <td>0.022222</td>\n",
              "      <td>0.022222</td>\n",
              "      <td>0.044444</td>\n",
              "      <td>0.111111</td>\n",
              "    </tr>\n",
              "    <tr>\n",
              "      <th>상품ID 도시별 평균 판매량</th>\n",
              "      <td>1.000000</td>\n",
              "      <td>0.000000</td>\n",
              "      <td>0.000000</td>\n",
              "      <td>0.000000</td>\n",
              "      <td>0.000000</td>\n",
              "    </tr>\n",
              "    <tr>\n",
              "      <th>상점ID 상품분류ID별 평균 판매량</th>\n",
              "      <td>0.088496</td>\n",
              "      <td>0.000000</td>\n",
              "      <td>0.000000</td>\n",
              "      <td>0.008333</td>\n",
              "      <td>0.011976</td>\n",
              "    </tr>\n",
              "    <tr>\n",
              "      <th>월간 판매량_시차1</th>\n",
              "      <td>0.000000</td>\n",
              "      <td>0.000000</td>\n",
              "      <td>0.000000</td>\n",
              "      <td>0.000000</td>\n",
              "      <td>0.000000</td>\n",
              "    </tr>\n",
              "    <tr>\n",
              "      <th>월간 판매량_시차2</th>\n",
              "      <td>0.000000</td>\n",
              "      <td>0.000000</td>\n",
              "      <td>0.000000</td>\n",
              "      <td>0.000000</td>\n",
              "      <td>0.000000</td>\n",
              "    </tr>\n",
              "    <tr>\n",
              "      <th>월간 판매량_시차3</th>\n",
              "      <td>0.000000</td>\n",
              "      <td>0.000000</td>\n",
              "      <td>0.000000</td>\n",
              "      <td>0.000000</td>\n",
              "      <td>0.000000</td>\n",
              "    </tr>\n",
              "  </tbody>\n",
              "</table>\n",
              "</div>\n",
              "      <button class=\"colab-df-convert\" onclick=\"convertToInteractive('df-b2da2c9f-658c-4dc4-818d-b884f1ce3e41')\"\n",
              "              title=\"Convert this dataframe to an interactive table.\"\n",
              "              style=\"display:none;\">\n",
              "        \n",
              "  <svg xmlns=\"http://www.w3.org/2000/svg\" height=\"24px\"viewBox=\"0 0 24 24\"\n",
              "       width=\"24px\">\n",
              "    <path d=\"M0 0h24v24H0V0z\" fill=\"none\"/>\n",
              "    <path d=\"M18.56 5.44l.94 2.06.94-2.06 2.06-.94-2.06-.94-.94-2.06-.94 2.06-2.06.94zm-11 1L8.5 8.5l.94-2.06 2.06-.94-2.06-.94L8.5 2.5l-.94 2.06-2.06.94zm10 10l.94 2.06.94-2.06 2.06-.94-2.06-.94-.94-2.06-.94 2.06-2.06.94z\"/><path d=\"M17.41 7.96l-1.37-1.37c-.4-.4-.92-.59-1.43-.59-.52 0-1.04.2-1.43.59L10.3 9.45l-7.72 7.72c-.78.78-.78 2.05 0 2.83L4 21.41c.39.39.9.59 1.41.59.51 0 1.02-.2 1.41-.59l7.78-7.78 2.81-2.81c.8-.78.8-2.07 0-2.86zM5.41 20L4 18.59l7.72-7.72 1.47 1.35L5.41 20z\"/>\n",
              "  </svg>\n",
              "      </button>\n",
              "      \n",
              "  <style>\n",
              "    .colab-df-container {\n",
              "      display:flex;\n",
              "      flex-wrap:wrap;\n",
              "      gap: 12px;\n",
              "    }\n",
              "\n",
              "    .colab-df-convert {\n",
              "      background-color: #E8F0FE;\n",
              "      border: none;\n",
              "      border-radius: 50%;\n",
              "      cursor: pointer;\n",
              "      display: none;\n",
              "      fill: #1967D2;\n",
              "      height: 32px;\n",
              "      padding: 0 0 0 0;\n",
              "      width: 32px;\n",
              "    }\n",
              "\n",
              "    .colab-df-convert:hover {\n",
              "      background-color: #E2EBFA;\n",
              "      box-shadow: 0px 1px 2px rgba(60, 64, 67, 0.3), 0px 1px 3px 1px rgba(60, 64, 67, 0.15);\n",
              "      fill: #174EA6;\n",
              "    }\n",
              "\n",
              "    [theme=dark] .colab-df-convert {\n",
              "      background-color: #3B4455;\n",
              "      fill: #D2E3FC;\n",
              "    }\n",
              "\n",
              "    [theme=dark] .colab-df-convert:hover {\n",
              "      background-color: #434B5C;\n",
              "      box-shadow: 0px 1px 3px 1px rgba(0, 0, 0, 0.15);\n",
              "      filter: drop-shadow(0px 1px 2px rgba(0, 0, 0, 0.3));\n",
              "      fill: #FFFFFF;\n",
              "    }\n",
              "  </style>\n",
              "\n",
              "      <script>\n",
              "        const buttonEl =\n",
              "          document.querySelector('#df-b2da2c9f-658c-4dc4-818d-b884f1ce3e41 button.colab-df-convert');\n",
              "        buttonEl.style.display =\n",
              "          google.colab.kernel.accessAllowed ? 'block' : 'none';\n",
              "\n",
              "        async function convertToInteractive(key) {\n",
              "          const element = document.querySelector('#df-b2da2c9f-658c-4dc4-818d-b884f1ce3e41');\n",
              "          const dataTable =\n",
              "            await google.colab.kernel.invokeFunction('convertToInteractive',\n",
              "                                                     [key], {});\n",
              "          if (!dataTable) return;\n",
              "\n",
              "          const docLinkHtml = 'Like what you see? Visit the ' +\n",
              "            '<a target=\"_blank\" href=https://colab.research.google.com/notebooks/data_table.ipynb>data table notebook</a>'\n",
              "            + ' to learn more about interactive tables.';\n",
              "          element.innerHTML = '';\n",
              "          dataTable['output_type'] = 'display_data';\n",
              "          await google.colab.output.renderOutput(dataTable, element);\n",
              "          const docLink = document.createElement('div');\n",
              "          docLink.innerHTML = docLinkHtml;\n",
              "          element.appendChild(docLink);\n",
              "        }\n",
              "      </script>\n",
              "    </div>\n",
              "  </div>\n",
              "  "
            ]
          },
          "metadata": {},
          "execution_count": 42
        }
      ]
    },
    {
      "cell_type": "code",
      "source": [
        "lag_features_to_clip"
      ],
      "metadata": {
        "colab": {
          "base_uri": "https://localhost:8080/"
        },
        "id": "XrqATG5cuWrD",
        "outputId": "e682c104-0d0e-4688-e055-0d787d97957b"
      },
      "execution_count": null,
      "outputs": [
        {
          "output_type": "execute_result",
          "data": {
            "text/plain": [
              "['월간 판매량_시차1', '월간 판매량_시차2', '월간 판매량_시차3']"
            ]
          },
          "metadata": {},
          "execution_count": 43
        }
      ]
    },
    {
      "cell_type": "code",
      "source": [
        "# 시차 피처 생성 II : 판매건수, 평균 판매가\n",
        "# idx_features를 기준으로 판매건수 피처의 세 달치 시차 피처 생성\n",
        "all_data, lag_features_to_clip = add_lag_features(df=all_data, \n",
        "                                                  lag_features_to_clip=lag_features_to_clip,\n",
        "                                                  idx_features=idx_features,\n",
        "                                                  lag_feature='판매건수', \n",
        "                                                  nlags=3)\n",
        "\n",
        "# idx_features를 기준으로 평균 판매가 피처의 세 달치 시차 피처 생성\n",
        "all_data, lag_features_to_clip = add_lag_features(df=all_data, \n",
        "                                                  lag_features_to_clip=lag_features_to_clip,\n",
        "                                                  idx_features=idx_features,\n",
        "                                                  lag_feature='평균 판매가', \n",
        "                                                  nlags=3)"
      ],
      "metadata": {
        "id": "d0LM44YcuaC6"
      },
      "execution_count": null,
      "outputs": []
    },
    {
      "cell_type": "code",
      "source": [
        "# 시차 피처 생성 III : 평균 판매량\n",
        "# idx_features를 기준으로 item_mean_features 요소별 시차 피처 생성\n",
        "for item_mean_feature in item_mean_features:\n",
        "    all_data, lag_features_to_clip = add_lag_features(df=all_data, \n",
        "                                                      lag_features_to_clip=lag_features_to_clip, \n",
        "                                                      idx_features=idx_features, \n",
        "                                                      lag_feature=item_mean_feature, \n",
        "                                                      nlags=3,\n",
        "                                                      clip=True)\n",
        "# item_mean_features 피처 제거\n",
        "all_data = all_data.drop(item_mean_features, axis=1)"
      ],
      "metadata": {
        "id": "b9isva5fucmj"
      },
      "execution_count": null,
      "outputs": []
    },
    {
      "cell_type": "code",
      "source": [
        "# ['월ID', '상점ID', '상품분류ID']를 기준으로 shop_mean_features 요소별 시차 피처 생성\n",
        "for shop_mean_feature in shop_mean_features:\n",
        "    all_data, lag_features_to_clip = add_lag_features(df=all_data,\n",
        "                                                      lag_features_to_clip=lag_features_to_clip, \n",
        "                                                      idx_features=['월ID', '상점ID', '상품분류ID'], \n",
        "                                                      lag_feature=shop_mean_feature, \n",
        "                                                      nlags=3,\n",
        "                                                      clip=True)\n",
        "# shop_mean_features 피처 제거\n",
        "all_data = all_data.drop(shop_mean_features, axis=1)"
      ],
      "metadata": {
        "id": "Ch49oXaWu9DA"
      },
      "execution_count": null,
      "outputs": []
    },
    {
      "cell_type": "code",
      "source": [
        "# 시차 피처 생성 마무리 : 결측값 처리\n",
        "# 월ID 3미만인 데이터 제거\n",
        "all_data = all_data.drop(all_data[all_data['월ID'] < 3].index)"
      ],
      "metadata": {
        "id": "4phVGtwuu_Oy"
      },
      "execution_count": null,
      "outputs": []
    },
    {
      "cell_type": "code",
      "source": [
        "# 피처 엔지니어링 : 기타 피처 엔지니어링 (기타 피처 추가)\n",
        "\n",
        "# 월간 판매량 시차 피처들의 평균.\n",
        "all_data['월간 판매량 시차평균'] = all_data[['월간 판매량_시차1',\n",
        "                                          '월간 판매량_시차2', \n",
        "                                          '월간 판매량_시차3']].mean(axis=1)"
      ],
      "metadata": {
        "id": "Rp9I0cHovhco"
      },
      "execution_count": null,
      "outputs": []
    },
    {
      "cell_type": "code",
      "source": [
        "# 0 ~ 20 사이로 값 제한\n",
        "all_data[lag_features_to_clip + ['월간 판매량', '월간 판매량 시차평균']] = all_data[lag_features_to_clip + ['월간 판매량', '월간 판매량 시차평균']].clip(0, 20)"
      ],
      "metadata": {
        "id": "oZ0Pwmb-vnER"
      },
      "execution_count": null,
      "outputs": []
    },
    {
      "cell_type": "code",
      "source": [
        "# 시차 변화량\n",
        "all_data['시차변화량1'] = all_data['월간 판매량_시차1']/all_data['월간 판매량_시차2']\n",
        "all_data['시차변화량1'] = all_data['시차변화량1'].replace([np.inf, -np.inf], \n",
        "                                                        np.nan).fillna(0)\n",
        "\n",
        "all_data['시차변화량2'] = all_data['월간 판매량_시차2']/all_data['월간 판매량_시차3']\n",
        "all_data['시차변화량2'] = all_data['시차변화량2'].replace([np.inf, -np.inf], \n",
        "                                                        np.nan).fillna(0)"
      ],
      "metadata": {
        "id": "wAjFPcyWvoQo"
      },
      "execution_count": null,
      "outputs": []
    },
    {
      "cell_type": "code",
      "source": [
        "# 신상 여부\n",
        "all_data['신상여부'] = all_data['첫 판매월'] == all_data['월ID']"
      ],
      "metadata": {
        "id": "YSyAG78bvq5m"
      },
      "execution_count": null,
      "outputs": []
    },
    {
      "cell_type": "code",
      "source": [
        "# 첫 판매 후 경과 기간\n",
        "all_data['첫 판매 후 기간'] = all_data['월ID'] - all_data['첫 판매월']"
      ],
      "metadata": {
        "id": "IPY1d4K7vszK"
      },
      "execution_count": null,
      "outputs": []
    },
    {
      "cell_type": "code",
      "source": [
        "# 월\n",
        "all_data['월'] = all_data['월ID'] % 12"
      ],
      "metadata": {
        "id": "-9GDhCcovu71"
      },
      "execution_count": null,
      "outputs": []
    },
    {
      "cell_type": "code",
      "source": [
        "# 첫 판매월, 평균 판매가, 판매건수 피처 제거\n",
        "all_data = all_data.drop(['첫 판매월', '평균 판매가', '판매건수'], axis=1)"
      ],
      "metadata": {
        "id": "0SZ4Ohkovv4Q"
      },
      "execution_count": null,
      "outputs": []
    },
    {
      "cell_type": "code",
      "source": [
        "all_data = downcast(all_data, False) # 데이터 다운캐스팅"
      ],
      "metadata": {
        "id": "0xa41-Nqvz0S"
      },
      "execution_count": null,
      "outputs": []
    },
    {
      "cell_type": "code",
      "source": [
        "# 피처 엔지니어링 : 마무리\n",
        "all_data.info()"
      ],
      "metadata": {
        "colab": {
          "base_uri": "https://localhost:8080/"
        },
        "id": "SgHZv4ONv0sV",
        "outputId": "77f15980-ee29-42f1-c7c6-29540c9d984d"
      },
      "execution_count": null,
      "outputs": [
        {
          "output_type": "stream",
          "name": "stdout",
          "text": [
            "<class 'pandas.core.frame.DataFrame'>\n",
            "Int64Index: 9904582 entries, 1122386 to 11026967\n",
            "Data columns (total 31 columns):\n",
            " #   Column                   Dtype  \n",
            "---  ------                   -----  \n",
            " 0   월ID                      int8   \n",
            " 1   상점ID                     int8   \n",
            " 2   상품ID                     int16  \n",
            " 3   월간 판매량                   int8   \n",
            " 4   도시                       int8   \n",
            " 5   상품분류ID                   int8   \n",
            " 6   대분류                      int8   \n",
            " 7   월간 판매량_시차1               int8   \n",
            " 8   월간 판매량_시차2               int8   \n",
            " 9   월간 판매량_시차3               int8   \n",
            " 10  판매건수_시차1                 int8   \n",
            " 11  판매건수_시차2                 int8   \n",
            " 12  판매건수_시차3                 int8   \n",
            " 13  평균 판매가_시차1               float64\n",
            " 14  평균 판매가_시차2               float64\n",
            " 15  평균 판매가_시차3               float64\n",
            " 16  상품ID별 평균 판매량_시차1         float32\n",
            " 17  상품ID별 평균 판매량_시차2         float32\n",
            " 18  상품ID별 평균 판매량_시차3         float32\n",
            " 19  상품ID 도시별 평균 판매량_시차1      float32\n",
            " 20  상품ID 도시별 평균 판매량_시차2      float32\n",
            " 21  상품ID 도시별 평균 판매량_시차3      float32\n",
            " 22  상점ID 상품분류ID별 평균 판매량_시차1  float32\n",
            " 23  상점ID 상품분류ID별 평균 판매량_시차2  float32\n",
            " 24  상점ID 상품분류ID별 평균 판매량_시차3  float32\n",
            " 25  월간 판매량 시차평균              float32\n",
            " 26  시차변화량1                   float32\n",
            " 27  시차변화량2                   float32\n",
            " 28  신상여부                     int8   \n",
            " 29  첫 판매 후 기간                int8   \n",
            " 30  월                        int8   \n",
            "dtypes: float32(12), float64(3), int16(1), int8(15)\n",
            "memory usage: 916.2 MB\n"
          ]
        }
      ]
    },
    {
      "cell_type": "code",
      "source": [
        "# 훈련 데이터 (피처)\n",
        "X_train = all_data[all_data['월ID'] < 33]\n",
        "X_train = X_train.drop(['월간 판매량'], axis=1)\n",
        "# 검증 데이터 (피처)\n",
        "X_valid = all_data[all_data['월ID'] == 33]\n",
        "X_valid = X_valid.drop(['월간 판매량'], axis=1)\n",
        "# 테스트 데이터 (피처)\n",
        "X_test = all_data[all_data['월ID'] == 34]\n",
        "X_test = X_test.drop(['월간 판매량'], axis=1)\n",
        "\n",
        "# 훈련 데이터 (타깃값)\n",
        "y_train = all_data[all_data['월ID'] < 33]['월간 판매량']\n",
        "# 검증 데이터 (타깃값)\n",
        "y_valid = all_data[all_data['월ID'] == 33]['월간 판매량']\n",
        "\n",
        "# 가비지 컬렉션\n",
        "del all_data\n",
        "gc.collect();"
      ],
      "metadata": {
        "id": "XJRIHjC9v3lo"
      },
      "execution_count": null,
      "outputs": []
    },
    {
      "cell_type": "markdown",
      "source": [
        "# 모델 훈련 및 성능 검증"
      ],
      "metadata": {
        "id": "Ib5rZnhCv6_w"
      }
    },
    {
      "cell_type": "code",
      "source": [
        "import lightgbm as lgb\n",
        "\n",
        "# LightGBM 하이퍼파라미터\n",
        "params = {'metric': 'rmse', \n",
        "          'num_leaves': 255,\n",
        "          'learning_rate': 0.005,\n",
        "          'feature_fraction': 0.75,\n",
        "          'bagging_fraction': 0.75,\n",
        "          'bagging_freq': 5,\n",
        "          'force_col_wise': True,\n",
        "          'random_state': 10}\n",
        "\n",
        "cat_features = ['상점ID', '도시', '상품분류ID', '대분류', '월']\n",
        "\n",
        "# LightGBM 훈련 및 검증 데이터셋\n",
        "dtrain = lgb.Dataset(X_train, y_train)\n",
        "dvalid = lgb.Dataset(X_valid, y_valid)\n",
        " \n",
        "# LightGBM 모델 훈련\n",
        "lgb_model = lgb.train(params=params,\n",
        "                      train_set=dtrain,\n",
        "                      num_boost_round=1500,\n",
        "                      valid_sets=(dtrain, dvalid),\n",
        "                      early_stopping_rounds=150,\n",
        "                      categorical_feature=cat_features,\n",
        "                      verbose_eval=100)  "
      ],
      "metadata": {
        "colab": {
          "base_uri": "https://localhost:8080/",
          "height": 549
        },
        "id": "SlHna1mBv53o",
        "outputId": "32391426-524a-42ba-eea1-b7ba04cd28c4"
      },
      "execution_count": null,
      "outputs": [
        {
          "output_type": "stream",
          "name": "stderr",
          "text": [
            "/usr/local/lib/python3.10/dist-packages/lightgbm/engine.py:181: UserWarning: 'early_stopping_rounds' argument is deprecated and will be removed in a future release of LightGBM. Pass 'early_stopping()' callback via 'callbacks' argument instead.\n",
            "  _log_warning(\"'early_stopping_rounds' argument is deprecated and will be removed in a future release of LightGBM. \"\n",
            "/usr/local/lib/python3.10/dist-packages/lightgbm/basic.py:2068: UserWarning: categorical_feature in Dataset is overridden.\n",
            "New categorical_feature is ['대분류', '도시', '상점ID', '상품분류ID', '월']\n",
            "  _log_warning('categorical_feature in Dataset is overridden.\\n'\n",
            "/usr/local/lib/python3.10/dist-packages/lightgbm/engine.py:239: UserWarning: 'verbose_eval' argument is deprecated and will be removed in a future release of LightGBM. Pass 'log_evaluation()' callback via 'callbacks' argument instead.\n",
            "  _log_warning(\"'verbose_eval' argument is deprecated and will be removed in a future release of LightGBM. \"\n"
          ]
        },
        {
          "output_type": "error",
          "ename": "KeyboardInterrupt",
          "evalue": "ignored",
          "traceback": [
            "\u001b[0;31m---------------------------------------------------------------------------\u001b[0m",
            "\u001b[0;31mKeyboardInterrupt\u001b[0m                         Traceback (most recent call last)",
            "\u001b[0;32m<ipython-input-59-66f46601f64d>\u001b[0m in \u001b[0;36m<cell line: 20>\u001b[0;34m()\u001b[0m\n\u001b[1;32m     18\u001b[0m \u001b[0;34m\u001b[0m\u001b[0m\n\u001b[1;32m     19\u001b[0m \u001b[0;31m# LightGBM 모델 훈련\u001b[0m\u001b[0;34m\u001b[0m\u001b[0;34m\u001b[0m\u001b[0m\n\u001b[0;32m---> 20\u001b[0;31m lgb_model = lgb.train(params=params,\n\u001b[0m\u001b[1;32m     21\u001b[0m                       \u001b[0mtrain_set\u001b[0m\u001b[0;34m=\u001b[0m\u001b[0mdtrain\u001b[0m\u001b[0;34m,\u001b[0m\u001b[0;34m\u001b[0m\u001b[0;34m\u001b[0m\u001b[0m\n\u001b[1;32m     22\u001b[0m                       \u001b[0mnum_boost_round\u001b[0m\u001b[0;34m=\u001b[0m\u001b[0;36m1500\u001b[0m\u001b[0;34m,\u001b[0m\u001b[0;34m\u001b[0m\u001b[0;34m\u001b[0m\u001b[0m\n",
            "\u001b[0;32m/usr/local/lib/python3.10/dist-packages/lightgbm/engine.py\u001b[0m in \u001b[0;36mtrain\u001b[0;34m(params, train_set, num_boost_round, valid_sets, valid_names, fobj, feval, init_model, feature_name, categorical_feature, early_stopping_rounds, evals_result, verbose_eval, learning_rates, keep_training_booster, callbacks)\u001b[0m\n\u001b[1;32m    269\u001b[0m     \u001b[0;31m# construct booster\u001b[0m\u001b[0;34m\u001b[0m\u001b[0;34m\u001b[0m\u001b[0m\n\u001b[1;32m    270\u001b[0m     \u001b[0;32mtry\u001b[0m\u001b[0;34m:\u001b[0m\u001b[0;34m\u001b[0m\u001b[0;34m\u001b[0m\u001b[0m\n\u001b[0;32m--> 271\u001b[0;31m         \u001b[0mbooster\u001b[0m \u001b[0;34m=\u001b[0m \u001b[0mBooster\u001b[0m\u001b[0;34m(\u001b[0m\u001b[0mparams\u001b[0m\u001b[0;34m=\u001b[0m\u001b[0mparams\u001b[0m\u001b[0;34m,\u001b[0m \u001b[0mtrain_set\u001b[0m\u001b[0;34m=\u001b[0m\u001b[0mtrain_set\u001b[0m\u001b[0;34m)\u001b[0m\u001b[0;34m\u001b[0m\u001b[0;34m\u001b[0m\u001b[0m\n\u001b[0m\u001b[1;32m    272\u001b[0m         \u001b[0;32mif\u001b[0m \u001b[0mis_valid_contain_train\u001b[0m\u001b[0;34m:\u001b[0m\u001b[0;34m\u001b[0m\u001b[0;34m\u001b[0m\u001b[0m\n\u001b[1;32m    273\u001b[0m             \u001b[0mbooster\u001b[0m\u001b[0;34m.\u001b[0m\u001b[0mset_train_data_name\u001b[0m\u001b[0;34m(\u001b[0m\u001b[0mtrain_data_name\u001b[0m\u001b[0;34m)\u001b[0m\u001b[0;34m\u001b[0m\u001b[0;34m\u001b[0m\u001b[0m\n",
            "\u001b[0;32m/usr/local/lib/python3.10/dist-packages/lightgbm/basic.py\u001b[0m in \u001b[0;36m__init__\u001b[0;34m(self, params, train_set, model_file, model_str, silent)\u001b[0m\n\u001b[1;32m   2603\u001b[0m                 )\n\u001b[1;32m   2604\u001b[0m             \u001b[0;31m# construct booster object\u001b[0m\u001b[0;34m\u001b[0m\u001b[0;34m\u001b[0m\u001b[0m\n\u001b[0;32m-> 2605\u001b[0;31m             \u001b[0mtrain_set\u001b[0m\u001b[0;34m.\u001b[0m\u001b[0mconstruct\u001b[0m\u001b[0;34m(\u001b[0m\u001b[0;34m)\u001b[0m\u001b[0;34m\u001b[0m\u001b[0;34m\u001b[0m\u001b[0m\n\u001b[0m\u001b[1;32m   2606\u001b[0m             \u001b[0;31m# copy the parameters from train_set\u001b[0m\u001b[0;34m\u001b[0m\u001b[0;34m\u001b[0m\u001b[0m\n\u001b[1;32m   2607\u001b[0m             \u001b[0mparams\u001b[0m\u001b[0;34m.\u001b[0m\u001b[0mupdate\u001b[0m\u001b[0;34m(\u001b[0m\u001b[0mtrain_set\u001b[0m\u001b[0;34m.\u001b[0m\u001b[0mget_params\u001b[0m\u001b[0;34m(\u001b[0m\u001b[0;34m)\u001b[0m\u001b[0;34m)\u001b[0m\u001b[0;34m\u001b[0m\u001b[0;34m\u001b[0m\u001b[0m\n",
            "\u001b[0;32m/usr/local/lib/python3.10/dist-packages/lightgbm/basic.py\u001b[0m in \u001b[0;36mconstruct\u001b[0;34m(self)\u001b[0m\n\u001b[1;32m   1813\u001b[0m             \u001b[0;32melse\u001b[0m\u001b[0;34m:\u001b[0m\u001b[0;34m\u001b[0m\u001b[0;34m\u001b[0m\u001b[0m\n\u001b[1;32m   1814\u001b[0m                 \u001b[0;31m# create train\u001b[0m\u001b[0;34m\u001b[0m\u001b[0;34m\u001b[0m\u001b[0m\n\u001b[0;32m-> 1815\u001b[0;31m                 self._lazy_init(self.data, label=self.label,\n\u001b[0m\u001b[1;32m   1816\u001b[0m                                 \u001b[0mweight\u001b[0m\u001b[0;34m=\u001b[0m\u001b[0mself\u001b[0m\u001b[0;34m.\u001b[0m\u001b[0mweight\u001b[0m\u001b[0;34m,\u001b[0m \u001b[0mgroup\u001b[0m\u001b[0;34m=\u001b[0m\u001b[0mself\u001b[0m\u001b[0;34m.\u001b[0m\u001b[0mgroup\u001b[0m\u001b[0;34m,\u001b[0m\u001b[0;34m\u001b[0m\u001b[0;34m\u001b[0m\u001b[0m\n\u001b[1;32m   1817\u001b[0m                                 \u001b[0minit_score\u001b[0m\u001b[0;34m=\u001b[0m\u001b[0mself\u001b[0m\u001b[0;34m.\u001b[0m\u001b[0minit_score\u001b[0m\u001b[0;34m,\u001b[0m \u001b[0mpredictor\u001b[0m\u001b[0;34m=\u001b[0m\u001b[0mself\u001b[0m\u001b[0;34m.\u001b[0m\u001b[0m_predictor\u001b[0m\u001b[0;34m,\u001b[0m\u001b[0;34m\u001b[0m\u001b[0;34m\u001b[0m\u001b[0m\n",
            "\u001b[0;32m/usr/local/lib/python3.10/dist-packages/lightgbm/basic.py\u001b[0m in \u001b[0;36m_lazy_init\u001b[0;34m(self, data, label, reference, weight, group, init_score, predictor, silent, feature_name, categorical_feature, params)\u001b[0m\n\u001b[1;32m   1536\u001b[0m             \u001b[0mself\u001b[0m\u001b[0;34m.\u001b[0m\u001b[0m__init_from_csc\u001b[0m\u001b[0;34m(\u001b[0m\u001b[0mdata\u001b[0m\u001b[0;34m,\u001b[0m \u001b[0mparams_str\u001b[0m\u001b[0;34m,\u001b[0m \u001b[0mref_dataset\u001b[0m\u001b[0;34m)\u001b[0m\u001b[0;34m\u001b[0m\u001b[0;34m\u001b[0m\u001b[0m\n\u001b[1;32m   1537\u001b[0m         \u001b[0;32melif\u001b[0m \u001b[0misinstance\u001b[0m\u001b[0;34m(\u001b[0m\u001b[0mdata\u001b[0m\u001b[0;34m,\u001b[0m \u001b[0mnp\u001b[0m\u001b[0;34m.\u001b[0m\u001b[0mndarray\u001b[0m\u001b[0;34m)\u001b[0m\u001b[0;34m:\u001b[0m\u001b[0;34m\u001b[0m\u001b[0;34m\u001b[0m\u001b[0m\n\u001b[0;32m-> 1538\u001b[0;31m             \u001b[0mself\u001b[0m\u001b[0;34m.\u001b[0m\u001b[0m__init_from_np2d\u001b[0m\u001b[0;34m(\u001b[0m\u001b[0mdata\u001b[0m\u001b[0;34m,\u001b[0m \u001b[0mparams_str\u001b[0m\u001b[0;34m,\u001b[0m \u001b[0mref_dataset\u001b[0m\u001b[0;34m)\u001b[0m\u001b[0;34m\u001b[0m\u001b[0;34m\u001b[0m\u001b[0m\n\u001b[0m\u001b[1;32m   1539\u001b[0m         \u001b[0;32melif\u001b[0m \u001b[0misinstance\u001b[0m\u001b[0;34m(\u001b[0m\u001b[0mdata\u001b[0m\u001b[0;34m,\u001b[0m \u001b[0mlist\u001b[0m\u001b[0;34m)\u001b[0m \u001b[0;32mand\u001b[0m \u001b[0mlen\u001b[0m\u001b[0;34m(\u001b[0m\u001b[0mdata\u001b[0m\u001b[0;34m)\u001b[0m \u001b[0;34m>\u001b[0m \u001b[0;36m0\u001b[0m\u001b[0;34m:\u001b[0m\u001b[0;34m\u001b[0m\u001b[0;34m\u001b[0m\u001b[0m\n\u001b[1;32m   1540\u001b[0m             \u001b[0;32mif\u001b[0m \u001b[0mall\u001b[0m\u001b[0;34m(\u001b[0m\u001b[0misinstance\u001b[0m\u001b[0;34m(\u001b[0m\u001b[0mx\u001b[0m\u001b[0;34m,\u001b[0m \u001b[0mnp\u001b[0m\u001b[0;34m.\u001b[0m\u001b[0mndarray\u001b[0m\u001b[0;34m)\u001b[0m \u001b[0;32mfor\u001b[0m \u001b[0mx\u001b[0m \u001b[0;32min\u001b[0m \u001b[0mdata\u001b[0m\u001b[0;34m)\u001b[0m\u001b[0;34m:\u001b[0m\u001b[0;34m\u001b[0m\u001b[0;34m\u001b[0m\u001b[0m\n",
            "\u001b[0;32m/usr/local/lib/python3.10/dist-packages/lightgbm/basic.py\u001b[0m in \u001b[0;36m__init_from_np2d\u001b[0;34m(self, mat, params_str, ref_dataset)\u001b[0m\n\u001b[1;32m   1657\u001b[0m \u001b[0;34m\u001b[0m\u001b[0m\n\u001b[1;32m   1658\u001b[0m         \u001b[0mptr_data\u001b[0m\u001b[0;34m,\u001b[0m \u001b[0mtype_ptr_data\u001b[0m\u001b[0;34m,\u001b[0m \u001b[0m_\u001b[0m \u001b[0;34m=\u001b[0m \u001b[0mc_float_array\u001b[0m\u001b[0;34m(\u001b[0m\u001b[0mdata\u001b[0m\u001b[0;34m)\u001b[0m\u001b[0;34m\u001b[0m\u001b[0;34m\u001b[0m\u001b[0m\n\u001b[0;32m-> 1659\u001b[0;31m         _safe_call(_LIB.LGBM_DatasetCreateFromMat(\n\u001b[0m\u001b[1;32m   1660\u001b[0m             \u001b[0mptr_data\u001b[0m\u001b[0;34m,\u001b[0m\u001b[0;34m\u001b[0m\u001b[0;34m\u001b[0m\u001b[0m\n\u001b[1;32m   1661\u001b[0m             \u001b[0mctypes\u001b[0m\u001b[0;34m.\u001b[0m\u001b[0mc_int\u001b[0m\u001b[0;34m(\u001b[0m\u001b[0mtype_ptr_data\u001b[0m\u001b[0;34m)\u001b[0m\u001b[0;34m,\u001b[0m\u001b[0;34m\u001b[0m\u001b[0;34m\u001b[0m\u001b[0m\n",
            "\u001b[0;31mKeyboardInterrupt\u001b[0m: "
          ]
        }
      ]
    },
    {
      "cell_type": "code",
      "source": [
        "# 예측\n",
        "preds = lgb_model.predict(X_test).clip(0, 20)\n",
        "\n",
        "# 제출 파일 생성\n",
        "submission['item_cnt_month'] = preds\n",
        "submission.to_csv('submission.csv', index=False)"
      ],
      "metadata": {
        "id": "e-wwHVGzv-ev"
      },
      "execution_count": null,
      "outputs": []
    }
  ]
}