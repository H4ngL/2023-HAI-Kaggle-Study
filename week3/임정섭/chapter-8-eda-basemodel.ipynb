{
 "metadata": {
  "kernelspec": {
   "language": "python",
   "display_name": "Python 3",
   "name": "python3"
  },
  "language_info": {
   "pygments_lexer": "ipython3",
   "nbconvert_exporter": "python",
   "version": "3.6.4",
   "file_extension": ".py",
   "codemirror_mode": {
    "name": "ipython",
    "version": 3
   },
   "name": "python",
   "mimetype": "text/x-python"
  }
 },
 "nbformat_minor": 4,
 "nbformat": 4,
 "cells": [
  {
   "cell_type": "code",
   "source": "# This Python 3 environment comes with many helpful analytics libraries installed\n# It is defined by the kaggle/python Docker image: https://github.com/kaggle/docker-python\n# For example, here's several helpful packages to load\n\nimport numpy as np # linear algebra\nimport pandas as pd # data processing, CSV file I/O (e.g. pd.read_csv)\n\n# Input data files are available in the read-only \"../input/\" directory\n# For example, running this (by clicking run or pressing Shift+Enter) will list all files under the input directory\n\nimport os\nfor dirname, _, filenames in os.walk('/kaggle/input'):\n    for filename in filenames:\n        print(os.path.join(dirname, filename))\n\n# You can write up to 20GB to the current directory (/kaggle/working/) that gets preserved as output when you create a version using \"Save & Run All\" \n# You can also write temporary files to /kaggle/temp/, but they won't be saved outside of the current session",
   "metadata": {
    "_uuid": "8f2839f25d086af736a60e9eeb907d3b93b6e0e5",
    "_cell_guid": "b1076dfc-b9ad-4769-8c92-a6c4dae69d19",
    "execution": {
     "iopub.status.busy": "2023-04-06T09:01:53.577246Z",
     "iopub.execute_input": "2023-04-06T09:01:53.577656Z",
     "iopub.status.idle": "2023-04-06T09:01:53.586553Z",
     "shell.execute_reply.started": "2023-04-06T09:01:53.577622Z",
     "shell.execute_reply": "2023-04-06T09:01:53.585266Z"
    },
    "trusted": true
   },
   "execution_count": null,
   "outputs": []
  },
  {
   "cell_type": "markdown",
   "source": "## EDA",
   "metadata": {}
  },
  {
   "cell_type": "markdown",
   "source": "### 데이터 불러오기",
   "metadata": {}
  },
  {
   "cell_type": "code",
   "source": "data_path = '/kaggle/input/porto-seguro-safe-driver-prediction/'\ntrain = pd.read_csv(data_path + 'train.csv', index_col='id')\ntest = pd.read_csv(data_path + 'test.csv', index_col='id')\nsubmission = pd.read_csv(data_path + 'sample_submission.csv', index_col='id')",
   "metadata": {
    "execution": {
     "iopub.status.busy": "2023-04-06T09:01:53.588660Z",
     "iopub.execute_input": "2023-04-06T09:01:53.589014Z",
     "iopub.status.idle": "2023-04-06T09:02:01.171440Z",
     "shell.execute_reply.started": "2023-04-06T09:01:53.588979Z",
     "shell.execute_reply": "2023-04-06T09:02:01.170212Z"
    },
    "trusted": true
   },
   "execution_count": null,
   "outputs": []
  },
  {
   "cell_type": "markdown",
   "source": "### 피처요약표",
   "metadata": {}
  },
  {
   "cell_type": "code",
   "source": "def resumetable(df):\n    print(f'데이터 세트 형상: {df.shape}')\n    summary = pd.DataFrame(df.dtypes, columns=['데이터 타입'])\n    summary['결측값 개수'] = (df == -1).sum().values # 피처별 -1 개수\n    summary['고윳값 개수'] = df.nunique().values\n    summary['데이터 종류'] = None\n    \n    unique_list = [df[feature].unique() for feature in df.columns]\n    summary['고유 값'] = unique_list\n    for col in df.columns:\n        if 'bin' in col or col == 'target':\n            summary.loc[col, '데이터 종류'] = '이진형'\n        elif 'cat' in col:\n            summary.loc[col, '데이터 종류'] = '명목형'\n        elif df[col].dtype == float:\n            summary.loc[col, '데이터 종류'] = '연속형'\n        elif df[col].dtype == int:\n            summary.loc[col, '데이터 종류'] = '순서형'\n\n    return summary",
   "metadata": {
    "execution": {
     "iopub.status.busy": "2023-04-06T09:02:01.173226Z",
     "iopub.execute_input": "2023-04-06T09:02:01.173599Z",
     "iopub.status.idle": "2023-04-06T09:02:01.183526Z",
     "shell.execute_reply.started": "2023-04-06T09:02:01.173564Z",
     "shell.execute_reply": "2023-04-06T09:02:01.182128Z"
    },
    "trusted": true
   },
   "execution_count": null,
   "outputs": []
  },
  {
   "cell_type": "code",
   "source": "summary = resumetable(train)\nsummary",
   "metadata": {
    "execution": {
     "iopub.status.busy": "2023-04-06T09:02:01.185011Z",
     "iopub.execute_input": "2023-04-06T09:02:01.185360Z",
     "iopub.status.idle": "2023-04-06T09:02:01.805357Z",
     "shell.execute_reply.started": "2023-04-06T09:02:01.185326Z",
     "shell.execute_reply": "2023-04-06T09:02:01.804127Z"
    },
    "trusted": true
   },
   "execution_count": null,
   "outputs": []
  },
  {
   "cell_type": "code",
   "source": "import missingno as msno\n\n# 훈련 데이터 복사본에서 -1을 np.NaN로 변환\ntrain_copy = train.copy().replace(-1, np.NaN)\n\n# 결측값 시각화(처음 28개만)\nmsno.bar(df=train_copy.iloc[:, 1:29], figsize=(13, 6));",
   "metadata": {
    "execution": {
     "iopub.status.busy": "2023-04-06T09:02:01.809174Z",
     "iopub.execute_input": "2023-04-06T09:02:01.809747Z",
     "iopub.status.idle": "2023-04-06T09:02:04.656996Z",
     "shell.execute_reply.started": "2023-04-06T09:02:01.809693Z",
     "shell.execute_reply": "2023-04-06T09:02:04.655649Z"
    },
    "trusted": true
   },
   "execution_count": null,
   "outputs": []
  },
  {
   "cell_type": "markdown",
   "source": "### 데이터 시각화",
   "metadata": {}
  },
  {
   "cell_type": "code",
   "source": "import seaborn as sns\nimport matplotlib as mpl\nimport matplotlib.pyplot as plt\n%matplotlib inline",
   "metadata": {
    "execution": {
     "iopub.status.busy": "2023-04-06T09:02:04.658482Z",
     "iopub.execute_input": "2023-04-06T09:02:04.659365Z",
     "iopub.status.idle": "2023-04-06T09:02:04.666686Z",
     "shell.execute_reply.started": "2023-04-06T09:02:04.659326Z",
     "shell.execute_reply": "2023-04-06T09:02:04.665085Z"
    },
    "trusted": true
   },
   "execution_count": null,
   "outputs": []
  },
  {
   "cell_type": "markdown",
   "source": "**타깃 분포**",
   "metadata": {}
  },
  {
   "cell_type": "code",
   "source": "def write_percent(ax, total_size):\n    '''도형 객체를 순회하며 막대 그래프 상단에 타깃값 비율 표시'''\n    for patch in ax.patches:\n        height = patch.get_height()     # 도형 높이(데이터 개수)\n        width = patch.get_width()       # 도형 너비\n        left_coord = patch.get_x()      # 도형 왼쪽 테두리의 x축 위치\n        percent = height/total_size*100 # 타깃값 비율\n        \n        # (x, y) 좌표에 텍스트 입력\n        ax.text(left_coord + width/2.0,     # x축 위치\n                height + total_size*0.001,  # y축 위치\n                '{:1.1f}%'.format(percent), # 입력 텍스트\n                ha='center')                # 가운데 정렬\n    \nmpl.rc('font', size=15)\nplt.figure(figsize=(7, 6))\n\nax = sns.countplot(x='target', data=train)\nwrite_percent(ax, len(train)) # 비율 표시\nax.set_title('Target Distribution');",
   "metadata": {
    "execution": {
     "iopub.status.busy": "2023-04-06T09:02:04.668307Z",
     "iopub.execute_input": "2023-04-06T09:02:04.668727Z",
     "iopub.status.idle": "2023-04-06T09:02:04.902144Z",
     "shell.execute_reply.started": "2023-04-06T09:02:04.668690Z",
     "shell.execute_reply": "2023-04-06T09:02:04.900985Z"
    },
    "trusted": true
   },
   "execution_count": null,
   "outputs": []
  },
  {
   "cell_type": "markdown",
   "source": "**이진 피처**",
   "metadata": {}
  },
  {
   "cell_type": "code",
   "source": "import matplotlib.gridspec as gridspec\n\ndef plot_target_ratio_by_features(df, features, num_rows, num_cols, \n                                  size=(12, 18)):\n    mpl.rc('font', size=9) \n    plt.figure(figsize=size)                     # 전체 Figure 크기 설정\n    grid = gridspec.GridSpec(num_rows, num_cols) # 서브플롯 배치\n    plt.subplots_adjust(wspace=0.3, hspace=0.3)  # 서브플롯 좌우/상하 여백 설정\n\n    for idx, feature in enumerate(features):\n        ax = plt.subplot(grid[idx])\n        # ax축에 고윳값별 타깃값 1 비율을 막대 그래프로 그리기\n        sns.barplot(x=feature, y='target', data=df, palette='Set2', ax=ax)",
   "metadata": {
    "execution": {
     "iopub.status.busy": "2023-04-06T09:02:04.903615Z",
     "iopub.execute_input": "2023-04-06T09:02:04.903969Z",
     "iopub.status.idle": "2023-04-06T09:02:04.914326Z",
     "shell.execute_reply.started": "2023-04-06T09:02:04.903935Z",
     "shell.execute_reply": "2023-04-06T09:02:04.913386Z"
    },
    "trusted": true
   },
   "execution_count": null,
   "outputs": []
  },
  {
   "cell_type": "code",
   "source": "bin_features = summary[summary['데이터 종류'] == '이진형'].index # 이진 피처\n# 이진 피처 고윳값별 타깃값 1 비율을 막대 그래프로 그리기\nplot_target_ratio_by_features(train, bin_features, 6, 3) # 6행 3열 배치",
   "metadata": {
    "execution": {
     "iopub.status.busy": "2023-04-06T09:02:04.915447Z",
     "iopub.execute_input": "2023-04-06T09:02:04.916277Z",
     "iopub.status.idle": "2023-04-06T09:04:52.798378Z",
     "shell.execute_reply.started": "2023-04-06T09:02:04.916239Z",
     "shell.execute_reply": "2023-04-06T09:04:52.796384Z"
    },
    "trusted": true
   },
   "execution_count": null,
   "outputs": []
  },
  {
   "cell_type": "markdown",
   "source": "**순서형 피처**",
   "metadata": {}
  },
  {
   "cell_type": "code",
   "source": "ord_features = summary[summary['데이터 종류'] == '순서형'].index\nplot_target_ratio_by_features(train, ord_features, 8, 2, (12, 20))",
   "metadata": {
    "execution": {
     "iopub.status.busy": "2023-04-06T09:04:52.800343Z",
     "iopub.execute_input": "2023-04-06T09:04:52.800709Z",
     "iopub.status.idle": "2023-04-06T09:06:53.870345Z",
     "shell.execute_reply.started": "2023-04-06T09:04:52.800675Z",
     "shell.execute_reply": "2023-04-06T09:06:53.869312Z"
    },
    "trusted": true
   },
   "execution_count": null,
   "outputs": []
  },
  {
   "cell_type": "markdown",
   "source": "**연속형 피처**",
   "metadata": {}
  },
  {
   "cell_type": "code",
   "source": "cont_features = summary[summary['데이터 종류'] == '연속형'].index # 연속형 피처\n\nplt.figure(figsize=(12, 16))                # Figure 크기 설정\ngrid = gridspec.GridSpec(5, 2)              # GridSpec 객체 생성\nplt.subplots_adjust(wspace=0.2, hspace=0.4) # 서브플롯 간 여백 설정\n\nfor idx, cont_feature in enumerate(cont_features):\n    # 값을 5개 구간으로 나누기\n    train[cont_feature] = pd.cut(train[cont_feature], 5)\n\n    ax = plt.subplot(grid[idx])                # 분포도를 그릴 서브플롯 설정\n    sns.barplot(x=cont_feature, y='target', data=train, palette='Set2', ax=ax)\n    ax.tick_params(axis='x', labelrotation=10) # x축 라벨 회전",
   "metadata": {
    "execution": {
     "iopub.status.busy": "2023-04-06T09:06:53.872051Z",
     "iopub.execute_input": "2023-04-06T09:06:53.872647Z",
     "iopub.status.idle": "2023-04-06T09:08:16.537829Z",
     "shell.execute_reply.started": "2023-04-06T09:06:53.872601Z",
     "shell.execute_reply": "2023-04-06T09:08:16.536484Z"
    },
    "trusted": true
   },
   "execution_count": null,
   "outputs": []
  },
  {
   "cell_type": "code",
   "source": "train_copy = train_copy.dropna() # np.NaN 값 삭제",
   "metadata": {
    "execution": {
     "iopub.status.busy": "2023-04-06T09:08:16.539235Z",
     "iopub.execute_input": "2023-04-06T09:08:16.539579Z",
     "iopub.status.idle": "2023-04-06T09:08:16.840365Z",
     "shell.execute_reply.started": "2023-04-06T09:08:16.539538Z",
     "shell.execute_reply": "2023-04-06T09:08:16.839144Z"
    },
    "trusted": true
   },
   "execution_count": null,
   "outputs": []
  },
  {
   "cell_type": "code",
   "source": "plt.figure(figsize=(10, 8))\ncont_corr = train_copy[cont_features].corr()     # 연속형 피처 간 상관관계 \nsns.heatmap(cont_corr, annot=True, cmap='OrRd'); # 히트맵 그리기",
   "metadata": {
    "execution": {
     "iopub.status.busy": "2023-04-06T09:08:16.841870Z",
     "iopub.execute_input": "2023-04-06T09:08:16.842230Z",
     "iopub.status.idle": "2023-04-06T09:08:17.800380Z",
     "shell.execute_reply.started": "2023-04-06T09:08:16.842183Z",
     "shell.execute_reply": "2023-04-06T09:08:17.799182Z"
    },
    "trusted": true
   },
   "execution_count": null,
   "outputs": []
  },
  {
   "cell_type": "markdown",
   "source": "## 베이스라인 모델",
   "metadata": {}
  },
  {
   "cell_type": "markdown",
   "source": "### 피처 엔지니어링",
   "metadata": {}
  },
  {
   "cell_type": "code",
   "source": "# 데이터 경로\ndata_path = '/kaggle/input/porto-seguro-safe-driver-prediction/'\n\ntrain = pd.read_csv(data_path + 'train.csv', index_col='id')\ntest = pd.read_csv(data_path + 'test.csv', index_col='id')\nsubmission = pd.read_csv(data_path + 'sample_submission.csv', index_col='id')",
   "metadata": {
    "execution": {
     "iopub.status.busy": "2023-04-06T09:13:06.958135Z",
     "iopub.execute_input": "2023-04-06T09:13:06.958574Z",
     "iopub.status.idle": "2023-04-06T09:13:14.683823Z",
     "shell.execute_reply.started": "2023-04-06T09:13:06.958536Z",
     "shell.execute_reply": "2023-04-06T09:13:14.682558Z"
    },
    "trusted": true
   },
   "execution_count": null,
   "outputs": []
  },
  {
   "cell_type": "markdown",
   "source": "데이터 합치기 및 target 값 제거",
   "metadata": {}
  },
  {
   "cell_type": "code",
   "source": "all_data = pd.concat([train, test], ignore_index=True)\nall_data = all_data.drop('target', axis=1) ",
   "metadata": {
    "execution": {
     "iopub.status.busy": "2023-04-06T09:13:14.686928Z",
     "iopub.execute_input": "2023-04-06T09:13:14.687441Z",
     "iopub.status.idle": "2023-04-06T09:13:16.342034Z",
     "shell.execute_reply.started": "2023-04-06T09:13:14.687385Z",
     "shell.execute_reply": "2023-04-06T09:13:16.340794Z"
    },
    "trusted": true
   },
   "execution_count": null,
   "outputs": []
  },
  {
   "cell_type": "markdown",
   "source": "명목형 피처 원-핫 인코딩",
   "metadata": {}
  },
  {
   "cell_type": "code",
   "source": "from sklearn.preprocessing import OneHotEncoder\n# 전체 피처\nall_features = all_data.columns\n\n# 명목형 피처 추출\ncat_features = [feature for feature in all_features if 'cat' in feature] \n\nonehot_encoder = OneHotEncoder() # 원-핫 인코더 객체 생성\n# 인코딩\nencoded_cat_matrix = onehot_encoder.fit_transform(all_data[cat_features]) \n\nencoded_cat_matrix",
   "metadata": {
    "execution": {
     "iopub.status.busy": "2023-04-06T09:13:16.343593Z",
     "iopub.execute_input": "2023-04-06T09:13:16.343961Z",
     "iopub.status.idle": "2023-04-06T09:13:18.493177Z",
     "shell.execute_reply.started": "2023-04-06T09:13:16.343920Z",
     "shell.execute_reply": "2023-04-06T09:13:18.491868Z"
    },
    "trusted": true
   },
   "execution_count": null,
   "outputs": []
  },
  {
   "cell_type": "markdown",
   "source": "필요 없는 피처 제거",
   "metadata": {}
  },
  {
   "cell_type": "code",
   "source": "# 추가로 제거할 피처\ndrop_features = ['ps_ind_14', 'ps_ind_10_bin', 'ps_ind_11_bin', \n                 'ps_ind_12_bin', 'ps_ind_13_bin', 'ps_car_14']\n\n# 1) 명목형 피처, 2) calc 분류의 피처, 3) 추가 제거할 피처 를 제외한 피처\nremaining_features = [feature for feature in all_features \n                      if ('cat' not in feature and \n                          'calc' not in feature and \n                          feature not in drop_features)]\nremaining_features",
   "metadata": {
    "execution": {
     "iopub.status.busy": "2023-04-06T09:13:18.495972Z",
     "iopub.execute_input": "2023-04-06T09:13:18.496818Z",
     "iopub.status.idle": "2023-04-06T09:13:18.507715Z",
     "shell.execute_reply.started": "2023-04-06T09:13:18.496713Z",
     "shell.execute_reply": "2023-04-06T09:13:18.506579Z"
    },
    "trusted": true
   },
   "execution_count": null,
   "outputs": []
  },
  {
   "cell_type": "markdown",
   "source": "희소행렬",
   "metadata": {}
  },
  {
   "cell_type": "code",
   "source": "from scipy import sparse\n\nall_data_sprs = sparse.hstack([sparse.csr_matrix(all_data[remaining_features]),\n                               encoded_cat_matrix],\n                              format='csr')",
   "metadata": {
    "execution": {
     "iopub.status.busy": "2023-04-06T09:13:28.691509Z",
     "iopub.execute_input": "2023-04-06T09:13:28.692240Z",
     "iopub.status.idle": "2023-04-06T09:13:31.694412Z",
     "shell.execute_reply.started": "2023-04-06T09:13:28.692172Z",
     "shell.execute_reply": "2023-04-06T09:13:31.693006Z"
    },
    "trusted": true
   },
   "execution_count": null,
   "outputs": []
  },
  {
   "cell_type": "markdown",
   "source": "데이터 나누기",
   "metadata": {}
  },
  {
   "cell_type": "code",
   "source": "num_train = len(train) # 훈련 데이터 개수\n\n# 훈련 데이터와 테스트 데이터 나누기\nX = all_data_sprs[:num_train]\nX_test = all_data_sprs[num_train:]\n\ny = train['target'].values",
   "metadata": {
    "execution": {
     "iopub.status.busy": "2023-04-06T09:13:39.611791Z",
     "iopub.execute_input": "2023-04-06T09:13:39.612208Z",
     "iopub.status.idle": "2023-04-06T09:13:40.543413Z",
     "shell.execute_reply.started": "2023-04-06T09:13:39.612157Z",
     "shell.execute_reply": "2023-04-06T09:13:40.542043Z"
    },
    "trusted": true
   },
   "execution_count": null,
   "outputs": []
  },
  {
   "cell_type": "markdown",
   "source": "### 평가지표 계산 함수",
   "metadata": {}
  },
  {
   "cell_type": "code",
   "source": "def eval_gini(y_true, y_pred):\n    # 실제값과 예측값의 크기가 같은지 확인 (값이 다르면 오류 발생)\n    assert y_true.shape == y_pred.shape\n\n    n_samples = y_true.shape[0]                      # 데이터 개수\n    L_mid = np.linspace(1 / n_samples, 1, n_samples) # 대각선 값\n\n    # 1) 예측값에 대한 지니계수\n    pred_order = y_true[y_pred.argsort()] # y_pred 크기순으로 y_true 값 정렬\n    L_pred = np.cumsum(pred_order) / np.sum(pred_order) # 로렌츠 곡선\n    G_pred = np.sum(L_mid - L_pred)       # 예측 값에 대한 지니계수\n\n    # 2) 예측이 완벽할 때 지니계수\n    true_order = y_true[y_true.argsort()] # y_true 크기순으로 y_true 값 정렬\n    L_true = np.cumsum(true_order) / np.sum(true_order) # 로렌츠 곡선\n    G_true = np.sum(L_mid - L_true)       # 예측이 완벽할 때 지니계수\n\n    # 정규화된 지니계수\n    return G_pred / G_true",
   "metadata": {
    "execution": {
     "iopub.status.busy": "2023-04-06T09:14:14.536753Z",
     "iopub.execute_input": "2023-04-06T09:14:14.537224Z",
     "iopub.status.idle": "2023-04-06T09:14:14.545919Z",
     "shell.execute_reply.started": "2023-04-06T09:14:14.537170Z",
     "shell.execute_reply": "2023-04-06T09:14:14.544557Z"
    },
    "trusted": true
   },
   "execution_count": null,
   "outputs": []
  },
  {
   "cell_type": "code",
   "source": "def gini(preds, dtrain):\n    labels = dtrain.get_label()\n    return 'gini', eval_gini(labels, preds), True # 반환값",
   "metadata": {
    "execution": {
     "iopub.status.busy": "2023-04-06T09:14:23.927072Z",
     "iopub.execute_input": "2023-04-06T09:14:23.928535Z",
     "iopub.status.idle": "2023-04-06T09:14:23.935119Z",
     "shell.execute_reply.started": "2023-04-06T09:14:23.928473Z",
     "shell.execute_reply": "2023-04-06T09:14:23.933809Z"
    },
    "trusted": true
   },
   "execution_count": null,
   "outputs": []
  },
  {
   "cell_type": "markdown",
   "source": "### 모델 훈련 및 성능 검증",
   "metadata": {}
  },
  {
   "cell_type": "markdown",
   "source": "OOF 방식으로 LightGBM 훈련",
   "metadata": {}
  },
  {
   "cell_type": "code",
   "source": "from sklearn.model_selection import StratifiedKFold\n\n# 층화 K 폴드 교차 검증기\nfolds = StratifiedKFold(n_splits=5, shuffle=True, random_state=1991)",
   "metadata": {
    "execution": {
     "iopub.status.busy": "2023-04-06T09:15:13.711694Z",
     "iopub.execute_input": "2023-04-06T09:15:13.712125Z",
     "iopub.status.idle": "2023-04-06T09:15:14.173345Z",
     "shell.execute_reply.started": "2023-04-06T09:15:13.712084Z",
     "shell.execute_reply": "2023-04-06T09:15:14.172007Z"
    },
    "trusted": true
   },
   "execution_count": null,
   "outputs": []
  },
  {
   "cell_type": "code",
   "source": "params = {'objective': 'binary',\n          'learning_rate': 0.01,\n          'force_row_wise': True,\n          'random_state': 0}",
   "metadata": {
    "execution": {
     "iopub.status.busy": "2023-04-06T09:15:21.343763Z",
     "iopub.execute_input": "2023-04-06T09:15:21.344645Z",
     "iopub.status.idle": "2023-04-06T09:15:21.349868Z",
     "shell.execute_reply.started": "2023-04-06T09:15:21.344597Z",
     "shell.execute_reply": "2023-04-06T09:15:21.348856Z"
    },
    "trusted": true
   },
   "execution_count": null,
   "outputs": []
  },
  {
   "cell_type": "code",
   "source": "# OOF 방식으로 훈련된 모델로 검증 데이터 타깃값을 예측한 확률을 담을 1차원 배열\noof_val_preds = np.zeros(X.shape[0]) \n# OOF 방식으로 훈련된 모델로 테스트 데이터 타깃값을 예측한 확률을 담을 1차원 배열\noof_test_preds = np.zeros(X_test.shape[0]) ",
   "metadata": {
    "execution": {
     "iopub.status.busy": "2023-04-06T09:17:06.712900Z",
     "iopub.execute_input": "2023-04-06T09:17:06.714310Z",
     "iopub.status.idle": "2023-04-06T09:17:06.721266Z",
     "shell.execute_reply.started": "2023-04-06T09:17:06.714256Z",
     "shell.execute_reply": "2023-04-06T09:17:06.720175Z"
    },
    "trusted": true
   },
   "execution_count": null,
   "outputs": []
  },
  {
   "cell_type": "code",
   "source": "import lightgbm as lgb\n\n# OOF 방식으로 모델 훈련, 검증, 예측\nfor idx, (train_idx, valid_idx) in enumerate(folds.split(X, y)):\n    # 각 폴드를 구분하는 문구 출력\n    print('#'*40, f'폴드 {idx+1} / 폴드 {folds.n_splits}', '#'*40)\n    \n    # 훈련용 데이터, 검증용 데이터 설정 \n    X_train, y_train = X[train_idx], y[train_idx] # 훈련용 데이터\n    X_valid, y_valid = X[valid_idx], y[valid_idx] # 검증용 데이터\n\n    # LightGBM 전용 데이터셋 생성 \n    dtrain = lgb.Dataset(X_train, y_train) # LightGBM 전용 훈련 데이터셋\n    dvalid = lgb.Dataset(X_valid, y_valid) # LightGBM 전용 검증 데이터셋\n\n    # LightGBM 모델 훈련 \n    lgb_model = lgb.train(params=params,        # 훈련용 하이퍼파라미터\n                          train_set=dtrain,     # 훈련 데이터셋\n                          num_boost_round=1000, # 부스팅 반복 횟수\n                          valid_sets=dvalid,    # 성능 평가용 검증 데이터셋\n                          feval=gini,           # 검증용 평가지표\n                          early_stopping_rounds=100, # 조기종료 조건\n                          verbose_eval=100)     # 100번째마다 점수 출력\n    \n    # 테스트 데이터를 활용해 OOF 예측\n    oof_test_preds += lgb_model.predict(X_test)/folds.n_splits\n    \n    # 모델 성능 평가를 위한 검증 데이터 타깃값 예측\n    oof_val_preds[valid_idx] += lgb_model.predict(X_valid)\n    \n    # 검증 데이터 예측 확률에 대한 정규화 지니계수 \n    gini_score = eval_gini(y_valid, oof_val_preds[valid_idx])\n    print(f'폴드 {idx+1} 지니계수 : {gini_score}\\n')",
   "metadata": {
    "execution": {
     "iopub.status.busy": "2023-04-06T09:17:07.501434Z",
     "iopub.execute_input": "2023-04-06T09:17:07.501875Z",
     "iopub.status.idle": "2023-04-06T09:22:57.097654Z",
     "shell.execute_reply.started": "2023-04-06T09:17:07.501837Z",
     "shell.execute_reply": "2023-04-06T09:22:57.096437Z"
    },
    "trusted": true
   },
   "execution_count": null,
   "outputs": []
  },
  {
   "cell_type": "code",
   "source": "print('OOF 검증 데이터 지니계수:', eval_gini(y, oof_val_preds))",
   "metadata": {
    "execution": {
     "iopub.status.busy": "2023-04-06T09:24:15.769259Z",
     "iopub.execute_input": "2023-04-06T09:24:15.770115Z",
     "iopub.status.idle": "2023-04-06T09:24:15.885608Z",
     "shell.execute_reply.started": "2023-04-06T09:24:15.770071Z",
     "shell.execute_reply": "2023-04-06T09:24:15.884256Z"
    },
    "trusted": true
   },
   "execution_count": null,
   "outputs": []
  },
  {
   "cell_type": "code",
   "source": "submission['target'] = oof_test_preds\nsubmission.to_csv('submission.csv')",
   "metadata": {
    "execution": {
     "iopub.status.busy": "2023-04-06T09:25:09.621476Z",
     "iopub.execute_input": "2023-04-06T09:25:09.621889Z",
     "iopub.status.idle": "2023-04-06T09:25:11.841679Z",
     "shell.execute_reply.started": "2023-04-06T09:25:09.621853Z",
     "shell.execute_reply": "2023-04-06T09:25:11.840532Z"
    },
    "trusted": true
   },
   "execution_count": null,
   "outputs": []
  },
  {
   "cell_type": "code",
   "source": "",
   "metadata": {},
   "execution_count": null,
   "outputs": []
  }
 ]
}
