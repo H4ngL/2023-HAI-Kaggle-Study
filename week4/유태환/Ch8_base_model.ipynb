{
  "nbformat": 4,
  "nbformat_minor": 0,
  "metadata": {
    "colab": {
      "provenance": []
    },
    "kernelspec": {
      "name": "python3",
      "display_name": "Python 3"
    },
    "language_info": {
      "name": "python"
    }
  },
  "cells": [
    {
      "cell_type": "code",
      "source": [
        "import pandas as pd\n",
        "\n",
        "data_path = '/kaggle/input/porto-seguro-safe-driver-prediction/'\n",
        "\n",
        "train = pd.read_csv(data_path + 'train.csv', index_col='id')\n",
        "test = pd.read_csv(data_path + 'test.csv', index_col='id')\n",
        "submission = pd.read_csv(data_path + 'sample_submission.csv', index_col='id')"
      ],
      "metadata": {
        "execution": {
          "iopub.status.busy": "2023-04-06T06:48:26.487422Z",
          "iopub.execute_input": "2023-04-06T06:48:26.487916Z",
          "iopub.status.idle": "2023-04-06T06:48:34.204069Z",
          "shell.execute_reply.started": "2023-04-06T06:48:26.487865Z",
          "shell.execute_reply": "2023-04-06T06:48:34.202800Z"
        },
        "trusted": true,
        "id": "7cACBZO35X-8"
      },
      "execution_count": null,
      "outputs": []
    },
    {
      "cell_type": "code",
      "source": [
        "from sklearn.preprocessing import OneHotEncoder\n",
        "from scipy import sparse\n",
        "\n",
        "all_data = pd.concat([train, test], ignore_index=True)\n",
        "all_data = all_data.drop('target', axis=1)\n",
        "\n",
        "all_features = all_data.columns\n",
        "\n",
        "cat_features = [feature for feature in all_features if 'cat' in feature]\n",
        "onehot_encoder = OneHotEncoder()\n",
        "encoded_cat_matrix = onehot_encoder.fit_transform(all_data[cat_features])\n",
        "\n",
        "drop_features = ['ps_ind_14', 'ps_ind_10_bin', 'ps_ind_11_bin', \n",
        "                 'ps_ind_12_bin', 'ps_ind_13_bin', 'ps_car_14']\n",
        "\n",
        "remaining_features = [feature for feature in all_features if 'cat' not in feature and 'calc' not in feature and feature not in drop_features]\n",
        "\n",
        "all_data_sprs = sparse.hstack([sparse.csr_matrix(all_data[remaining_features]), encoded_cat_matrix], format='csr')"
      ],
      "metadata": {
        "execution": {
          "iopub.status.busy": "2023-04-06T06:52:57.275566Z",
          "iopub.execute_input": "2023-04-06T06:52:57.276006Z",
          "iopub.status.idle": "2023-04-06T06:53:03.888703Z",
          "shell.execute_reply.started": "2023-04-06T06:52:57.275971Z",
          "shell.execute_reply": "2023-04-06T06:53:03.887483Z"
        },
        "trusted": true,
        "id": "9xVqyO335X-8"
      },
      "execution_count": null,
      "outputs": []
    },
    {
      "cell_type": "code",
      "source": [
        "num_train = len(train)\n",
        "X = all_data_sprs[:num_train]\n",
        "X_test = all_data_sprs[num_train:]\n",
        "\n",
        "y = train['target'].values"
      ],
      "metadata": {
        "execution": {
          "iopub.status.busy": "2023-04-06T07:00:56.328166Z",
          "iopub.execute_input": "2023-04-06T07:00:56.329873Z",
          "iopub.status.idle": "2023-04-06T07:00:57.300236Z",
          "shell.execute_reply.started": "2023-04-06T07:00:56.329810Z",
          "shell.execute_reply": "2023-04-06T07:00:57.298850Z"
        },
        "trusted": true,
        "id": "-Qsu7-oK5X-8"
      },
      "execution_count": null,
      "outputs": []
    },
    {
      "cell_type": "markdown",
      "source": [
        "가져온 지니 계수 함수"
      ],
      "metadata": {
        "id": "NYHDziC85X-8"
      }
    },
    {
      "cell_type": "code",
      "source": [
        "import numpy as np\n",
        "\n",
        "def eval_gini(y_true, y_pred):\n",
        "    # 실제값과 예측값의 크기가 같은지 확인 (값이 다르면 오류 발생)\n",
        "    assert y_true.shape == y_pred.shape\n",
        "\n",
        "    n_samples = y_true.shape[0]                      # 데이터 개수\n",
        "    L_mid = np.linspace(1 / n_samples, 1, n_samples) # 대각선 값\n",
        "\n",
        "    # 1) 예측값에 대한 지니계수\n",
        "    pred_order = y_true[y_pred.argsort()] # y_pred 크기순으로 y_true 값 정렬\n",
        "    L_pred = np.cumsum(pred_order) / np.sum(pred_order) # 로렌츠 곡선\n",
        "    G_pred = np.sum(L_mid - L_pred)       # 예측 값에 대한 지니계수\n",
        "\n",
        "    # 2) 예측이 완벽할 때 지니계수\n",
        "    true_order = y_true[y_true.argsort()] # y_true 크기순으로 y_true 값 정렬\n",
        "    L_true = np.cumsum(true_order) / np.sum(true_order) # 로렌츠 곡선\n",
        "    G_true = np.sum(L_mid - L_true)       # 예측이 완벽할 때 지니계수\n",
        "\n",
        "    # 정규화된 지니계수\n",
        "    return G_pred / G_true\n",
        "\n",
        "def gini(preds, dtrain):\n",
        "    labels = dtrain.get_label()\n",
        "    return 'gini', eval_gini(labels, preds), True # 반환값"
      ],
      "metadata": {
        "execution": {
          "iopub.status.busy": "2023-04-06T07:01:01.452785Z",
          "iopub.execute_input": "2023-04-06T07:01:01.453391Z",
          "iopub.status.idle": "2023-04-06T07:01:01.463439Z",
          "shell.execute_reply.started": "2023-04-06T07:01:01.453189Z",
          "shell.execute_reply": "2023-04-06T07:01:01.461962Z"
        },
        "trusted": true,
        "id": "Rb7RxxIU5X-8"
      },
      "execution_count": null,
      "outputs": []
    },
    {
      "cell_type": "code",
      "source": [
        "from sklearn.model_selection import StratifiedKFold\n",
        "\n",
        "folds = StratifiedKFold(n_splits=5, shuffle=True, random_state=1991)\n",
        "\n",
        "params = {\n",
        "    'objective': 'binary',\n",
        "    'learning_rate': 0.01,\n",
        "    'force_row_wise': True,\n",
        "    'random_state': 0\n",
        "}\n",
        "\n",
        "oof_val_preds = np.zeros(X.shape[0])\n",
        "oof_test_preds = np.zeros(X_test.shape[0])"
      ],
      "metadata": {
        "execution": {
          "iopub.status.busy": "2023-04-06T07:01:54.041475Z",
          "iopub.execute_input": "2023-04-06T07:01:54.042755Z",
          "iopub.status.idle": "2023-04-06T07:01:54.052511Z",
          "shell.execute_reply.started": "2023-04-06T07:01:54.042698Z",
          "shell.execute_reply": "2023-04-06T07:01:54.050661Z"
        },
        "trusted": true,
        "id": "M_OPTD3R5X-8"
      },
      "execution_count": null,
      "outputs": []
    },
    {
      "cell_type": "code",
      "source": [
        "import lightgbm as lgb\n",
        "\n",
        "for idx, (train_idx, valid_idx) in enumerate(folds.split(X, y)):\n",
        "    print(f'폴드 {idx + 1} / 폴드 {folds.n_splits}')\n",
        "    \n",
        "    X_train, y_train = X[train_idx], y[train_idx]\n",
        "    X_valid, y_valid = X[valid_idx], y[valid_idx]\n",
        "    \n",
        "    dtrain = lgb.Dataset(X_train, y_train)\n",
        "    dvalid = lgb.Dataset(X_valid, y_valid)\n",
        "    \n",
        "    lgb_model = lgb.train(params=params,\n",
        "                          train_set=dtrain,\n",
        "                          num_boost_round=1000,\n",
        "                          valid_sets=dvalid,\n",
        "                          feval=gini,\n",
        "                          early_stopping_rounds=100,\n",
        "                          verbose_eval=100)\n",
        "    \n",
        "    oof_test_preds += lgb_model.predict(X_test)/folds.n_splits\n",
        "    oof_val_preds[valid_idx] += lgb_model.predict(X_valid)\n",
        "    \n",
        "    gini_score = eval_gini(y_valid, oof_val_preds[valid_idx])\n",
        "    print(f'폴드: {idx + 1}, 지니계수: {gini_score}\\n')"
      ],
      "metadata": {
        "execution": {
          "iopub.status.busy": "2023-04-06T07:01:58.256430Z",
          "iopub.execute_input": "2023-04-06T07:01:58.257513Z",
          "iopub.status.idle": "2023-04-06T07:08:00.089609Z",
          "shell.execute_reply.started": "2023-04-06T07:01:58.257469Z",
          "shell.execute_reply": "2023-04-06T07:08:00.088555Z"
        },
        "trusted": true,
        "id": "4-S7xA6f5X-8",
        "outputId": "b29417d2-3fce-4d15-9b58-e97db93e9901"
      },
      "execution_count": null,
      "outputs": [
        {
          "output_type": "display_data",
          "data": {
            "text/plain": "<IPython.core.display.HTML object>",
            "text/html": "<style type='text/css'>\n.datatable table.frame { margin-bottom: 0; }\n.datatable table.frame thead { border-bottom: none; }\n.datatable table.frame tr.coltypes td {  color: #FFFFFF;  line-height: 6px;  padding: 0 0.5em;}\n.datatable .bool    { background: #DDDD99; }\n.datatable .object  { background: #565656; }\n.datatable .int     { background: #5D9E5D; }\n.datatable .float   { background: #4040CC; }\n.datatable .str     { background: #CC4040; }\n.datatable .time    { background: #40CC40; }\n.datatable .row_index {  background: var(--jp-border-color3);  border-right: 1px solid var(--jp-border-color0);  color: var(--jp-ui-font-color3);  font-size: 9px;}\n.datatable .frame tbody td { text-align: left; }\n.datatable .frame tr.coltypes .row_index {  background: var(--jp-border-color0);}\n.datatable th:nth-child(2) { padding-left: 12px; }\n.datatable .hellipsis {  color: var(--jp-cell-editor-border-color);}\n.datatable .vellipsis {  background: var(--jp-layout-color0);  color: var(--jp-cell-editor-border-color);}\n.datatable .na {  color: var(--jp-cell-editor-border-color);  font-size: 80%;}\n.datatable .sp {  opacity: 0.25;}\n.datatable .footer { font-size: 9px; }\n.datatable .frame_dimensions {  background: var(--jp-border-color3);  border-top: 1px solid var(--jp-border-color0);  color: var(--jp-ui-font-color3);  display: inline-block;  opacity: 0.6;  padding: 1px 10px 1px 5px;}\n</style>\n"
          },
          "metadata": {}
        },
        {
          "name": "stdout",
          "text": "폴드 1 / 폴드 5\n",
          "output_type": "stream"
        },
        {
          "name": "stderr",
          "text": "/opt/conda/lib/python3.7/site-packages/lightgbm/engine.py:181: UserWarning: 'early_stopping_rounds' argument is deprecated and will be removed in a future release of LightGBM. Pass 'early_stopping()' callback via 'callbacks' argument instead.\n  _log_warning(\"'early_stopping_rounds' argument is deprecated and will be removed in a future release of LightGBM. \"\n/opt/conda/lib/python3.7/site-packages/lightgbm/engine.py:239: UserWarning: 'verbose_eval' argument is deprecated and will be removed in a future release of LightGBM. Pass 'log_evaluation()' callback via 'callbacks' argument instead.\n  _log_warning(\"'verbose_eval' argument is deprecated and will be removed in a future release of LightGBM. \"\n",
          "output_type": "stream"
        },
        {
          "name": "stdout",
          "text": "[LightGBM] [Info] Number of positive: 17355, number of negative: 458814\n[LightGBM] [Info] Total Bins 1095\n[LightGBM] [Info] Number of data points in the train set: 476169, number of used features: 200\n[LightGBM] [Info] [binary:BoostFromScore]: pavg=0.036447 -> initscore=-3.274764\n[LightGBM] [Info] Start training from score -3.274764\nTraining until validation scores don't improve for 100 rounds\n[100]\tvalid_0's binary_logloss: 0.153354\tvalid_0's gini: 0.261651\n[200]\tvalid_0's binary_logloss: 0.152426\tvalid_0's gini: 0.275704\n[300]\tvalid_0's binary_logloss: 0.152023\tvalid_0's gini: 0.282277\n[400]\tvalid_0's binary_logloss: 0.1518\tvalid_0's gini: 0.286648\n[500]\tvalid_0's binary_logloss: 0.151713\tvalid_0's gini: 0.287944\n[600]\tvalid_0's binary_logloss: 0.151672\tvalid_0's gini: 0.288637\n[700]\tvalid_0's binary_logloss: 0.151659\tvalid_0's gini: 0.288939\nEarly stopping, best iteration is:\n[681]\tvalid_0's binary_logloss: 0.151659\tvalid_0's gini: 0.289034\n폴드: 1, 지니계수: 0.2890336154188232\n\n폴드 2 / 폴드 5\n[LightGBM] [Info] Number of positive: 17355, number of negative: 458814\n[LightGBM] [Info] Total Bins 1093\n[LightGBM] [Info] Number of data points in the train set: 476169, number of used features: 200\n[LightGBM] [Info] [binary:BoostFromScore]: pavg=0.036447 -> initscore=-3.274764\n[LightGBM] [Info] Start training from score -3.274764\nTraining until validation scores don't improve for 100 rounds\n[100]\tvalid_0's binary_logloss: 0.153498\tvalid_0's gini: 0.249446\n[200]\tvalid_0's binary_logloss: 0.152708\tvalid_0's gini: 0.260777\n[300]\tvalid_0's binary_logloss: 0.152397\tvalid_0's gini: 0.267104\n[400]\tvalid_0's binary_logloss: 0.152234\tvalid_0's gini: 0.271522\n[500]\tvalid_0's binary_logloss: 0.152164\tvalid_0's gini: 0.273276\n[600]\tvalid_0's binary_logloss: 0.152136\tvalid_0's gini: 0.27426\n[700]\tvalid_0's binary_logloss: 0.152125\tvalid_0's gini: 0.274337\n[800]\tvalid_0's binary_logloss: 0.152116\tvalid_0's gini: 0.274634\n[900]\tvalid_0's binary_logloss: 0.152106\tvalid_0's gini: 0.274992\n[1000]\tvalid_0's binary_logloss: 0.152104\tvalid_0's gini: 0.275078\nDid not meet early stopping. Best iteration is:\n[983]\tvalid_0's binary_logloss: 0.152101\tvalid_0's gini: 0.275121\n폴드: 2, 지니계수: 0.27512085497432026\n\n폴드 3 / 폴드 5\n[LightGBM] [Info] Number of positive: 17356, number of negative: 458814\n[LightGBM] [Info] Total Bins 1097\n[LightGBM] [Info] Number of data points in the train set: 476170, number of used features: 200\n[LightGBM] [Info] [binary:BoostFromScore]: pavg=0.036449 -> initscore=-3.274707\n[LightGBM] [Info] Start training from score -3.274707\nTraining until validation scores don't improve for 100 rounds\n[100]\tvalid_0's binary_logloss: 0.153263\tvalid_0's gini: 0.261144\n[200]\tvalid_0's binary_logloss: 0.15234\tvalid_0's gini: 0.271571\n[300]\tvalid_0's binary_logloss: 0.151981\tvalid_0's gini: 0.276391\n[400]\tvalid_0's binary_logloss: 0.151818\tvalid_0's gini: 0.278667\n[500]\tvalid_0's binary_logloss: 0.151758\tvalid_0's gini: 0.279899\n[600]\tvalid_0's binary_logloss: 0.15174\tvalid_0's gini: 0.280373\nEarly stopping, best iteration is:\n[560]\tvalid_0's binary_logloss: 0.151737\tvalid_0's gini: 0.280598\n폴드: 3, 지니계수: 0.2805977528883293\n\n폴드 4 / 폴드 5\n[LightGBM] [Info] Number of positive: 17355, number of negative: 458815\n[LightGBM] [Info] Total Bins 1096\n[LightGBM] [Info] Number of data points in the train set: 476170, number of used features: 200\n[LightGBM] [Info] [binary:BoostFromScore]: pavg=0.036447 -> initscore=-3.274766\n[LightGBM] [Info] Start training from score -3.274766\nTraining until validation scores don't improve for 100 rounds\n[100]\tvalid_0's binary_logloss: 0.153399\tvalid_0's gini: 0.25056\n[200]\tvalid_0's binary_logloss: 0.152556\tvalid_0's gini: 0.262835\n[300]\tvalid_0's binary_logloss: 0.152258\tvalid_0's gini: 0.267038\n[400]\tvalid_0's binary_logloss: 0.152118\tvalid_0's gini: 0.269715\n[500]\tvalid_0's binary_logloss: 0.15208\tvalid_0's gini: 0.270536\n[600]\tvalid_0's binary_logloss: 0.152085\tvalid_0's gini: 0.270629\nEarly stopping, best iteration is:\n[522]\tvalid_0's binary_logloss: 0.152074\tvalid_0's gini: 0.270749\n폴드: 4, 지니계수: 0.2707490338932929\n\n폴드 5 / 폴드 5\n[LightGBM] [Info] Number of positive: 17355, number of negative: 458815\n[LightGBM] [Info] Total Bins 1098\n[LightGBM] [Info] Number of data points in the train set: 476170, number of used features: 200\n[LightGBM] [Info] [binary:BoostFromScore]: pavg=0.036447 -> initscore=-3.274766\n[LightGBM] [Info] Start training from score -3.274766\nTraining until validation scores don't improve for 100 rounds\n[100]\tvalid_0's binary_logloss: 0.153483\tvalid_0's gini: 0.262106\n[200]\tvalid_0's binary_logloss: 0.152646\tvalid_0's gini: 0.273406\n[300]\tvalid_0's binary_logloss: 0.152291\tvalid_0's gini: 0.279805\n[400]\tvalid_0's binary_logloss: 0.152093\tvalid_0's gini: 0.284645\n[500]\tvalid_0's binary_logloss: 0.152004\tvalid_0's gini: 0.28713\n[600]\tvalid_0's binary_logloss: 0.151982\tvalid_0's gini: 0.287668\nEarly stopping, best iteration is:\n[583]\tvalid_0's binary_logloss: 0.15198\tvalid_0's gini: 0.287804\n폴드: 5, 지니계수: 0.2878042213842625\n\n",
          "output_type": "stream"
        }
      ]
    },
    {
      "cell_type": "code",
      "source": [
        "print(eval_gini(y, oof_val_preds))"
      ],
      "metadata": {
        "execution": {
          "iopub.status.busy": "2023-04-06T07:08:59.815472Z",
          "iopub.execute_input": "2023-04-06T07:08:59.816043Z",
          "iopub.status.idle": "2023-04-06T07:08:59.929000Z",
          "shell.execute_reply.started": "2023-04-06T07:08:59.815992Z",
          "shell.execute_reply": "2023-04-06T07:08:59.927695Z"
        },
        "trusted": true,
        "id": "okcRXiHy5X-8",
        "outputId": "3f8e4fe3-b789-473a-84c7-6eed431bc702"
      },
      "execution_count": null,
      "outputs": [
        {
          "name": "stdout",
          "text": "0.2804995714877777\n",
          "output_type": "stream"
        }
      ]
    },
    {
      "cell_type": "code",
      "source": [
        "submission['target'] = oof_test_preds\n",
        "submission.to_csv('submission.csv')"
      ],
      "metadata": {
        "execution": {
          "iopub.status.busy": "2023-04-06T07:09:54.164347Z",
          "iopub.execute_input": "2023-04-06T07:09:54.164752Z",
          "iopub.status.idle": "2023-04-06T07:09:56.367853Z",
          "shell.execute_reply.started": "2023-04-06T07:09:54.164717Z",
          "shell.execute_reply": "2023-04-06T07:09:56.366510Z"
        },
        "trusted": true,
        "id": "B4Lyhrli5X-8"
      },
      "execution_count": null,
      "outputs": []
    }
  ]
}