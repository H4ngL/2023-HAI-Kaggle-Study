{
  "nbformat": 4,
  "nbformat_minor": 0,
  "metadata": {
    "colab": {
      "provenance": [],
      "collapsed_sections": [
        "0V6xzxXEr01t"
      ]
    },
    "kernelspec": {
      "name": "python3",
      "display_name": "Python 3"
    },
    "language_info": {
      "name": "python"
    }
  },
  "cells": [
    {
      "cell_type": "markdown",
      "source": [
        "# 데이터 다운로드 및 세팅"
      ],
      "metadata": {
        "id": "zIU1QpX6NqFi"
      }
    },
    {
      "cell_type": "markdown",
      "source": [
        "데이터 다운로드 위치는 아래 링크 참고.\n",
        "\n",
        "[kaggle : Categorical Feature Encoding Challenge](https://www.kaggle.com/competitions/porto-seguro-safe-driver-prediction/data?select=train.csv)\n",
        "\n",
        "데이터 다운로드 -> 구글 드라이브 zip 파일 업로드"
      ],
      "metadata": {
        "id": "U5wS1bnnNuNU"
      }
    },
    {
      "cell_type": "code",
      "source": [
        "from google.colab import drive\n",
        "drive.mount('drive')"
      ],
      "metadata": {
        "colab": {
          "base_uri": "https://localhost:8080/"
        },
        "id": "uUHoIap8mqIf",
        "outputId": "9a7eabae-aaca-4e2c-86d0-71d55fed1ea1"
      },
      "execution_count": null,
      "outputs": [
        {
          "output_type": "stream",
          "name": "stdout",
          "text": [
            "Mounted at drive\n"
          ]
        }
      ]
    },
    {
      "cell_type": "code",
      "source": [
        "import os\n",
        "\n",
        "os.makedirs('./input',  exist_ok=True)\n",
        "os.makedirs('./output', exist_ok=True)"
      ],
      "metadata": {
        "id": "b15vvKjamMle"
      },
      "execution_count": null,
      "outputs": []
    },
    {
      "cell_type": "code",
      "source": [
        "import zipfile\n",
        "\n",
        "import zipfile\n",
        "zipfile.ZipFile('/content/drive/MyDrive/ML/HAI/kaggle/4주차/sample_submission.csv.zip').extractall('./input')\n",
        "zipfile.ZipFile('/content/drive/MyDrive/ML/HAI/kaggle/4주차/train.csv.zip').extractall('./input')\n",
        "zipfile.ZipFile('/content/drive/MyDrive/ML/HAI/kaggle/4주차/test.csv.zip').extractall('./input')"
      ],
      "metadata": {
        "id": "ZCWgXnAGhsGA"
      },
      "execution_count": null,
      "outputs": []
    },
    {
      "cell_type": "code",
      "source": [
        "import pandas as pd\n",
        "\n",
        "data_path = './input/'\n",
        "\n",
        "train = pd.read_csv(data_path + 'train.csv', index_col='id')\n",
        "test = pd.read_csv(data_path + 'test.csv', index_col='id')\n",
        "submission = pd.read_csv(data_path + 'sample_submission.csv', index_col='id')"
      ],
      "metadata": {
        "id": "snrotAzCmBGY"
      },
      "execution_count": null,
      "outputs": []
    },
    {
      "cell_type": "markdown",
      "source": [
        "# EDA"
      ],
      "metadata": {
        "id": "0V6xzxXEr01t"
      }
    },
    {
      "cell_type": "code",
      "source": [
        "train.shape, test.shape"
      ],
      "metadata": {
        "colab": {
          "base_uri": "https://localhost:8080/"
        },
        "id": "V7JrkUzZoZfr",
        "outputId": "587e9557-db08-453c-ae9b-9ab90d90a972"
      },
      "execution_count": null,
      "outputs": [
        {
          "output_type": "execute_result",
          "data": {
            "text/plain": [
              "((595212, 58), (892816, 57))"
            ]
          },
          "metadata": {},
          "execution_count": 5
        }
      ]
    },
    {
      "cell_type": "code",
      "source": [
        "train.head()"
      ],
      "metadata": {
        "colab": {
          "base_uri": "https://localhost:8080/",
          "height": 331
        },
        "id": "jsmCuEaUoetK",
        "outputId": "3548d086-fa85-4030-c1b9-132138a55e7d"
      },
      "execution_count": null,
      "outputs": [
        {
          "output_type": "execute_result",
          "data": {
            "text/plain": [
              "    target  ps_ind_01  ps_ind_02_cat  ps_ind_03  ps_ind_04_cat  ps_ind_05_cat  \\\n",
              "id                                                                              \n",
              "7        0          2              2          5              1              0   \n",
              "9        0          1              1          7              0              0   \n",
              "13       0          5              4          9              1              0   \n",
              "16       0          0              1          2              0              0   \n",
              "17       0          0              2          0              1              0   \n",
              "\n",
              "    ps_ind_06_bin  ps_ind_07_bin  ps_ind_08_bin  ps_ind_09_bin  ...  \\\n",
              "id                                                              ...   \n",
              "7               0              1              0              0  ...   \n",
              "9               0              0              1              0  ...   \n",
              "13              0              0              1              0  ...   \n",
              "16              1              0              0              0  ...   \n",
              "17              1              0              0              0  ...   \n",
              "\n",
              "    ps_calc_11  ps_calc_12  ps_calc_13  ps_calc_14  ps_calc_15_bin  \\\n",
              "id                                                                   \n",
              "7            9           1           5           8               0   \n",
              "9            3           1           1           9               0   \n",
              "13           4           2           7           7               0   \n",
              "16           2           2           4           9               0   \n",
              "17           3           1           1           3               0   \n",
              "\n",
              "    ps_calc_16_bin  ps_calc_17_bin  ps_calc_18_bin  ps_calc_19_bin  \\\n",
              "id                                                                   \n",
              "7                1               1               0               0   \n",
              "9                1               1               0               1   \n",
              "13               1               1               0               1   \n",
              "16               0               0               0               0   \n",
              "17               0               0               1               1   \n",
              "\n",
              "    ps_calc_20_bin  \n",
              "id                  \n",
              "7                1  \n",
              "9                0  \n",
              "13               0  \n",
              "16               0  \n",
              "17               0  \n",
              "\n",
              "[5 rows x 58 columns]"
            ],
            "text/html": [
              "\n",
              "  <div id=\"df-9ff31b96-2de8-4105-888d-08371a291d2c\">\n",
              "    <div class=\"colab-df-container\">\n",
              "      <div>\n",
              "<style scoped>\n",
              "    .dataframe tbody tr th:only-of-type {\n",
              "        vertical-align: middle;\n",
              "    }\n",
              "\n",
              "    .dataframe tbody tr th {\n",
              "        vertical-align: top;\n",
              "    }\n",
              "\n",
              "    .dataframe thead th {\n",
              "        text-align: right;\n",
              "    }\n",
              "</style>\n",
              "<table border=\"1\" class=\"dataframe\">\n",
              "  <thead>\n",
              "    <tr style=\"text-align: right;\">\n",
              "      <th></th>\n",
              "      <th>target</th>\n",
              "      <th>ps_ind_01</th>\n",
              "      <th>ps_ind_02_cat</th>\n",
              "      <th>ps_ind_03</th>\n",
              "      <th>ps_ind_04_cat</th>\n",
              "      <th>ps_ind_05_cat</th>\n",
              "      <th>ps_ind_06_bin</th>\n",
              "      <th>ps_ind_07_bin</th>\n",
              "      <th>ps_ind_08_bin</th>\n",
              "      <th>ps_ind_09_bin</th>\n",
              "      <th>...</th>\n",
              "      <th>ps_calc_11</th>\n",
              "      <th>ps_calc_12</th>\n",
              "      <th>ps_calc_13</th>\n",
              "      <th>ps_calc_14</th>\n",
              "      <th>ps_calc_15_bin</th>\n",
              "      <th>ps_calc_16_bin</th>\n",
              "      <th>ps_calc_17_bin</th>\n",
              "      <th>ps_calc_18_bin</th>\n",
              "      <th>ps_calc_19_bin</th>\n",
              "      <th>ps_calc_20_bin</th>\n",
              "    </tr>\n",
              "    <tr>\n",
              "      <th>id</th>\n",
              "      <th></th>\n",
              "      <th></th>\n",
              "      <th></th>\n",
              "      <th></th>\n",
              "      <th></th>\n",
              "      <th></th>\n",
              "      <th></th>\n",
              "      <th></th>\n",
              "      <th></th>\n",
              "      <th></th>\n",
              "      <th></th>\n",
              "      <th></th>\n",
              "      <th></th>\n",
              "      <th></th>\n",
              "      <th></th>\n",
              "      <th></th>\n",
              "      <th></th>\n",
              "      <th></th>\n",
              "      <th></th>\n",
              "      <th></th>\n",
              "      <th></th>\n",
              "    </tr>\n",
              "  </thead>\n",
              "  <tbody>\n",
              "    <tr>\n",
              "      <th>7</th>\n",
              "      <td>0</td>\n",
              "      <td>2</td>\n",
              "      <td>2</td>\n",
              "      <td>5</td>\n",
              "      <td>1</td>\n",
              "      <td>0</td>\n",
              "      <td>0</td>\n",
              "      <td>1</td>\n",
              "      <td>0</td>\n",
              "      <td>0</td>\n",
              "      <td>...</td>\n",
              "      <td>9</td>\n",
              "      <td>1</td>\n",
              "      <td>5</td>\n",
              "      <td>8</td>\n",
              "      <td>0</td>\n",
              "      <td>1</td>\n",
              "      <td>1</td>\n",
              "      <td>0</td>\n",
              "      <td>0</td>\n",
              "      <td>1</td>\n",
              "    </tr>\n",
              "    <tr>\n",
              "      <th>9</th>\n",
              "      <td>0</td>\n",
              "      <td>1</td>\n",
              "      <td>1</td>\n",
              "      <td>7</td>\n",
              "      <td>0</td>\n",
              "      <td>0</td>\n",
              "      <td>0</td>\n",
              "      <td>0</td>\n",
              "      <td>1</td>\n",
              "      <td>0</td>\n",
              "      <td>...</td>\n",
              "      <td>3</td>\n",
              "      <td>1</td>\n",
              "      <td>1</td>\n",
              "      <td>9</td>\n",
              "      <td>0</td>\n",
              "      <td>1</td>\n",
              "      <td>1</td>\n",
              "      <td>0</td>\n",
              "      <td>1</td>\n",
              "      <td>0</td>\n",
              "    </tr>\n",
              "    <tr>\n",
              "      <th>13</th>\n",
              "      <td>0</td>\n",
              "      <td>5</td>\n",
              "      <td>4</td>\n",
              "      <td>9</td>\n",
              "      <td>1</td>\n",
              "      <td>0</td>\n",
              "      <td>0</td>\n",
              "      <td>0</td>\n",
              "      <td>1</td>\n",
              "      <td>0</td>\n",
              "      <td>...</td>\n",
              "      <td>4</td>\n",
              "      <td>2</td>\n",
              "      <td>7</td>\n",
              "      <td>7</td>\n",
              "      <td>0</td>\n",
              "      <td>1</td>\n",
              "      <td>1</td>\n",
              "      <td>0</td>\n",
              "      <td>1</td>\n",
              "      <td>0</td>\n",
              "    </tr>\n",
              "    <tr>\n",
              "      <th>16</th>\n",
              "      <td>0</td>\n",
              "      <td>0</td>\n",
              "      <td>1</td>\n",
              "      <td>2</td>\n",
              "      <td>0</td>\n",
              "      <td>0</td>\n",
              "      <td>1</td>\n",
              "      <td>0</td>\n",
              "      <td>0</td>\n",
              "      <td>0</td>\n",
              "      <td>...</td>\n",
              "      <td>2</td>\n",
              "      <td>2</td>\n",
              "      <td>4</td>\n",
              "      <td>9</td>\n",
              "      <td>0</td>\n",
              "      <td>0</td>\n",
              "      <td>0</td>\n",
              "      <td>0</td>\n",
              "      <td>0</td>\n",
              "      <td>0</td>\n",
              "    </tr>\n",
              "    <tr>\n",
              "      <th>17</th>\n",
              "      <td>0</td>\n",
              "      <td>0</td>\n",
              "      <td>2</td>\n",
              "      <td>0</td>\n",
              "      <td>1</td>\n",
              "      <td>0</td>\n",
              "      <td>1</td>\n",
              "      <td>0</td>\n",
              "      <td>0</td>\n",
              "      <td>0</td>\n",
              "      <td>...</td>\n",
              "      <td>3</td>\n",
              "      <td>1</td>\n",
              "      <td>1</td>\n",
              "      <td>3</td>\n",
              "      <td>0</td>\n",
              "      <td>0</td>\n",
              "      <td>0</td>\n",
              "      <td>1</td>\n",
              "      <td>1</td>\n",
              "      <td>0</td>\n",
              "    </tr>\n",
              "  </tbody>\n",
              "</table>\n",
              "<p>5 rows × 58 columns</p>\n",
              "</div>\n",
              "      <button class=\"colab-df-convert\" onclick=\"convertToInteractive('df-9ff31b96-2de8-4105-888d-08371a291d2c')\"\n",
              "              title=\"Convert this dataframe to an interactive table.\"\n",
              "              style=\"display:none;\">\n",
              "        \n",
              "  <svg xmlns=\"http://www.w3.org/2000/svg\" height=\"24px\"viewBox=\"0 0 24 24\"\n",
              "       width=\"24px\">\n",
              "    <path d=\"M0 0h24v24H0V0z\" fill=\"none\"/>\n",
              "    <path d=\"M18.56 5.44l.94 2.06.94-2.06 2.06-.94-2.06-.94-.94-2.06-.94 2.06-2.06.94zm-11 1L8.5 8.5l.94-2.06 2.06-.94-2.06-.94L8.5 2.5l-.94 2.06-2.06.94zm10 10l.94 2.06.94-2.06 2.06-.94-2.06-.94-.94-2.06-.94 2.06-2.06.94z\"/><path d=\"M17.41 7.96l-1.37-1.37c-.4-.4-.92-.59-1.43-.59-.52 0-1.04.2-1.43.59L10.3 9.45l-7.72 7.72c-.78.78-.78 2.05 0 2.83L4 21.41c.39.39.9.59 1.41.59.51 0 1.02-.2 1.41-.59l7.78-7.78 2.81-2.81c.8-.78.8-2.07 0-2.86zM5.41 20L4 18.59l7.72-7.72 1.47 1.35L5.41 20z\"/>\n",
              "  </svg>\n",
              "      </button>\n",
              "      \n",
              "  <style>\n",
              "    .colab-df-container {\n",
              "      display:flex;\n",
              "      flex-wrap:wrap;\n",
              "      gap: 12px;\n",
              "    }\n",
              "\n",
              "    .colab-df-convert {\n",
              "      background-color: #E8F0FE;\n",
              "      border: none;\n",
              "      border-radius: 50%;\n",
              "      cursor: pointer;\n",
              "      display: none;\n",
              "      fill: #1967D2;\n",
              "      height: 32px;\n",
              "      padding: 0 0 0 0;\n",
              "      width: 32px;\n",
              "    }\n",
              "\n",
              "    .colab-df-convert:hover {\n",
              "      background-color: #E2EBFA;\n",
              "      box-shadow: 0px 1px 2px rgba(60, 64, 67, 0.3), 0px 1px 3px 1px rgba(60, 64, 67, 0.15);\n",
              "      fill: #174EA6;\n",
              "    }\n",
              "\n",
              "    [theme=dark] .colab-df-convert {\n",
              "      background-color: #3B4455;\n",
              "      fill: #D2E3FC;\n",
              "    }\n",
              "\n",
              "    [theme=dark] .colab-df-convert:hover {\n",
              "      background-color: #434B5C;\n",
              "      box-shadow: 0px 1px 3px 1px rgba(0, 0, 0, 0.15);\n",
              "      filter: drop-shadow(0px 1px 2px rgba(0, 0, 0, 0.3));\n",
              "      fill: #FFFFFF;\n",
              "    }\n",
              "  </style>\n",
              "\n",
              "      <script>\n",
              "        const buttonEl =\n",
              "          document.querySelector('#df-9ff31b96-2de8-4105-888d-08371a291d2c button.colab-df-convert');\n",
              "        buttonEl.style.display =\n",
              "          google.colab.kernel.accessAllowed ? 'block' : 'none';\n",
              "\n",
              "        async function convertToInteractive(key) {\n",
              "          const element = document.querySelector('#df-9ff31b96-2de8-4105-888d-08371a291d2c');\n",
              "          const dataTable =\n",
              "            await google.colab.kernel.invokeFunction('convertToInteractive',\n",
              "                                                     [key], {});\n",
              "          if (!dataTable) return;\n",
              "\n",
              "          const docLinkHtml = 'Like what you see? Visit the ' +\n",
              "            '<a target=\"_blank\" href=https://colab.research.google.com/notebooks/data_table.ipynb>data table notebook</a>'\n",
              "            + ' to learn more about interactive tables.';\n",
              "          element.innerHTML = '';\n",
              "          dataTable['output_type'] = 'display_data';\n",
              "          await google.colab.output.renderOutput(dataTable, element);\n",
              "          const docLink = document.createElement('div');\n",
              "          docLink.innerHTML = docLinkHtml;\n",
              "          element.appendChild(docLink);\n",
              "        }\n",
              "      </script>\n",
              "    </div>\n",
              "  </div>\n",
              "  "
            ]
          },
          "metadata": {},
          "execution_count": 6
        }
      ]
    },
    {
      "cell_type": "code",
      "source": [
        "test.head()"
      ],
      "metadata": {
        "colab": {
          "base_uri": "https://localhost:8080/",
          "height": 331
        },
        "id": "KitdFldHohTF",
        "outputId": "a35c7a19-fc8c-40a3-fee1-3365db1a423c"
      },
      "execution_count": null,
      "outputs": [
        {
          "output_type": "execute_result",
          "data": {
            "text/plain": [
              "    ps_ind_01  ps_ind_02_cat  ps_ind_03  ps_ind_04_cat  ps_ind_05_cat  \\\n",
              "id                                                                      \n",
              "0           0              1          8              1              0   \n",
              "1           4              2          5              1              0   \n",
              "2           5              1          3              0              0   \n",
              "3           0              1          6              0              0   \n",
              "4           5              1          7              0              0   \n",
              "\n",
              "    ps_ind_06_bin  ps_ind_07_bin  ps_ind_08_bin  ps_ind_09_bin  ps_ind_10_bin  \\\n",
              "id                                                                              \n",
              "0               0              1              0              0              0   \n",
              "1               0              0              0              1              0   \n",
              "2               0              0              0              1              0   \n",
              "3               1              0              0              0              0   \n",
              "4               0              0              0              1              0   \n",
              "\n",
              "    ...  ps_calc_11  ps_calc_12  ps_calc_13  ps_calc_14  ps_calc_15_bin  \\\n",
              "id  ...                                                                   \n",
              "0   ...           1           1           1          12               0   \n",
              "1   ...           2           0           3          10               0   \n",
              "2   ...           4           0           2           4               0   \n",
              "3   ...           5           1           0           5               1   \n",
              "4   ...           4           0           0           4               0   \n",
              "\n",
              "    ps_calc_16_bin  ps_calc_17_bin  ps_calc_18_bin  ps_calc_19_bin  \\\n",
              "id                                                                   \n",
              "0                1               1               0               0   \n",
              "1                0               1               1               0   \n",
              "2                0               0               0               0   \n",
              "3                0               1               0               0   \n",
              "4                1               1               0               0   \n",
              "\n",
              "    ps_calc_20_bin  \n",
              "id                  \n",
              "0                1  \n",
              "1                1  \n",
              "2                0  \n",
              "3                0  \n",
              "4                1  \n",
              "\n",
              "[5 rows x 57 columns]"
            ],
            "text/html": [
              "\n",
              "  <div id=\"df-f11c3264-cdb2-4191-a638-eb8e435244de\">\n",
              "    <div class=\"colab-df-container\">\n",
              "      <div>\n",
              "<style scoped>\n",
              "    .dataframe tbody tr th:only-of-type {\n",
              "        vertical-align: middle;\n",
              "    }\n",
              "\n",
              "    .dataframe tbody tr th {\n",
              "        vertical-align: top;\n",
              "    }\n",
              "\n",
              "    .dataframe thead th {\n",
              "        text-align: right;\n",
              "    }\n",
              "</style>\n",
              "<table border=\"1\" class=\"dataframe\">\n",
              "  <thead>\n",
              "    <tr style=\"text-align: right;\">\n",
              "      <th></th>\n",
              "      <th>ps_ind_01</th>\n",
              "      <th>ps_ind_02_cat</th>\n",
              "      <th>ps_ind_03</th>\n",
              "      <th>ps_ind_04_cat</th>\n",
              "      <th>ps_ind_05_cat</th>\n",
              "      <th>ps_ind_06_bin</th>\n",
              "      <th>ps_ind_07_bin</th>\n",
              "      <th>ps_ind_08_bin</th>\n",
              "      <th>ps_ind_09_bin</th>\n",
              "      <th>ps_ind_10_bin</th>\n",
              "      <th>...</th>\n",
              "      <th>ps_calc_11</th>\n",
              "      <th>ps_calc_12</th>\n",
              "      <th>ps_calc_13</th>\n",
              "      <th>ps_calc_14</th>\n",
              "      <th>ps_calc_15_bin</th>\n",
              "      <th>ps_calc_16_bin</th>\n",
              "      <th>ps_calc_17_bin</th>\n",
              "      <th>ps_calc_18_bin</th>\n",
              "      <th>ps_calc_19_bin</th>\n",
              "      <th>ps_calc_20_bin</th>\n",
              "    </tr>\n",
              "    <tr>\n",
              "      <th>id</th>\n",
              "      <th></th>\n",
              "      <th></th>\n",
              "      <th></th>\n",
              "      <th></th>\n",
              "      <th></th>\n",
              "      <th></th>\n",
              "      <th></th>\n",
              "      <th></th>\n",
              "      <th></th>\n",
              "      <th></th>\n",
              "      <th></th>\n",
              "      <th></th>\n",
              "      <th></th>\n",
              "      <th></th>\n",
              "      <th></th>\n",
              "      <th></th>\n",
              "      <th></th>\n",
              "      <th></th>\n",
              "      <th></th>\n",
              "      <th></th>\n",
              "      <th></th>\n",
              "    </tr>\n",
              "  </thead>\n",
              "  <tbody>\n",
              "    <tr>\n",
              "      <th>0</th>\n",
              "      <td>0</td>\n",
              "      <td>1</td>\n",
              "      <td>8</td>\n",
              "      <td>1</td>\n",
              "      <td>0</td>\n",
              "      <td>0</td>\n",
              "      <td>1</td>\n",
              "      <td>0</td>\n",
              "      <td>0</td>\n",
              "      <td>0</td>\n",
              "      <td>...</td>\n",
              "      <td>1</td>\n",
              "      <td>1</td>\n",
              "      <td>1</td>\n",
              "      <td>12</td>\n",
              "      <td>0</td>\n",
              "      <td>1</td>\n",
              "      <td>1</td>\n",
              "      <td>0</td>\n",
              "      <td>0</td>\n",
              "      <td>1</td>\n",
              "    </tr>\n",
              "    <tr>\n",
              "      <th>1</th>\n",
              "      <td>4</td>\n",
              "      <td>2</td>\n",
              "      <td>5</td>\n",
              "      <td>1</td>\n",
              "      <td>0</td>\n",
              "      <td>0</td>\n",
              "      <td>0</td>\n",
              "      <td>0</td>\n",
              "      <td>1</td>\n",
              "      <td>0</td>\n",
              "      <td>...</td>\n",
              "      <td>2</td>\n",
              "      <td>0</td>\n",
              "      <td>3</td>\n",
              "      <td>10</td>\n",
              "      <td>0</td>\n",
              "      <td>0</td>\n",
              "      <td>1</td>\n",
              "      <td>1</td>\n",
              "      <td>0</td>\n",
              "      <td>1</td>\n",
              "    </tr>\n",
              "    <tr>\n",
              "      <th>2</th>\n",
              "      <td>5</td>\n",
              "      <td>1</td>\n",
              "      <td>3</td>\n",
              "      <td>0</td>\n",
              "      <td>0</td>\n",
              "      <td>0</td>\n",
              "      <td>0</td>\n",
              "      <td>0</td>\n",
              "      <td>1</td>\n",
              "      <td>0</td>\n",
              "      <td>...</td>\n",
              "      <td>4</td>\n",
              "      <td>0</td>\n",
              "      <td>2</td>\n",
              "      <td>4</td>\n",
              "      <td>0</td>\n",
              "      <td>0</td>\n",
              "      <td>0</td>\n",
              "      <td>0</td>\n",
              "      <td>0</td>\n",
              "      <td>0</td>\n",
              "    </tr>\n",
              "    <tr>\n",
              "      <th>3</th>\n",
              "      <td>0</td>\n",
              "      <td>1</td>\n",
              "      <td>6</td>\n",
              "      <td>0</td>\n",
              "      <td>0</td>\n",
              "      <td>1</td>\n",
              "      <td>0</td>\n",
              "      <td>0</td>\n",
              "      <td>0</td>\n",
              "      <td>0</td>\n",
              "      <td>...</td>\n",
              "      <td>5</td>\n",
              "      <td>1</td>\n",
              "      <td>0</td>\n",
              "      <td>5</td>\n",
              "      <td>1</td>\n",
              "      <td>0</td>\n",
              "      <td>1</td>\n",
              "      <td>0</td>\n",
              "      <td>0</td>\n",
              "      <td>0</td>\n",
              "    </tr>\n",
              "    <tr>\n",
              "      <th>4</th>\n",
              "      <td>5</td>\n",
              "      <td>1</td>\n",
              "      <td>7</td>\n",
              "      <td>0</td>\n",
              "      <td>0</td>\n",
              "      <td>0</td>\n",
              "      <td>0</td>\n",
              "      <td>0</td>\n",
              "      <td>1</td>\n",
              "      <td>0</td>\n",
              "      <td>...</td>\n",
              "      <td>4</td>\n",
              "      <td>0</td>\n",
              "      <td>0</td>\n",
              "      <td>4</td>\n",
              "      <td>0</td>\n",
              "      <td>1</td>\n",
              "      <td>1</td>\n",
              "      <td>0</td>\n",
              "      <td>0</td>\n",
              "      <td>1</td>\n",
              "    </tr>\n",
              "  </tbody>\n",
              "</table>\n",
              "<p>5 rows × 57 columns</p>\n",
              "</div>\n",
              "      <button class=\"colab-df-convert\" onclick=\"convertToInteractive('df-f11c3264-cdb2-4191-a638-eb8e435244de')\"\n",
              "              title=\"Convert this dataframe to an interactive table.\"\n",
              "              style=\"display:none;\">\n",
              "        \n",
              "  <svg xmlns=\"http://www.w3.org/2000/svg\" height=\"24px\"viewBox=\"0 0 24 24\"\n",
              "       width=\"24px\">\n",
              "    <path d=\"M0 0h24v24H0V0z\" fill=\"none\"/>\n",
              "    <path d=\"M18.56 5.44l.94 2.06.94-2.06 2.06-.94-2.06-.94-.94-2.06-.94 2.06-2.06.94zm-11 1L8.5 8.5l.94-2.06 2.06-.94-2.06-.94L8.5 2.5l-.94 2.06-2.06.94zm10 10l.94 2.06.94-2.06 2.06-.94-2.06-.94-.94-2.06-.94 2.06-2.06.94z\"/><path d=\"M17.41 7.96l-1.37-1.37c-.4-.4-.92-.59-1.43-.59-.52 0-1.04.2-1.43.59L10.3 9.45l-7.72 7.72c-.78.78-.78 2.05 0 2.83L4 21.41c.39.39.9.59 1.41.59.51 0 1.02-.2 1.41-.59l7.78-7.78 2.81-2.81c.8-.78.8-2.07 0-2.86zM5.41 20L4 18.59l7.72-7.72 1.47 1.35L5.41 20z\"/>\n",
              "  </svg>\n",
              "      </button>\n",
              "      \n",
              "  <style>\n",
              "    .colab-df-container {\n",
              "      display:flex;\n",
              "      flex-wrap:wrap;\n",
              "      gap: 12px;\n",
              "    }\n",
              "\n",
              "    .colab-df-convert {\n",
              "      background-color: #E8F0FE;\n",
              "      border: none;\n",
              "      border-radius: 50%;\n",
              "      cursor: pointer;\n",
              "      display: none;\n",
              "      fill: #1967D2;\n",
              "      height: 32px;\n",
              "      padding: 0 0 0 0;\n",
              "      width: 32px;\n",
              "    }\n",
              "\n",
              "    .colab-df-convert:hover {\n",
              "      background-color: #E2EBFA;\n",
              "      box-shadow: 0px 1px 2px rgba(60, 64, 67, 0.3), 0px 1px 3px 1px rgba(60, 64, 67, 0.15);\n",
              "      fill: #174EA6;\n",
              "    }\n",
              "\n",
              "    [theme=dark] .colab-df-convert {\n",
              "      background-color: #3B4455;\n",
              "      fill: #D2E3FC;\n",
              "    }\n",
              "\n",
              "    [theme=dark] .colab-df-convert:hover {\n",
              "      background-color: #434B5C;\n",
              "      box-shadow: 0px 1px 3px 1px rgba(0, 0, 0, 0.15);\n",
              "      filter: drop-shadow(0px 1px 2px rgba(0, 0, 0, 0.3));\n",
              "      fill: #FFFFFF;\n",
              "    }\n",
              "  </style>\n",
              "\n",
              "      <script>\n",
              "        const buttonEl =\n",
              "          document.querySelector('#df-f11c3264-cdb2-4191-a638-eb8e435244de button.colab-df-convert');\n",
              "        buttonEl.style.display =\n",
              "          google.colab.kernel.accessAllowed ? 'block' : 'none';\n",
              "\n",
              "        async function convertToInteractive(key) {\n",
              "          const element = document.querySelector('#df-f11c3264-cdb2-4191-a638-eb8e435244de');\n",
              "          const dataTable =\n",
              "            await google.colab.kernel.invokeFunction('convertToInteractive',\n",
              "                                                     [key], {});\n",
              "          if (!dataTable) return;\n",
              "\n",
              "          const docLinkHtml = 'Like what you see? Visit the ' +\n",
              "            '<a target=\"_blank\" href=https://colab.research.google.com/notebooks/data_table.ipynb>data table notebook</a>'\n",
              "            + ' to learn more about interactive tables.';\n",
              "          element.innerHTML = '';\n",
              "          dataTable['output_type'] = 'display_data';\n",
              "          await google.colab.output.renderOutput(dataTable, element);\n",
              "          const docLink = document.createElement('div');\n",
              "          docLink.innerHTML = docLinkHtml;\n",
              "          element.appendChild(docLink);\n",
              "        }\n",
              "      </script>\n",
              "    </div>\n",
              "  </div>\n",
              "  "
            ]
          },
          "metadata": {},
          "execution_count": 7
        }
      ]
    },
    {
      "cell_type": "code",
      "source": [
        "train.info()"
      ],
      "metadata": {
        "colab": {
          "base_uri": "https://localhost:8080/"
        },
        "id": "kf4OZUmvoiAX",
        "outputId": "8141ae9e-c019-4bed-d091-8a8279d16b89"
      },
      "execution_count": null,
      "outputs": [
        {
          "output_type": "stream",
          "name": "stdout",
          "text": [
            "<class 'pandas.core.frame.DataFrame'>\n",
            "Int64Index: 595212 entries, 7 to 1488027\n",
            "Data columns (total 58 columns):\n",
            " #   Column          Non-Null Count   Dtype  \n",
            "---  ------          --------------   -----  \n",
            " 0   target          595212 non-null  int64  \n",
            " 1   ps_ind_01       595212 non-null  int64  \n",
            " 2   ps_ind_02_cat   595212 non-null  int64  \n",
            " 3   ps_ind_03       595212 non-null  int64  \n",
            " 4   ps_ind_04_cat   595212 non-null  int64  \n",
            " 5   ps_ind_05_cat   595212 non-null  int64  \n",
            " 6   ps_ind_06_bin   595212 non-null  int64  \n",
            " 7   ps_ind_07_bin   595212 non-null  int64  \n",
            " 8   ps_ind_08_bin   595212 non-null  int64  \n",
            " 9   ps_ind_09_bin   595212 non-null  int64  \n",
            " 10  ps_ind_10_bin   595212 non-null  int64  \n",
            " 11  ps_ind_11_bin   595212 non-null  int64  \n",
            " 12  ps_ind_12_bin   595212 non-null  int64  \n",
            " 13  ps_ind_13_bin   595212 non-null  int64  \n",
            " 14  ps_ind_14       595212 non-null  int64  \n",
            " 15  ps_ind_15       595212 non-null  int64  \n",
            " 16  ps_ind_16_bin   595212 non-null  int64  \n",
            " 17  ps_ind_17_bin   595212 non-null  int64  \n",
            " 18  ps_ind_18_bin   595212 non-null  int64  \n",
            " 19  ps_reg_01       595212 non-null  float64\n",
            " 20  ps_reg_02       595212 non-null  float64\n",
            " 21  ps_reg_03       595212 non-null  float64\n",
            " 22  ps_car_01_cat   595212 non-null  int64  \n",
            " 23  ps_car_02_cat   595212 non-null  int64  \n",
            " 24  ps_car_03_cat   595212 non-null  int64  \n",
            " 25  ps_car_04_cat   595212 non-null  int64  \n",
            " 26  ps_car_05_cat   595212 non-null  int64  \n",
            " 27  ps_car_06_cat   595212 non-null  int64  \n",
            " 28  ps_car_07_cat   595212 non-null  int64  \n",
            " 29  ps_car_08_cat   595212 non-null  int64  \n",
            " 30  ps_car_09_cat   595212 non-null  int64  \n",
            " 31  ps_car_10_cat   595212 non-null  int64  \n",
            " 32  ps_car_11_cat   595212 non-null  int64  \n",
            " 33  ps_car_11       595212 non-null  int64  \n",
            " 34  ps_car_12       595212 non-null  float64\n",
            " 35  ps_car_13       595212 non-null  float64\n",
            " 36  ps_car_14       595212 non-null  float64\n",
            " 37  ps_car_15       595212 non-null  float64\n",
            " 38  ps_calc_01      595212 non-null  float64\n",
            " 39  ps_calc_02      595212 non-null  float64\n",
            " 40  ps_calc_03      595212 non-null  float64\n",
            " 41  ps_calc_04      595212 non-null  int64  \n",
            " 42  ps_calc_05      595212 non-null  int64  \n",
            " 43  ps_calc_06      595212 non-null  int64  \n",
            " 44  ps_calc_07      595212 non-null  int64  \n",
            " 45  ps_calc_08      595212 non-null  int64  \n",
            " 46  ps_calc_09      595212 non-null  int64  \n",
            " 47  ps_calc_10      595212 non-null  int64  \n",
            " 48  ps_calc_11      595212 non-null  int64  \n",
            " 49  ps_calc_12      595212 non-null  int64  \n",
            " 50  ps_calc_13      595212 non-null  int64  \n",
            " 51  ps_calc_14      595212 non-null  int64  \n",
            " 52  ps_calc_15_bin  595212 non-null  int64  \n",
            " 53  ps_calc_16_bin  595212 non-null  int64  \n",
            " 54  ps_calc_17_bin  595212 non-null  int64  \n",
            " 55  ps_calc_18_bin  595212 non-null  int64  \n",
            " 56  ps_calc_19_bin  595212 non-null  int64  \n",
            " 57  ps_calc_20_bin  595212 non-null  int64  \n",
            "dtypes: float64(10), int64(48)\n",
            "memory usage: 267.9 MB\n"
          ]
        }
      ]
    },
    {
      "cell_type": "code",
      "source": [
        "import numpy as np\n",
        "import missingno as msno\n",
        "\n",
        "train_copy = train.copy().replace(-1, np.NaN)\n",
        "\n",
        "msno.bar(df=train_copy.iloc[:, 1:29], figsize=(13,6))"
      ],
      "metadata": {
        "colab": {
          "base_uri": "https://localhost:8080/",
          "height": 463
        },
        "id": "nvI3WHK6onQD",
        "outputId": "ba0fcdda-aedd-4f0a-b303-4e690e2bffa3"
      },
      "execution_count": null,
      "outputs": [
        {
          "output_type": "execute_result",
          "data": {
            "text/plain": [
              "<Axes: >"
            ]
          },
          "metadata": {},
          "execution_count": 9
        },
        {
          "output_type": "display_data",
          "data": {
            "text/plain": [
              "<Figure size 1300x600 with 3 Axes>"
            ],
            "image/png": "[encoded data removed]"
          },
          "metadata": {}
        }
      ]
    },
    {
      "cell_type": "markdown",
      "source": [
        "피처 요약표"
      ],
      "metadata": {
        "id": "TeD2TG68pKBL"
      }
    },
    {
      "cell_type": "code",
      "source": [
        "\n",
        "def resumetable(df):\n",
        "    print(f'데이터 세트 형상: {df.shape}')\n",
        "    summary = pd.DataFrame(df.dtypes, columns=['데이터 타입'])\n",
        "    summary['결측값 개수'] = (df == -1).sum().values # 피처별 -1 개수\n",
        "    summary['고윳값 개수'] = df.nunique().values\n",
        "    summary['데이터 종류'] = None\n",
        "    for col in df.columns:\n",
        "        if 'bin' in col or col == 'target':\n",
        "            summary.loc[col, '데이터 종류'] = '이진형'\n",
        "        elif 'cat' in col:\n",
        "            summary.loc[col, '데이터 종류'] = '명목형'\n",
        "        elif df[col].dtype == float:\n",
        "            summary.loc[col, '데이터 종류'] = '연속형'\n",
        "        elif df[col].dtype == int:\n",
        "            summary.loc[col, '데이터 종류'] = '순서형'\n",
        "\n",
        "    return summary"
      ],
      "metadata": {
        "id": "jNPOUyJUpAXj"
      },
      "execution_count": null,
      "outputs": []
    },
    {
      "cell_type": "code",
      "source": [
        "train_summary = resumetable(train)\n",
        "train_summary"
      ],
      "metadata": {
        "colab": {
          "base_uri": "https://localhost:8080/",
          "height": 1000
        },
        "id": "iUyb5kJxpjEd",
        "outputId": "5ffbef45-c0ad-4434-e57a-ad29ba5cff0c"
      },
      "execution_count": null,
      "outputs": [
        {
          "output_type": "stream",
          "name": "stdout",
          "text": [
            "데이터 세트 형상: (595212, 58)\n"
          ]
        },
        {
          "output_type": "execute_result",
          "data": {
            "text/plain": [
              "                 데이터 타입  결측값 개수  고윳값 개수 데이터 종류\n",
              "target            int64       0       2    이진형\n",
              "ps_ind_01         int64       0       8    순서형\n",
              "ps_ind_02_cat     int64     216       5    명목형\n",
              "ps_ind_03         int64       0      12    순서형\n",
              "ps_ind_04_cat     int64      83       3    명목형\n",
              "ps_ind_05_cat     int64    5809       8    명목형\n",
              "ps_ind_06_bin     int64       0       2    이진형\n",
              "ps_ind_07_bin     int64       0       2    이진형\n",
              "ps_ind_08_bin     int64       0       2    이진형\n",
              "ps_ind_09_bin     int64       0       2    이진형\n",
              "ps_ind_10_bin     int64       0       2    이진형\n",
              "ps_ind_11_bin     int64       0       2    이진형\n",
              "ps_ind_12_bin     int64       0       2    이진형\n",
              "ps_ind_13_bin     int64       0       2    이진형\n",
              "ps_ind_14         int64       0       5    순서형\n",
              "ps_ind_15         int64       0      14    순서형\n",
              "ps_ind_16_bin     int64       0       2    이진형\n",
              "ps_ind_17_bin     int64       0       2    이진형\n",
              "ps_ind_18_bin     int64       0       2    이진형\n",
              "ps_reg_01       float64       0      10    연속형\n",
              "ps_reg_02       float64       0      19    연속형\n",
              "ps_reg_03       float64  107772    5013    연속형\n",
              "ps_car_01_cat     int64     107      13    명목형\n",
              "ps_car_02_cat     int64       5       3    명목형\n",
              "ps_car_03_cat     int64  411231       3    명목형\n",
              "ps_car_04_cat     int64       0      10    명목형\n",
              "ps_car_05_cat     int64  266551       3    명목형\n",
              "ps_car_06_cat     int64       0      18    명목형\n",
              "ps_car_07_cat     int64   11489       3    명목형\n",
              "ps_car_08_cat     int64       0       2    명목형\n",
              "ps_car_09_cat     int64     569       6    명목형\n",
              "ps_car_10_cat     int64       0       3    명목형\n",
              "ps_car_11_cat     int64       0     104    명목형\n",
              "ps_car_11         int64       5       5    순서형\n",
              "ps_car_12       float64       1     184    연속형\n",
              "ps_car_13       float64       0   70482    연속형\n",
              "ps_car_14       float64   42620     850    연속형\n",
              "ps_car_15       float64       0      15    연속형\n",
              "ps_calc_01      float64       0      10    연속형\n",
              "ps_calc_02      float64       0      10    연속형\n",
              "ps_calc_03      float64       0      10    연속형\n",
              "ps_calc_04        int64       0       6    순서형\n",
              "ps_calc_05        int64       0       7    순서형\n",
              "ps_calc_06        int64       0      11    순서형\n",
              "ps_calc_07        int64       0      10    순서형\n",
              "ps_calc_08        int64       0      11    순서형\n",
              "ps_calc_09        int64       0       8    순서형\n",
              "ps_calc_10        int64       0      26    순서형\n",
              "ps_calc_11        int64       0      20    순서형\n",
              "ps_calc_12        int64       0      11    순서형\n",
              "ps_calc_13        int64       0      14    순서형\n",
              "ps_calc_14        int64       0      24    순서형\n",
              "ps_calc_15_bin    int64       0       2    이진형\n",
              "ps_calc_16_bin    int64       0       2    이진형\n",
              "ps_calc_17_bin    int64       0       2    이진형\n",
              "ps_calc_18_bin    int64       0       2    이진형\n",
              "ps_calc_19_bin    int64       0       2    이진형\n",
              "ps_calc_20_bin    int64       0       2    이진형"
            ],
            "text/html": [
              "\n",
              "  <div id=\"df-ddadf4cf-dbc6-4d06-adf6-9c6836fc8934\">\n",
              "    <div class=\"colab-df-container\">\n",
              "      <div>\n",
              "<style scoped>\n",
              "    .dataframe tbody tr th:only-of-type {\n",
              "        vertical-align: middle;\n",
              "    }\n",
              "\n",
              "    .dataframe tbody tr th {\n",
              "        vertical-align: top;\n",
              "    }\n",
              "\n",
              "    .dataframe thead th {\n",
              "        text-align: right;\n",
              "    }\n",
              "</style>\n",
              "<table border=\"1\" class=\"dataframe\">\n",
              "  <thead>\n",
              "    <tr style=\"text-align: right;\">\n",
              "      <th></th>\n",
              "      <th>데이터 타입</th>\n",
              "      <th>결측값 개수</th>\n",
              "      <th>고윳값 개수</th>\n",
              "      <th>데이터 종류</th>\n",
              "    </tr>\n",
              "  </thead>\n",
              "  <tbody>\n",
              "    <tr>\n",
              "      <th>target</th>\n",
              "      <td>int64</td>\n",
              "      <td>0</td>\n",
              "      <td>2</td>\n",
              "      <td>이진형</td>\n",
              "    </tr>\n",
              "    <tr>\n",
              "      <th>ps_ind_01</th>\n",
              "      <td>int64</td>\n",
              "      <td>0</td>\n",
              "      <td>8</td>\n",
              "      <td>순서형</td>\n",
              "    </tr>\n",
              "    <tr>\n",
              "      <th>ps_ind_02_cat</th>\n",
              "      <td>int64</td>\n",
              "      <td>216</td>\n",
              "      <td>5</td>\n",
              "      <td>명목형</td>\n",
              "    </tr>\n",
              "    <tr>\n",
              "      <th>ps_ind_03</th>\n",
              "      <td>int64</td>\n",
              "      <td>0</td>\n",
              "      <td>12</td>\n",
              "      <td>순서형</td>\n",
              "    </tr>\n",
              "    <tr>\n",
              "      <th>ps_ind_04_cat</th>\n",
              "      <td>int64</td>\n",
              "      <td>83</td>\n",
              "      <td>3</td>\n",
              "      <td>명목형</td>\n",
              "    </tr>\n",
              "    <tr>\n",
              "      <th>ps_ind_05_cat</th>\n",
              "      <td>int64</td>\n",
              "      <td>5809</td>\n",
              "      <td>8</td>\n",
              "      <td>명목형</td>\n",
              "    </tr>\n",
              "    <tr>\n",
              "      <th>ps_ind_06_bin</th>\n",
              "      <td>int64</td>\n",
              "      <td>0</td>\n",
              "      <td>2</td>\n",
              "      <td>이진형</td>\n",
              "    </tr>\n",
              "    <tr>\n",
              "      <th>ps_ind_07_bin</th>\n",
              "      <td>int64</td>\n",
              "      <td>0</td>\n",
              "      <td>2</td>\n",
              "      <td>이진형</td>\n",
              "    </tr>\n",
              "    <tr>\n",
              "      <th>ps_ind_08_bin</th>\n",
              "      <td>int64</td>\n",
              "      <td>0</td>\n",
              "      <td>2</td>\n",
              "      <td>이진형</td>\n",
              "    </tr>\n",
              "    <tr>\n",
              "      <th>ps_ind_09_bin</th>\n",
              "      <td>int64</td>\n",
              "      <td>0</td>\n",
              "      <td>2</td>\n",
              "      <td>이진형</td>\n",
              "    </tr>\n",
              "    <tr>\n",
              "      <th>ps_ind_10_bin</th>\n",
              "      <td>int64</td>\n",
              "      <td>0</td>\n",
              "      <td>2</td>\n",
              "      <td>이진형</td>\n",
              "    </tr>\n",
              "    <tr>\n",
              "      <th>ps_ind_11_bin</th>\n",
              "      <td>int64</td>\n",
              "      <td>0</td>\n",
              "      <td>2</td>\n",
              "      <td>이진형</td>\n",
              "    </tr>\n",
              "    <tr>\n",
              "      <th>ps_ind_12_bin</th>\n",
              "      <td>int64</td>\n",
              "      <td>0</td>\n",
              "      <td>2</td>\n",
              "      <td>이진형</td>\n",
              "    </tr>\n",
              "    <tr>\n",
              "      <th>ps_ind_13_bin</th>\n",
              "      <td>int64</td>\n",
              "      <td>0</td>\n",
              "      <td>2</td>\n",
              "      <td>이진형</td>\n",
              "    </tr>\n",
              "    <tr>\n",
              "      <th>ps_ind_14</th>\n",
              "      <td>int64</td>\n",
              "      <td>0</td>\n",
              "      <td>5</td>\n",
              "      <td>순서형</td>\n",
              "    </tr>\n",
              "    <tr>\n",
              "      <th>ps_ind_15</th>\n",
              "      <td>int64</td>\n",
              "      <td>0</td>\n",
              "      <td>14</td>\n",
              "      <td>순서형</td>\n",
              "    </tr>\n",
              "    <tr>\n",
              "      <th>ps_ind_16_bin</th>\n",
              "      <td>int64</td>\n",
              "      <td>0</td>\n",
              "      <td>2</td>\n",
              "      <td>이진형</td>\n",
              "    </tr>\n",
              "    <tr>\n",
              "      <th>ps_ind_17_bin</th>\n",
              "      <td>int64</td>\n",
              "      <td>0</td>\n",
              "      <td>2</td>\n",
              "      <td>이진형</td>\n",
              "    </tr>\n",
              "    <tr>\n",
              "      <th>ps_ind_18_bin</th>\n",
              "      <td>int64</td>\n",
              "      <td>0</td>\n",
              "      <td>2</td>\n",
              "      <td>이진형</td>\n",
              "    </tr>\n",
              "    <tr>\n",
              "      <th>ps_reg_01</th>\n",
              "      <td>float64</td>\n",
              "      <td>0</td>\n",
              "      <td>10</td>\n",
              "      <td>연속형</td>\n",
              "    </tr>\n",
              "    <tr>\n",
              "      <th>ps_reg_02</th>\n",
              "      <td>float64</td>\n",
              "      <td>0</td>\n",
              "      <td>19</td>\n",
              "      <td>연속형</td>\n",
              "    </tr>\n",
              "    <tr>\n",
              "      <th>ps_reg_03</th>\n",
              "      <td>float64</td>\n",
              "      <td>107772</td>\n",
              "      <td>5013</td>\n",
              "      <td>연속형</td>\n",
              "    </tr>\n",
              "    <tr>\n",
              "      <th>ps_car_01_cat</th>\n",
              "      <td>int64</td>\n",
              "      <td>107</td>\n",
              "      <td>13</td>\n",
              "      <td>명목형</td>\n",
              "    </tr>\n",
              "    <tr>\n",
              "      <th>ps_car_02_cat</th>\n",
              "      <td>int64</td>\n",
              "      <td>5</td>\n",
              "      <td>3</td>\n",
              "      <td>명목형</td>\n",
              "    </tr>\n",
              "    <tr>\n",
              "      <th>ps_car_03_cat</th>\n",
              "      <td>int64</td>\n",
              "      <td>411231</td>\n",
              "      <td>3</td>\n",
              "      <td>명목형</td>\n",
              "    </tr>\n",
              "    <tr>\n",
              "      <th>ps_car_04_cat</th>\n",
              "      <td>int64</td>\n",
              "      <td>0</td>\n",
              "      <td>10</td>\n",
              "      <td>명목형</td>\n",
              "    </tr>\n",
              "    <tr>\n",
              "      <th>ps_car_05_cat</th>\n",
              "      <td>int64</td>\n",
              "      <td>266551</td>\n",
              "      <td>3</td>\n",
              "      <td>명목형</td>\n",
              "    </tr>\n",
              "    <tr>\n",
              "      <th>ps_car_06_cat</th>\n",
              "      <td>int64</td>\n",
              "      <td>0</td>\n",
              "      <td>18</td>\n",
              "      <td>명목형</td>\n",
              "    </tr>\n",
              "    <tr>\n",
              "      <th>ps_car_07_cat</th>\n",
              "      <td>int64</td>\n",
              "      <td>11489</td>\n",
              "      <td>3</td>\n",
              "      <td>명목형</td>\n",
              "    </tr>\n",
              "    <tr>\n",
              "      <th>ps_car_08_cat</th>\n",
              "      <td>int64</td>\n",
              "      <td>0</td>\n",
              "      <td>2</td>\n",
              "      <td>명목형</td>\n",
              "    </tr>\n",
              "    <tr>\n",
              "      <th>ps_car_09_cat</th>\n",
              "      <td>int64</td>\n",
              "      <td>569</td>\n",
              "      <td>6</td>\n",
              "      <td>명목형</td>\n",
              "    </tr>\n",
              "    <tr>\n",
              "      <th>ps_car_10_cat</th>\n",
              "      <td>int64</td>\n",
              "      <td>0</td>\n",
              "      <td>3</td>\n",
              "      <td>명목형</td>\n",
              "    </tr>\n",
              "    <tr>\n",
              "      <th>ps_car_11_cat</th>\n",
              "      <td>int64</td>\n",
              "      <td>0</td>\n",
              "      <td>104</td>\n",
              "      <td>명목형</td>\n",
              "    </tr>\n",
              "    <tr>\n",
              "      <th>ps_car_11</th>\n",
              "      <td>int64</td>\n",
              "      <td>5</td>\n",
              "      <td>5</td>\n",
              "      <td>순서형</td>\n",
              "    </tr>\n",
              "    <tr>\n",
              "      <th>ps_car_12</th>\n",
              "      <td>float64</td>\n",
              "      <td>1</td>\n",
              "      <td>184</td>\n",
              "      <td>연속형</td>\n",
              "    </tr>\n",
              "    <tr>\n",
              "      <th>ps_car_13</th>\n",
              "      <td>float64</td>\n",
              "      <td>0</td>\n",
              "      <td>70482</td>\n",
              "      <td>연속형</td>\n",
              "    </tr>\n",
              "    <tr>\n",
              "      <th>ps_car_14</th>\n",
              "      <td>float64</td>\n",
              "      <td>42620</td>\n",
              "      <td>850</td>\n",
              "      <td>연속형</td>\n",
              "    </tr>\n",
              "    <tr>\n",
              "      <th>ps_car_15</th>\n",
              "      <td>float64</td>\n",
              "      <td>0</td>\n",
              "      <td>15</td>\n",
              "      <td>연속형</td>\n",
              "    </tr>\n",
              "    <tr>\n",
              "      <th>ps_calc_01</th>\n",
              "      <td>float64</td>\n",
              "      <td>0</td>\n",
              "      <td>10</td>\n",
              "      <td>연속형</td>\n",
              "    </tr>\n",
              "    <tr>\n",
              "      <th>ps_calc_02</th>\n",
              "      <td>float64</td>\n",
              "      <td>0</td>\n",
              "      <td>10</td>\n",
              "      <td>연속형</td>\n",
              "    </tr>\n",
              "    <tr>\n",
              "      <th>ps_calc_03</th>\n",
              "      <td>float64</td>\n",
              "      <td>0</td>\n",
              "      <td>10</td>\n",
              "      <td>연속형</td>\n",
              "    </tr>\n",
              "    <tr>\n",
              "      <th>ps_calc_04</th>\n",
              "      <td>int64</td>\n",
              "      <td>0</td>\n",
              "      <td>6</td>\n",
              "      <td>순서형</td>\n",
              "    </tr>\n",
              "    <tr>\n",
              "      <th>ps_calc_05</th>\n",
              "      <td>int64</td>\n",
              "      <td>0</td>\n",
              "      <td>7</td>\n",
              "      <td>순서형</td>\n",
              "    </tr>\n",
              "    <tr>\n",
              "      <th>ps_calc_06</th>\n",
              "      <td>int64</td>\n",
              "      <td>0</td>\n",
              "      <td>11</td>\n",
              "      <td>순서형</td>\n",
              "    </tr>\n",
              "    <tr>\n",
              "      <th>ps_calc_07</th>\n",
              "      <td>int64</td>\n",
              "      <td>0</td>\n",
              "      <td>10</td>\n",
              "      <td>순서형</td>\n",
              "    </tr>\n",
              "    <tr>\n",
              "      <th>ps_calc_08</th>\n",
              "      <td>int64</td>\n",
              "      <td>0</td>\n",
              "      <td>11</td>\n",
              "      <td>순서형</td>\n",
              "    </tr>\n",
              "    <tr>\n",
              "      <th>ps_calc_09</th>\n",
              "      <td>int64</td>\n",
              "      <td>0</td>\n",
              "      <td>8</td>\n",
              "      <td>순서형</td>\n",
              "    </tr>\n",
              "    <tr>\n",
              "      <th>ps_calc_10</th>\n",
              "      <td>int64</td>\n",
              "      <td>0</td>\n",
              "      <td>26</td>\n",
              "      <td>순서형</td>\n",
              "    </tr>\n",
              "    <tr>\n",
              "      <th>ps_calc_11</th>\n",
              "      <td>int64</td>\n",
              "      <td>0</td>\n",
              "      <td>20</td>\n",
              "      <td>순서형</td>\n",
              "    </tr>\n",
              "    <tr>\n",
              "      <th>ps_calc_12</th>\n",
              "      <td>int64</td>\n",
              "      <td>0</td>\n",
              "      <td>11</td>\n",
              "      <td>순서형</td>\n",
              "    </tr>\n",
              "    <tr>\n",
              "      <th>ps_calc_13</th>\n",
              "      <td>int64</td>\n",
              "      <td>0</td>\n",
              "      <td>14</td>\n",
              "      <td>순서형</td>\n",
              "    </tr>\n",
              "    <tr>\n",
              "      <th>ps_calc_14</th>\n",
              "      <td>int64</td>\n",
              "      <td>0</td>\n",
              "      <td>24</td>\n",
              "      <td>순서형</td>\n",
              "    </tr>\n",
              "    <tr>\n",
              "      <th>ps_calc_15_bin</th>\n",
              "      <td>int64</td>\n",
              "      <td>0</td>\n",
              "      <td>2</td>\n",
              "      <td>이진형</td>\n",
              "    </tr>\n",
              "    <tr>\n",
              "      <th>ps_calc_16_bin</th>\n",
              "      <td>int64</td>\n",
              "      <td>0</td>\n",
              "      <td>2</td>\n",
              "      <td>이진형</td>\n",
              "    </tr>\n",
              "    <tr>\n",
              "      <th>ps_calc_17_bin</th>\n",
              "      <td>int64</td>\n",
              "      <td>0</td>\n",
              "      <td>2</td>\n",
              "      <td>이진형</td>\n",
              "    </tr>\n",
              "    <tr>\n",
              "      <th>ps_calc_18_bin</th>\n",
              "      <td>int64</td>\n",
              "      <td>0</td>\n",
              "      <td>2</td>\n",
              "      <td>이진형</td>\n",
              "    </tr>\n",
              "    <tr>\n",
              "      <th>ps_calc_19_bin</th>\n",
              "      <td>int64</td>\n",
              "      <td>0</td>\n",
              "      <td>2</td>\n",
              "      <td>이진형</td>\n",
              "    </tr>\n",
              "    <tr>\n",
              "      <th>ps_calc_20_bin</th>\n",
              "      <td>int64</td>\n",
              "      <td>0</td>\n",
              "      <td>2</td>\n",
              "      <td>이진형</td>\n",
              "    </tr>\n",
              "  </tbody>\n",
              "</table>\n",
              "</div>\n",
              "      <button class=\"colab-df-convert\" onclick=\"convertToInteractive('df-ddadf4cf-dbc6-4d06-adf6-9c6836fc8934')\"\n",
              "              title=\"Convert this dataframe to an interactive table.\"\n",
              "              style=\"display:none;\">\n",
              "        \n",
              "  <svg xmlns=\"http://www.w3.org/2000/svg\" height=\"24px\"viewBox=\"0 0 24 24\"\n",
              "       width=\"24px\">\n",
              "    <path d=\"M0 0h24v24H0V0z\" fill=\"none\"/>\n",
              "    <path d=\"M18.56 5.44l.94 2.06.94-2.06 2.06-.94-2.06-.94-.94-2.06-.94 2.06-2.06.94zm-11 1L8.5 8.5l.94-2.06 2.06-.94-2.06-.94L8.5 2.5l-.94 2.06-2.06.94zm10 10l.94 2.06.94-2.06 2.06-.94-2.06-.94-.94-2.06-.94 2.06-2.06.94z\"/><path d=\"M17.41 7.96l-1.37-1.37c-.4-.4-.92-.59-1.43-.59-.52 0-1.04.2-1.43.59L10.3 9.45l-7.72 7.72c-.78.78-.78 2.05 0 2.83L4 21.41c.39.39.9.59 1.41.59.51 0 1.02-.2 1.41-.59l7.78-7.78 2.81-2.81c.8-.78.8-2.07 0-2.86zM5.41 20L4 18.59l7.72-7.72 1.47 1.35L5.41 20z\"/>\n",
              "  </svg>\n",
              "      </button>\n",
              "      \n",
              "  <style>\n",
              "    .colab-df-container {\n",
              "      display:flex;\n",
              "      flex-wrap:wrap;\n",
              "      gap: 12px;\n",
              "    }\n",
              "\n",
              "    .colab-df-convert {\n",
              "      background-color: #E8F0FE;\n",
              "      border: none;\n",
              "      border-radius: 50%;\n",
              "      cursor: pointer;\n",
              "      display: none;\n",
              "      fill: #1967D2;\n",
              "      height: 32px;\n",
              "      padding: 0 0 0 0;\n",
              "      width: 32px;\n",
              "    }\n",
              "\n",
              "    .colab-df-convert:hover {\n",
              "      background-color: #E2EBFA;\n",
              "      box-shadow: 0px 1px 2px rgba(60, 64, 67, 0.3), 0px 1px 3px 1px rgba(60, 64, 67, 0.15);\n",
              "      fill: #174EA6;\n",
              "    }\n",
              "\n",
              "    [theme=dark] .colab-df-convert {\n",
              "      background-color: #3B4455;\n",
              "      fill: #D2E3FC;\n",
              "    }\n",
              "\n",
              "    [theme=dark] .colab-df-convert:hover {\n",
              "      background-color: #434B5C;\n",
              "      box-shadow: 0px 1px 3px 1px rgba(0, 0, 0, 0.15);\n",
              "      filter: drop-shadow(0px 1px 2px rgba(0, 0, 0, 0.3));\n",
              "      fill: #FFFFFF;\n",
              "    }\n",
              "  </style>\n",
              "\n",
              "      <script>\n",
              "        const buttonEl =\n",
              "          document.querySelector('#df-ddadf4cf-dbc6-4d06-adf6-9c6836fc8934 button.colab-df-convert');\n",
              "        buttonEl.style.display =\n",
              "          google.colab.kernel.accessAllowed ? 'block' : 'none';\n",
              "\n",
              "        async function convertToInteractive(key) {\n",
              "          const element = document.querySelector('#df-ddadf4cf-dbc6-4d06-adf6-9c6836fc8934');\n",
              "          const dataTable =\n",
              "            await google.colab.kernel.invokeFunction('convertToInteractive',\n",
              "                                                     [key], {});\n",
              "          if (!dataTable) return;\n",
              "\n",
              "          const docLinkHtml = 'Like what you see? Visit the ' +\n",
              "            '<a target=\"_blank\" href=https://colab.research.google.com/notebooks/data_table.ipynb>data table notebook</a>'\n",
              "            + ' to learn more about interactive tables.';\n",
              "          element.innerHTML = '';\n",
              "          dataTable['output_type'] = 'display_data';\n",
              "          await google.colab.output.renderOutput(dataTable, element);\n",
              "          const docLink = document.createElement('div');\n",
              "          docLink.innerHTML = docLinkHtml;\n",
              "          element.appendChild(docLink);\n",
              "        }\n",
              "      </script>\n",
              "    </div>\n",
              "  </div>\n",
              "  "
            ]
          },
          "metadata": {},
          "execution_count": 11
        }
      ]
    },
    {
      "cell_type": "code",
      "source": [
        "train_summary[train_summary['데이터 종류'] == '명목형'].index"
      ],
      "metadata": {
        "colab": {
          "base_uri": "https://localhost:8080/"
        },
        "id": "RbvD5lN7ppjh",
        "outputId": "e3961d63-a90a-4ed5-ed59-1dc82fc7388a"
      },
      "execution_count": null,
      "outputs": [
        {
          "output_type": "execute_result",
          "data": {
            "text/plain": [
              "Index(['ps_ind_02_cat', 'ps_ind_04_cat', 'ps_ind_05_cat', 'ps_car_01_cat',\n",
              "       'ps_car_02_cat', 'ps_car_03_cat', 'ps_car_04_cat', 'ps_car_05_cat',\n",
              "       'ps_car_06_cat', 'ps_car_07_cat', 'ps_car_08_cat', 'ps_car_09_cat',\n",
              "       'ps_car_10_cat', 'ps_car_11_cat'],\n",
              "      dtype='object')"
            ]
          },
          "metadata": {},
          "execution_count": 12
        }
      ]
    },
    {
      "cell_type": "code",
      "source": [
        "train_summary[train_summary['데이터 타입'] == 'float64'].index"
      ],
      "metadata": {
        "colab": {
          "base_uri": "https://localhost:8080/"
        },
        "id": "0LOHDQMTp0wF",
        "outputId": "8a5c396c-7cec-41cc-8444-d093f93628a7"
      },
      "execution_count": null,
      "outputs": [
        {
          "output_type": "execute_result",
          "data": {
            "text/plain": [
              "Index(['ps_reg_01', 'ps_reg_02', 'ps_reg_03', 'ps_car_12', 'ps_car_13',\n",
              "       'ps_car_14', 'ps_car_15', 'ps_calc_01', 'ps_calc_02', 'ps_calc_03'],\n",
              "      dtype='object')"
            ]
          },
          "metadata": {},
          "execution_count": 13
        }
      ]
    },
    {
      "cell_type": "markdown",
      "source": [
        "데이터 시각화"
      ],
      "metadata": {
        "id": "05XAieONp9dO"
      }
    },
    {
      "cell_type": "code",
      "source": [
        "import seaborn as sns\n",
        "import matplotlib as mpl\n",
        "import matplotlib.pyplot as plt\n",
        "%matplotlib inline"
      ],
      "metadata": {
        "id": "_wEbp3u6p7gs"
      },
      "execution_count": null,
      "outputs": []
    },
    {
      "cell_type": "code",
      "source": [
        "def write_percent(ax, total_size):\n",
        "    '''도형 객체를 순회하며 막대 그래프 상단에 타깃값 비율 표시'''\n",
        "    for patch in ax.patches:\n",
        "        height = patch.get_height()     # 도형 높이(데이터 개수)\n",
        "        width = patch.get_width()       # 도형 너비\n",
        "        left_coord = patch.get_x()      # 도형 왼쪽 테두리의 x축 위치\n",
        "        percent = height/total_size*100 # 타깃값 비율\n",
        "        \n",
        "        # (x, y) 좌표에 텍스트 입력\n",
        "        ax.text(left_coord + width/2.0,     # x축 위치\n",
        "                height + total_size*0.001,  # y축 위치\n",
        "                '{:1.1f}%'.format(percent), # 입력 텍스트\n",
        "                ha='center')                # 가운데 정렬\n",
        "    \n",
        "mpl.rc('font', size=15)\n",
        "plt.figure(figsize=(7, 6))\n",
        "\n",
        "ax = sns.countplot(x='target', data=train)\n",
        "write_percent(ax, len(train)) # 비율 표시\n",
        "ax.set_title('Target Distribution');"
      ],
      "metadata": {
        "colab": {
          "base_uri": "https://localhost:8080/",
          "height": 581
        },
        "id": "B8I8L7hDqGGN",
        "outputId": "197db4ba-2f3f-4e5d-e8ad-58f6a205c470"
      },
      "execution_count": null,
      "outputs": [
        {
          "output_type": "display_data",
          "data": {
            "text/plain": [
              "<Figure size 700x600 with 1 Axes>"
            ],
            "image/png": "[encoded data removed]"
          },
          "metadata": {}
        }
      ]
    },
    {
      "cell_type": "markdown",
      "source": [
        "binary feature"
      ],
      "metadata": {
        "id": "zIYcONYYqQUJ"
      }
    },
    {
      "cell_type": "code",
      "source": [
        "import matplotlib.gridspec as gridspec\n",
        "\n",
        "def plot_target_ratio_by_features(df, features, num_rows, num_cols, \n",
        "                                  size=(12, 18)):\n",
        "    mpl.rc('font', size=9) \n",
        "    plt.figure(figsize=size)                     # 전체 Figure 크기 설정\n",
        "    grid = gridspec.GridSpec(num_rows, num_cols) # 서브플롯 배치\n",
        "    plt.subplots_adjust(wspace=0.3, hspace=0.3)  # 서브플롯 좌우/상하 여백 설정\n",
        "\n",
        "    for idx, feature in enumerate(features):\n",
        "        ax = plt.subplot(grid[idx])\n",
        "        # ax축에 고윳값별 타깃값 1 비율을 막대 그래프로 그리기\n",
        "        sns.barplot(x=feature, y='target', data=df, palette='Set2', ax=ax)\n"
      ],
      "metadata": {
        "id": "m92J1Kd9qLH4"
      },
      "execution_count": null,
      "outputs": []
    },
    {
      "cell_type": "code",
      "source": [
        "bin_features = train_summary[train_summary['데이터 종류'] == '이진형'].index\n",
        "plot_target_ratio_by_features(train, bin_features, 6, 3)"
      ],
      "metadata": {
        "colab": {
          "base_uri": "https://localhost:8080/",
          "height": 1000
        },
        "id": "e3K5P5__qZLT",
        "outputId": "51fdf548-ed1f-46f8-f735-d4cde4feb1ca"
      },
      "execution_count": null,
      "outputs": [
        {
          "output_type": "display_data",
          "data": {
            "text/plain": [
              "<Figure size 1200x1800 with 18 Axes>"
            ],
            "image/png": "[encoded data removed]"
          },
          "metadata": {}
        }
      ]
    },
    {
      "cell_type": "markdown",
      "source": [
        "명목형 feature"
      ],
      "metadata": {
        "id": "lnCZfg4vqrq3"
      }
    },
    {
      "cell_type": "code",
      "source": [
        "nom_features = train_summary[train_summary['데이터 종류'] == '명목형'].index\n",
        "plot_target_ratio_by_features(train, nom_features, 7, 2)"
      ],
      "metadata": {
        "colab": {
          "base_uri": "https://localhost:8080/",
          "height": 1000
        },
        "id": "-PyaZcTqql5E",
        "outputId": "3fa11ec5-1034-4ffd-da7c-c826f7edadfc"
      },
      "execution_count": null,
      "outputs": [
        {
          "output_type": "display_data",
          "data": {
            "text/plain": [
              "<Figure size 1200x1800 with 14 Axes>"
            ],
            "image/png": "[encoded data removed]"
          },
          "metadata": {}
        }
      ]
    },
    {
      "cell_type": "markdown",
      "source": [
        "순서형 feature"
      ],
      "metadata": {
        "id": "-P51Ivn0q6aZ"
      }
    },
    {
      "cell_type": "code",
      "source": [
        "# ord_features = train_summary[train_summary['데이터 종류'] == '순서형'].index\n",
        "# plot_target_ratio_by_features(train, ord_features, 8, 2, (12,2,0))"
      ],
      "metadata": {
        "id": "LVxlRklmq8Nk"
      },
      "execution_count": null,
      "outputs": []
    },
    {
      "cell_type": "markdown",
      "source": [
        "연속형 feature"
      ],
      "metadata": {
        "id": "1qj6oDi2rJbX"
      }
    },
    {
      "cell_type": "code",
      "source": [
        "cont_features = train_summary[train_summary['데이터 종류'] == '연속형'].index # 연속형 피처\n",
        "\n",
        "plt.figure(figsize=(12, 16))                # Figure 크기 설정\n",
        "grid = gridspec.GridSpec(5, 2)              # GridSpec 객체 생성\n",
        "plt.subplots_adjust(wspace=0.2, hspace=0.4) # 서브플롯 간 여백 설정\n",
        "\n",
        "for idx, cont_feature in enumerate(cont_features):\n",
        "    # 값을 5개 구간으로 나누기\n",
        "    train[cont_feature] = pd.cut(train[cont_feature], 5)\n",
        "\n",
        "    ax = plt.subplot(grid[idx])                # 분포도를 그릴 서브플롯 설정\n",
        "    sns.barplot(x=cont_feature, y='target', data=train, palette='Set2', ax=ax)\n",
        "    ax.tick_params(axis='x', labelrotation=10) # x축 라벨 회전"
      ],
      "metadata": {
        "id": "Y4CYUF6QrKqd"
      },
      "execution_count": null,
      "outputs": []
    },
    {
      "cell_type": "code",
      "source": [
        "train_copy = train_copy.dropna() # np.NaN 값 삭제"
      ],
      "metadata": {
        "id": "Ha9i6Ryjrcig"
      },
      "execution_count": null,
      "outputs": []
    },
    {
      "cell_type": "code",
      "source": [
        "plt.figure(figsize=(10,8))\n",
        "cont_corr = train_copy[cont_features].corr()\n",
        "sns.heatmap(cont_corr, annot=True, cmap='OrRd')"
      ],
      "metadata": {
        "id": "43HPIPiQrc2U"
      },
      "execution_count": null,
      "outputs": []
    },
    {
      "cell_type": "markdown",
      "source": [
        "# Baseline model"
      ],
      "metadata": {
        "id": "q0fzJzp6r3sB"
      }
    },
    {
      "cell_type": "code",
      "source": [
        "# 전처리 작업을 위한 데이터 통합\n",
        "all_data = pd.concat([train, test], ignore_index=True)\n",
        "all_data = all_data.drop('target', axis=1)"
      ],
      "metadata": {
        "id": "HFxP0Y9Wr5l6"
      },
      "execution_count": null,
      "outputs": []
    },
    {
      "cell_type": "code",
      "source": [
        "all_features = all_data.columns"
      ],
      "metadata": {
        "id": "6MsbmWsssVps"
      },
      "execution_count": null,
      "outputs": []
    },
    {
      "cell_type": "code",
      "source": [
        "all_features"
      ],
      "metadata": {
        "colab": {
          "base_uri": "https://localhost:8080/"
        },
        "id": "6hBFXGf_sa7m",
        "outputId": "fb1cad9c-9c13-4343-c25d-4c343e2d0b84"
      },
      "execution_count": null,
      "outputs": [
        {
          "output_type": "execute_result",
          "data": {
            "text/plain": [
              "Index(['ps_ind_01', 'ps_ind_02_cat', 'ps_ind_03', 'ps_ind_04_cat',\n",
              "       'ps_ind_05_cat', 'ps_ind_06_bin', 'ps_ind_07_bin', 'ps_ind_08_bin',\n",
              "       'ps_ind_09_bin', 'ps_ind_10_bin', 'ps_ind_11_bin', 'ps_ind_12_bin',\n",
              "       'ps_ind_13_bin', 'ps_ind_14', 'ps_ind_15', 'ps_ind_16_bin',\n",
              "       'ps_ind_17_bin', 'ps_ind_18_bin', 'ps_reg_01', 'ps_reg_02', 'ps_reg_03',\n",
              "       'ps_car_01_cat', 'ps_car_02_cat', 'ps_car_03_cat', 'ps_car_04_cat',\n",
              "       'ps_car_05_cat', 'ps_car_06_cat', 'ps_car_07_cat', 'ps_car_08_cat',\n",
              "       'ps_car_09_cat', 'ps_car_10_cat', 'ps_car_11_cat', 'ps_car_11',\n",
              "       'ps_car_12', 'ps_car_13', 'ps_car_14', 'ps_car_15', 'ps_calc_01',\n",
              "       'ps_calc_02', 'ps_calc_03', 'ps_calc_04', 'ps_calc_05', 'ps_calc_06',\n",
              "       'ps_calc_07', 'ps_calc_08', 'ps_calc_09', 'ps_calc_10', 'ps_calc_11',\n",
              "       'ps_calc_12', 'ps_calc_13', 'ps_calc_14', 'ps_calc_15_bin',\n",
              "       'ps_calc_16_bin', 'ps_calc_17_bin', 'ps_calc_18_bin', 'ps_calc_19_bin',\n",
              "       'ps_calc_20_bin'],\n",
              "      dtype='object')"
            ]
          },
          "metadata": {},
          "execution_count": 7
        }
      ]
    },
    {
      "cell_type": "code",
      "source": [
        "# cat_feature one-hot encoding\n",
        "from sklearn.preprocessing import OneHotEncoder\n",
        "cat_features = [ feature for feature in all_features if 'cat' in feature]"
      ],
      "metadata": {
        "id": "JDF1KRtiscFo"
      },
      "execution_count": null,
      "outputs": []
    },
    {
      "cell_type": "code",
      "source": [
        "onehot_encoder = OneHotEncoder()\n",
        "encoded_cat_matrix = onehot_encoder.fit_transform(all_data[cat_features])\n",
        "encoded_cat_matrix"
      ],
      "metadata": {
        "colab": {
          "base_uri": "https://localhost:8080/"
        },
        "id": "-oRD4KW-srPo",
        "outputId": "d3d94626-e8d8-464b-c488-514deff40ee3"
      },
      "execution_count": null,
      "outputs": [
        {
          "output_type": "execute_result",
          "data": {
            "text/plain": [
              "<1488028x184 sparse matrix of type '<class 'numpy.float64'>'\n",
              "\twith 20832392 stored elements in Compressed Sparse Row format>"
            ]
          },
          "metadata": {},
          "execution_count": 9
        }
      ]
    },
    {
      "cell_type": "code",
      "source": [
        "# 필요 없는 feature drop\n",
        "# 추가로 제거할 피처\n",
        "drop_features = ['ps_ind_14', 'ps_ind_10_bin', 'ps_ind_11_bin', \n",
        "                 'ps_ind_12_bin', 'ps_ind_13_bin', 'ps_car_14']\n",
        "\n",
        "# '1) 명목형 피처, 2) calc 분류의 피처, 3) 추가 제거할 피처'를 제외한 피처\n",
        "remaining_features = [feature for feature in all_features \n",
        "                      if ('cat' not in feature and \n",
        "                          'calc' not in feature and \n",
        "                          feature not in drop_features)]"
      ],
      "metadata": {
        "id": "zENSlAONs8ZO"
      },
      "execution_count": null,
      "outputs": []
    },
    {
      "cell_type": "code",
      "source": [
        "from scipy import sparse\n",
        "all_data_sprs = sparse.hstack([sparse.csr_matrix(all_data[remaining_features]), \n",
        "                               encoded_cat_matrix], format='csr')"
      ],
      "metadata": {
        "id": "F0A1d_iYtDfh"
      },
      "execution_count": null,
      "outputs": []
    },
    {
      "cell_type": "code",
      "source": [
        "# 다시 데이터 분할\n",
        "num_train = len(train)\n",
        "X = all_data_sprs[:num_train]\n",
        "X_test = all_data_sprs[num_train:]\n",
        "y = train['target'].values"
      ],
      "metadata": {
        "id": "-IiSd65ltRau"
      },
      "execution_count": null,
      "outputs": []
    },
    {
      "cell_type": "markdown",
      "source": [
        "평가지표 계산 함수 작성"
      ],
      "metadata": {
        "id": "etEC2RvMtj0B"
      }
    },
    {
      "cell_type": "markdown",
      "source": [
        "정규화 지니계수 계산 함수"
      ],
      "metadata": {
        "id": "8UltJp6QtnQO"
      }
    },
    {
      "cell_type": "code",
      "source": [
        "import numpy as np\n",
        "\n",
        "def eval_gini(y_true, y_pred):\n",
        "    # 실제값과 예측값의 크기가 같은지 확인 (값이 다르면 오류 발생)\n",
        "    assert y_true.shape == y_pred.shape\n",
        "\n",
        "    n_samples = y_true.shape[0]                      # 데이터 개수\n",
        "    L_mid = np.linspace(1 / n_samples, 1, n_samples) # 대각선 값\n",
        "\n",
        "    # 1) 예측값에 대한 지니계수\n",
        "    pred_order = y_true[y_pred.argsort()] # y_pred 크기순으로 y_true 값 정렬\n",
        "    L_pred = np.cumsum(pred_order) / np.sum(pred_order) # 로렌츠 곡선\n",
        "    G_pred = np.sum(L_mid - L_pred)       # 예측 값에 대한 지니계수\n",
        "\n",
        "    # 2) 예측이 완벽할 때 지니계수\n",
        "    true_order = y_true[y_true.argsort()] # y_true 크기순으로 y_true 값 정렬\n",
        "    L_true = np.cumsum(true_order) / np.sum(true_order) # 로렌츠 곡선\n",
        "    G_true = np.sum(L_mid - L_true)       # 예측이 완벽할 때 지니계수\n",
        "\n",
        "    # 정규화된 지니계수\n",
        "    return G_pred / G_true\n",
        "\n",
        "def gini(preds, dtrain):\n",
        "    labels = dtrain.get_label()\n",
        "    return 'gini', eval_gini(labels, preds)"
      ],
      "metadata": {
        "id": "3tiviP2Btged"
      },
      "execution_count": null,
      "outputs": []
    },
    {
      "cell_type": "markdown",
      "source": [
        "모델 훈련 및 성능검증"
      ],
      "metadata": {
        "id": "gEkcyc38u5AG"
      }
    },
    {
      "cell_type": "markdown",
      "source": [
        "LightGBM 훈련"
      ],
      "metadata": {
        "id": "RQuIR-21u7k4"
      }
    },
    {
      "cell_type": "code",
      "source": [
        "from sklearn.model_selection import StratifiedKFold\n",
        "folds = StratifiedKFold(n_splits=5, shuffle=True, random_state=1991)\n",
        "\n",
        "params = {'objective': 'binary',\n",
        "          'learning_rate': 0.01,\n",
        "          'force_row_wise': True,\n",
        "          'random_state': 0}"
      ],
      "metadata": {
        "id": "EeJxLkqBupgN"
      },
      "execution_count": null,
      "outputs": []
    },
    {
      "cell_type": "code",
      "source": [
        "oof_val_preds = np.zeros(X.shape[0])\n",
        "oof_test_preds = np.zeros(X_test.shape[0])"
      ],
      "metadata": {
        "id": "JuSx7-T0vLrg"
      },
      "execution_count": null,
      "outputs": []
    },
    {
      "cell_type": "code",
      "source": [
        "import lightgbm as lgb\n",
        "\n",
        "# OOF 방식으로 모델 훈련, 검증, 예측\n",
        "for idx, (train_idx, valid_idx) in enumerate(folds.split(X, y)):\n",
        "    # 각 폴드를 구분하는 문구 출력\n",
        "    print('#'*40, f'폴드 {idx+1} / 폴드 {folds.n_splits}', '#'*40)\n",
        "    \n",
        "    # 훈련용 데이터, 검증용 데이터 설정 \n",
        "    X_train, y_train = X[train_idx], y[train_idx] # 훈련용 데이터\n",
        "    X_valid, y_valid = X[valid_idx], y[valid_idx] # 검증용 데이터\n",
        "\n",
        "    # LightGBM 전용 데이터셋 생성 \n",
        "    dtrain = lgb.Dataset(X_train, y_train) # LightGBM 전용 훈련 데이터셋\n",
        "    dvalid = lgb.Dataset(X_valid, y_valid) # LightGBM 전용 검증 데이터셋\n",
        "\n",
        "    # LightGBM 모델 훈련 \n",
        "    lgb_model = lgb.train(params=params,        # 훈련용 하이퍼파라미터\n",
        "                          train_set=dtrain,     # 훈련 데이터셋\n",
        "                          num_boost_round=1000, # 부스팅 반복 횟수\n",
        "                          valid_sets=dvalid,    # 성능 평가용 검증 데이터셋\n",
        "                          feval=gini,           # 검증용 평가지표\n",
        "                          early_stopping_rounds=100, # 조기종료 조건\n",
        "                          verbose_eval=100)     # 100번째마다 점수 출력\n",
        "    \n",
        "    # 테스트 데이터를 활용해 OOF 예측\n",
        "    oof_test_preds += lgb_model.predict(X_test)/folds.n_splits\n",
        "    \n",
        "    # 모델 성능 평가를 위한 검증 데이터 타깃값 예측\n",
        "    oof_val_preds[valid_idx] += lgb_model.predict(X_valid)\n",
        "    \n",
        "    # 검증 데이터 예측 확률에 대한 정규화 지니계수 \n",
        "    gini_score = eval_gini(y_valid, oof_val_preds[valid_idx])\n",
        "    print(f'폴드 {idx+1} 지니계수 : {gini_score}\\n')"
      ],
      "metadata": {
        "colab": {
          "base_uri": "https://localhost:8080/",
          "height": 600
        },
        "id": "pwy3Uc8GvRmD",
        "outputId": "db409237-36f2-4317-ddc9-5a9ae92ba285"
      },
      "execution_count": null,
      "outputs": [
        {
          "output_type": "stream",
          "name": "stdout",
          "text": [
            "######################################## 폴드 1 / 폴드 5 ########################################\n"
          ]
        },
        {
          "output_type": "stream",
          "name": "stderr",
          "text": [
            "/usr/local/lib/python3.9/dist-packages/lightgbm/engine.py:181: UserWarning: 'early_stopping_rounds' argument is deprecated and will be removed in a future release of LightGBM. Pass 'early_stopping()' callback via 'callbacks' argument instead.\n",
            "  _log_warning(\"'early_stopping_rounds' argument is deprecated and will be removed in a future release of LightGBM. \"\n",
            "/usr/local/lib/python3.9/dist-packages/lightgbm/engine.py:239: UserWarning: 'verbose_eval' argument is deprecated and will be removed in a future release of LightGBM. Pass 'log_evaluation()' callback via 'callbacks' argument instead.\n",
            "  _log_warning(\"'verbose_eval' argument is deprecated and will be removed in a future release of LightGBM. \"\n"
          ]
        },
        {
          "output_type": "stream",
          "name": "stdout",
          "text": [
            "[LightGBM] [Info] Number of positive: 17355, number of negative: 458814\n",
            "[LightGBM] [Info] Total Bins 1095\n",
            "[LightGBM] [Info] Number of data points in the train set: 476169, number of used features: 200\n",
            "[LightGBM] [Info] [binary:BoostFromScore]: pavg=0.036447 -> initscore=-3.274764\n",
            "[LightGBM] [Info] Start training from score -3.274764\n"
          ]
        },
        {
          "output_type": "error",
          "ename": "ValueError",
          "evalue": "ignored",
          "traceback": [
            "\u001b[0;31m---------------------------------------------------------------------------\u001b[0m",
            "\u001b[0;31mValueError\u001b[0m                                Traceback (most recent call last)",
            "\u001b[0;32m<ipython-input-35-e69bcebe2c83>\u001b[0m in \u001b[0;36m<cell line: 4>\u001b[0;34m()\u001b[0m\n\u001b[1;32m     15\u001b[0m \u001b[0;34m\u001b[0m\u001b[0m\n\u001b[1;32m     16\u001b[0m     \u001b[0;31m# LightGBM 모델 훈련\u001b[0m\u001b[0;34m\u001b[0m\u001b[0;34m\u001b[0m\u001b[0m\n\u001b[0;32m---> 17\u001b[0;31m     lgb_model = lgb.train(params=params,        # 훈련용 하이퍼파라미터\n\u001b[0m\u001b[1;32m     18\u001b[0m                           \u001b[0mtrain_set\u001b[0m\u001b[0;34m=\u001b[0m\u001b[0mdtrain\u001b[0m\u001b[0;34m,\u001b[0m     \u001b[0;31m# 훈련 데이터셋\u001b[0m\u001b[0;34m\u001b[0m\u001b[0;34m\u001b[0m\u001b[0m\n\u001b[1;32m     19\u001b[0m                           \u001b[0mnum_boost_round\u001b[0m\u001b[0;34m=\u001b[0m\u001b[0;36m1000\u001b[0m\u001b[0;34m,\u001b[0m \u001b[0;31m# 부스팅 반복 횟수\u001b[0m\u001b[0;34m\u001b[0m\u001b[0;34m\u001b[0m\u001b[0m\n",
            "\u001b[0;32m/usr/local/lib/python3.9/dist-packages/lightgbm/engine.py\u001b[0m in \u001b[0;36mtrain\u001b[0;34m(params, train_set, num_boost_round, valid_sets, valid_names, fobj, feval, init_model, feature_name, categorical_feature, early_stopping_rounds, evals_result, verbose_eval, learning_rates, keep_training_booster, callbacks)\u001b[0m\n\u001b[1;32m    297\u001b[0m             \u001b[0;32mif\u001b[0m \u001b[0mis_valid_contain_train\u001b[0m\u001b[0;34m:\u001b[0m\u001b[0;34m\u001b[0m\u001b[0;34m\u001b[0m\u001b[0m\n\u001b[1;32m    298\u001b[0m                 \u001b[0mevaluation_result_list\u001b[0m\u001b[0;34m.\u001b[0m\u001b[0mextend\u001b[0m\u001b[0;34m(\u001b[0m\u001b[0mbooster\u001b[0m\u001b[0;34m.\u001b[0m\u001b[0meval_train\u001b[0m\u001b[0;34m(\u001b[0m\u001b[0mfeval\u001b[0m\u001b[0;34m)\u001b[0m\u001b[0;34m)\u001b[0m\u001b[0;34m\u001b[0m\u001b[0;34m\u001b[0m\u001b[0m\n\u001b[0;32m--> 299\u001b[0;31m             \u001b[0mevaluation_result_list\u001b[0m\u001b[0;34m.\u001b[0m\u001b[0mextend\u001b[0m\u001b[0;34m(\u001b[0m\u001b[0mbooster\u001b[0m\u001b[0;34m.\u001b[0m\u001b[0meval_valid\u001b[0m\u001b[0;34m(\u001b[0m\u001b[0mfeval\u001b[0m\u001b[0;34m)\u001b[0m\u001b[0;34m)\u001b[0m\u001b[0;34m\u001b[0m\u001b[0;34m\u001b[0m\u001b[0m\n\u001b[0m\u001b[1;32m    300\u001b[0m         \u001b[0;32mtry\u001b[0m\u001b[0;34m:\u001b[0m\u001b[0;34m\u001b[0m\u001b[0;34m\u001b[0m\u001b[0m\n\u001b[1;32m    301\u001b[0m             \u001b[0;32mfor\u001b[0m \u001b[0mcb\u001b[0m \u001b[0;32min\u001b[0m \u001b[0mcallbacks_after_iter\u001b[0m\u001b[0;34m:\u001b[0m\u001b[0;34m\u001b[0m\u001b[0;34m\u001b[0m\u001b[0m\n",
            "\u001b[0;32m/usr/local/lib/python3.9/dist-packages/lightgbm/basic.py\u001b[0m in \u001b[0;36meval_valid\u001b[0;34m(self, feval)\u001b[0m\n\u001b[1;32m   3269\u001b[0m             \u001b[0mList\u001b[0m \u001b[0;32mwith\u001b[0m \u001b[0mevaluation\u001b[0m \u001b[0mresults\u001b[0m\u001b[0;34m.\u001b[0m\u001b[0;34m\u001b[0m\u001b[0;34m\u001b[0m\u001b[0m\n\u001b[1;32m   3270\u001b[0m         \"\"\"\n\u001b[0;32m-> 3271\u001b[0;31m         return [item for i in range(1, self.__num_dataset)\n\u001b[0m\u001b[1;32m   3272\u001b[0m                 for item in self.__inner_eval(self.name_valid_sets[i - 1], i, feval)]\n\u001b[1;32m   3273\u001b[0m \u001b[0;34m\u001b[0m\u001b[0m\n",
            "\u001b[0;32m/usr/local/lib/python3.9/dist-packages/lightgbm/basic.py\u001b[0m in \u001b[0;36m<listcomp>\u001b[0;34m(.0)\u001b[0m\n\u001b[1;32m   3270\u001b[0m         \"\"\"\n\u001b[1;32m   3271\u001b[0m         return [item for i in range(1, self.__num_dataset)\n\u001b[0;32m-> 3272\u001b[0;31m                 for item in self.__inner_eval(self.name_valid_sets[i - 1], i, feval)]\n\u001b[0m\u001b[1;32m   3273\u001b[0m \u001b[0;34m\u001b[0m\u001b[0m\n\u001b[1;32m   3274\u001b[0m     \u001b[0;32mdef\u001b[0m \u001b[0msave_model\u001b[0m\u001b[0;34m(\u001b[0m\u001b[0mself\u001b[0m\u001b[0;34m,\u001b[0m \u001b[0mfilename\u001b[0m\u001b[0;34m,\u001b[0m \u001b[0mnum_iteration\u001b[0m\u001b[0;34m=\u001b[0m\u001b[0;32mNone\u001b[0m\u001b[0;34m,\u001b[0m \u001b[0mstart_iteration\u001b[0m\u001b[0;34m=\u001b[0m\u001b[0;36m0\u001b[0m\u001b[0;34m,\u001b[0m \u001b[0mimportance_type\u001b[0m\u001b[0;34m=\u001b[0m\u001b[0;34m'split'\u001b[0m\u001b[0;34m)\u001b[0m\u001b[0;34m:\u001b[0m\u001b[0;34m\u001b[0m\u001b[0;34m\u001b[0m\u001b[0m\n",
            "\u001b[0;32m/usr/local/lib/python3.9/dist-packages/lightgbm/basic.py\u001b[0m in \u001b[0;36m__inner_eval\u001b[0;34m(self, data_name, data_idx, feval)\u001b[0m\n\u001b[1;32m   3812\u001b[0m                         \u001b[0mret\u001b[0m\u001b[0;34m.\u001b[0m\u001b[0mappend\u001b[0m\u001b[0;34m(\u001b[0m\u001b[0;34m(\u001b[0m\u001b[0mdata_name\u001b[0m\u001b[0;34m,\u001b[0m \u001b[0meval_name\u001b[0m\u001b[0;34m,\u001b[0m \u001b[0mval\u001b[0m\u001b[0;34m,\u001b[0m \u001b[0mis_higher_better\u001b[0m\u001b[0;34m)\u001b[0m\u001b[0;34m)\u001b[0m\u001b[0;34m\u001b[0m\u001b[0;34m\u001b[0m\u001b[0m\n\u001b[1;32m   3813\u001b[0m                 \u001b[0;32melse\u001b[0m\u001b[0;34m:\u001b[0m\u001b[0;34m\u001b[0m\u001b[0;34m\u001b[0m\u001b[0m\n\u001b[0;32m-> 3814\u001b[0;31m                     \u001b[0meval_name\u001b[0m\u001b[0;34m,\u001b[0m \u001b[0mval\u001b[0m\u001b[0;34m,\u001b[0m \u001b[0mis_higher_better\u001b[0m \u001b[0;34m=\u001b[0m \u001b[0mfeval_ret\u001b[0m\u001b[0;34m\u001b[0m\u001b[0;34m\u001b[0m\u001b[0m\n\u001b[0m\u001b[1;32m   3815\u001b[0m                     \u001b[0mret\u001b[0m\u001b[0;34m.\u001b[0m\u001b[0mappend\u001b[0m\u001b[0;34m(\u001b[0m\u001b[0;34m(\u001b[0m\u001b[0mdata_name\u001b[0m\u001b[0;34m,\u001b[0m \u001b[0meval_name\u001b[0m\u001b[0;34m,\u001b[0m \u001b[0mval\u001b[0m\u001b[0;34m,\u001b[0m \u001b[0mis_higher_better\u001b[0m\u001b[0;34m)\u001b[0m\u001b[0;34m)\u001b[0m\u001b[0;34m\u001b[0m\u001b[0;34m\u001b[0m\u001b[0m\n\u001b[1;32m   3816\u001b[0m         \u001b[0;32mreturn\u001b[0m \u001b[0mret\u001b[0m\u001b[0;34m\u001b[0m\u001b[0;34m\u001b[0m\u001b[0m\n",
            "\u001b[0;31mValueError\u001b[0m: not enough values to unpack (expected 3, got 2)"
          ]
        }
      ]
    },
    {
      "cell_type": "code",
      "source": [
        "print('OOF 검증 데이터 지니계수:', eval_gini(y, oof_val_preds))"
      ],
      "metadata": {
        "id": "S2c2th_vvYmT"
      },
      "execution_count": null,
      "outputs": []
    },
    {
      "cell_type": "markdown",
      "source": [
        "예측 및 결과 제출"
      ],
      "metadata": {
        "id": "Epay0OMovoZj"
      }
    },
    {
      "cell_type": "code",
      "source": [
        "submission['target'] = oof_test_preds\n",
        "submission.to_csv('submission.csv')"
      ],
      "metadata": {
        "id": "SokHA0__vpxH"
      },
      "execution_count": null,
      "outputs": []
    },
    {
      "cell_type": "markdown",
      "source": [
        "# LightGBM 모델"
      ],
      "metadata": {
        "id": "95cadq4Yv33S"
      }
    },
    {
      "cell_type": "code",
      "source": [
        "# 파생 feature 추가\n",
        "all_data['num_missing'] = (all_data==-1).sum(axis=1)"
      ],
      "metadata": {
        "id": "emG5dL3vwcOL"
      },
      "execution_count": null,
      "outputs": []
    },
    {
      "cell_type": "code",
      "source": [
        "# 명목형 피처, calc 분류의 피처를 제외한 피처\n",
        "remaining_features = [feature for feature in all_features\n",
        "                      if ('cat' not in feature and 'calc' not in feature)] \n",
        "# num_missing을 remaining_features에 추가\n",
        "remaining_features.append('num_missing')"
      ],
      "metadata": {
        "id": "bI-ap_IBv5pc"
      },
      "execution_count": null,
      "outputs": []
    },
    {
      "cell_type": "code",
      "source": [
        "# 분류가 ind인 피처\n",
        "ind_features = [feature for feature in all_features if 'ind' in feature]\n",
        "\n",
        "is_first_feature = True\n",
        "for ind_feature in ind_features:\n",
        "    if is_first_feature:\n",
        "        all_data['mix_ind'] = all_data[ind_feature].astype(str) + '_'\n",
        "        is_first_feature = False\n",
        "    else:\n",
        "        all_data['mix_ind'] += all_data[ind_feature].astype(str) + '_'\n",
        "\n",
        "all_data['mix_ind']"
      ],
      "metadata": {
        "colab": {
          "base_uri": "https://localhost:8080/"
        },
        "id": "iFXpmCFqwmkC",
        "outputId": "f51d9bea-18b6-40ee-80cd-fc593c3602f7"
      },
      "execution_count": null,
      "outputs": [
        {
          "output_type": "execute_result",
          "data": {
            "text/plain": [
              "0          2_2_5_1_0_0_1_0_0_0_0_0_0_0_11_0_1_0_\n",
              "1           1_1_7_0_0_0_0_1_0_0_0_0_0_0_3_0_0_1_\n",
              "2          5_4_9_1_0_0_0_1_0_0_0_0_0_0_12_1_0_0_\n",
              "3           0_1_2_0_0_1_0_0_0_0_0_0_0_0_8_1_0_0_\n",
              "4           0_2_0_1_0_1_0_0_0_0_0_0_0_0_9_1_0_0_\n",
              "                           ...                  \n",
              "1488023     0_1_6_0_0_0_1_0_0_0_0_0_0_0_2_0_0_1_\n",
              "1488024    5_3_5_1_0_0_0_1_0_0_0_0_0_0_11_1_0_0_\n",
              "1488025     0_1_5_0_0_1_0_0_0_0_0_0_0_0_5_0_0_1_\n",
              "1488026    6_1_5_1_0_0_0_0_1_0_0_0_0_0_13_1_0_0_\n",
              "1488027    7_1_4_1_0_0_0_0_1_0_0_0_0_0_12_1_0_0_\n",
              "Name: mix_ind, Length: 1488028, dtype: object"
            ]
          },
          "metadata": {},
          "execution_count": 12
        }
      ]
    },
    {
      "cell_type": "code",
      "source": [
        "cat_count_features = []\n",
        "for feature in cat_features+['mix_ind']:\n",
        "    val_counts_dict = all_data[feature].value_counts().to_dict()\n",
        "    all_data[f'{feature}_count'] = all_data[feature].apply(lambda x: val_counts_dict[x])\n",
        "    cat_count_features.append(f'{feature}_count')"
      ],
      "metadata": {
        "id": "phZlD1MXwoUT"
      },
      "execution_count": null,
      "outputs": []
    },
    {
      "cell_type": "code",
      "source": [
        "cat_count_features"
      ],
      "metadata": {
        "colab": {
          "base_uri": "https://localhost:8080/"
        },
        "id": "qgzy4j-rw3U8",
        "outputId": "38523950-2537-40ae-b19a-0f7cfcd11ebe"
      },
      "execution_count": null,
      "outputs": [
        {
          "output_type": "execute_result",
          "data": {
            "text/plain": [
              "['ps_ind_02_cat_count',\n",
              " 'ps_ind_04_cat_count',\n",
              " 'ps_ind_05_cat_count',\n",
              " 'ps_car_01_cat_count',\n",
              " 'ps_car_02_cat_count',\n",
              " 'ps_car_03_cat_count',\n",
              " 'ps_car_04_cat_count',\n",
              " 'ps_car_05_cat_count',\n",
              " 'ps_car_06_cat_count',\n",
              " 'ps_car_07_cat_count',\n",
              " 'ps_car_08_cat_count',\n",
              " 'ps_car_09_cat_count',\n",
              " 'ps_car_10_cat_count',\n",
              " 'ps_car_11_cat_count',\n",
              " 'mix_ind_count']"
            ]
          },
          "metadata": {},
          "execution_count": 14
        }
      ]
    },
    {
      "cell_type": "code",
      "source": [
        "from scipy import sparse\n",
        "# 필요 없는 피처들\n",
        "drop_features = ['ps_ind_14', 'ps_ind_10_bin', 'ps_ind_11_bin', \n",
        "                 'ps_ind_12_bin', 'ps_ind_13_bin', 'ps_car_14']\n",
        "\n",
        "# remaining_features, cat_count_features에서 drop_features를 제거한 데이터\n",
        "all_data_remaining = all_data[remaining_features+cat_count_features].drop(drop_features, axis=1)\n",
        "\n",
        "# 데이터 합치기\n",
        "all_data_sprs = sparse.hstack([sparse.csr_matrix(all_data_remaining),\n",
        "                               encoded_cat_matrix],\n",
        "                              format='csr')"
      ],
      "metadata": {
        "id": "supATN10w5Ga"
      },
      "execution_count": null,
      "outputs": []
    },
    {
      "cell_type": "markdown",
      "source": [
        "### 모델링에서와 동일한 작업"
      ],
      "metadata": {
        "id": "K8rbp4-yw-WF"
      }
    },
    {
      "cell_type": "code",
      "source": [
        "num_train = len(train) # 훈련 데이터 개수\n",
        "\n",
        "# 훈련 데이터와 테스트 데이터 나누기\n",
        "X = all_data_sprs[:num_train]\n",
        "X_test = all_data_sprs[num_train:]\n",
        "\n",
        "y = train['target'].values"
      ],
      "metadata": {
        "id": "tbTLZtOow8CY"
      },
      "execution_count": null,
      "outputs": []
    },
    {
      "cell_type": "code",
      "source": [
        "import numpy as np\n",
        "\n",
        "def eval_gini(y_true, y_pred):\n",
        "    # 실제값과 예측값의 크기가 같은지 확인 (값이 다르면 오류 발생)\n",
        "    assert y_true.shape == y_pred.shape\n",
        "\n",
        "    n_samples = y_true.shape[0]                      # 데이터 개수\n",
        "    L_mid = np.linspace(1 / n_samples, 1, n_samples) # 대각선 값\n",
        "\n",
        "    # 1) 예측값에 대한 지니계수\n",
        "    pred_order = y_true[y_pred.argsort()] # y_pred 크기순으로 y_true 값 정렬\n",
        "    L_pred = np.cumsum(pred_order) / np.sum(pred_order) # 로렌츠 곡선\n",
        "    G_pred = np.sum(L_mid - L_pred)       # 예측 값에 대한 지니계수\n",
        "\n",
        "    # 2) 예측이 완벽할 때 지니계수\n",
        "    true_order = y_true[y_true.argsort()] # y_true 크기순으로 y_true 값 정렬\n",
        "    L_true = np.cumsum(true_order) / np.sum(true_order) # 로렌츠 곡선\n",
        "    G_true = np.sum(L_mid - L_true)       # 예측이 완벽할 때 지니계수\n",
        "\n",
        "    # 정규화된 지니계수\n",
        "    return G_pred / G_true"
      ],
      "metadata": {
        "id": "r2qfWpSMxGKz"
      },
      "execution_count": null,
      "outputs": []
    },
    {
      "cell_type": "code",
      "source": [
        "# LightGBM용 gini() 함수\n",
        "def gini(preds, dtrain):\n",
        "    labels = dtrain.get_label()\n",
        "    return 'gini', eval_gini(labels, preds), True # 반환값"
      ],
      "metadata": {
        "id": "-EVh4N1_xHMB"
      },
      "execution_count": null,
      "outputs": []
    },
    {
      "cell_type": "markdown",
      "source": [
        "### 하이퍼파라미터 최적화"
      ],
      "metadata": {
        "id": "MsPKcCX0xLwL"
      }
    },
    {
      "cell_type": "code",
      "source": [
        "import lightgbm as lgb\n",
        "from sklearn.model_selection import train_test_split\n",
        "\n",
        "# 8:2 비율로 훈련 데이터, 검증 데이터 분리 (베이지안 최적화 수행용)\n",
        "X_train, X_valid, y_train, y_valid = train_test_split(X, y, \n",
        "                                                      test_size=0.2, \n",
        "                                                      random_state=0)\n",
        "\n",
        "# 베이지안 최적화용 데이터셋\n",
        "bayes_dtrain = lgb.Dataset(X_train, y_train)\n",
        "bayes_dvalid = lgb.Dataset(X_valid, y_valid)"
      ],
      "metadata": {
        "id": "Aa-jEE3YxKDf"
      },
      "execution_count": null,
      "outputs": []
    },
    {
      "cell_type": "code",
      "source": [
        "# 베이지안 최적화를 위한 하이퍼파라미터 범위\n",
        "param_bounds = {'num_leaves': (30, 40),\n",
        "                'lambda_l1': (0.7, 0.9),\n",
        "                'lambda_l2': (0.9, 1),\n",
        "                'feature_fraction': (0.6, 0.7),\n",
        "                'bagging_fraction': (0.6, 0.9),\n",
        "                'min_child_samples': (6, 10),\n",
        "                'min_child_weight': (10, 40)}\n",
        "\n",
        "# 값이 고정된 하이퍼파라미터\n",
        "fixed_params = {'objective': 'binary',\n",
        "                'learning_rate': 0.005,\n",
        "                'bagging_freq': 1,\n",
        "                'force_row_wise': True,\n",
        "                'random_state': 1991}"
      ],
      "metadata": {
        "id": "nBknc1GRxUHK"
      },
      "execution_count": null,
      "outputs": []
    },
    {
      "cell_type": "code",
      "source": [
        "# 베이지안 최적화용 평가지표 계산 함수 작성\n",
        "def eval_function(num_leaves, lambda_l1, lambda_l2, feature_fraction,\n",
        "                  bagging_fraction, min_child_samples, min_child_weight):\n",
        "    '''최적화하려는 평가지표(지니계수) 계산 함수'''\n",
        "    \n",
        "    # 베이지안 최적화를 수행할 하이퍼파라미터 \n",
        "    params = {'num_leaves': int(round(num_leaves)),\n",
        "              'lambda_l1': lambda_l1,\n",
        "              'lambda_l2': lambda_l2,\n",
        "              'feature_fraction': feature_fraction,\n",
        "              'bagging_fraction': bagging_fraction,\n",
        "              'min_child_samples': int(round(min_child_samples)),\n",
        "              'min_child_weight': min_child_weight,\n",
        "              'feature_pre_filter': False}\n",
        "    # 고정된 하이퍼파라미터도 추가\n",
        "    params.update(fixed_params)\n",
        "    \n",
        "    print('하이퍼파라미터:', params)    \n",
        "    \n",
        "    # LightGBM 모델 훈련\n",
        "    lgb_model = lgb.train(params=params, \n",
        "                           train_set=bayes_dtrain,\n",
        "                           num_boost_round=2500,\n",
        "                           valid_sets=bayes_dvalid,\n",
        "                           feval=gini,\n",
        "                           early_stopping_rounds=300,\n",
        "                           verbose_eval=False)\n",
        "    # 검증 데이터로 예측 수행\n",
        "    preds = lgb_model.predict(X_valid) \n",
        "    # 지니계수 계산\n",
        "    gini_score = eval_gini(y_valid, preds)\n",
        "    print(f'지니계수 : {gini_score}\\n')\n",
        "    \n",
        "    return gini_score"
      ],
      "metadata": {
        "id": "5tUxZf35xf3M"
      },
      "execution_count": null,
      "outputs": []
    },
    {
      "cell_type": "code",
      "source": [
        "!pip3 install bayesian-optimization"
      ],
      "metadata": {
        "colab": {
          "base_uri": "https://localhost:8080/"
        },
        "id": "GUYJX0aBx6UU",
        "outputId": "87f150f2-a956-4511-ba0f-ad62f5fbb436"
      },
      "execution_count": null,
      "outputs": [
        {
          "output_type": "stream",
          "name": "stdout",
          "text": [
            "Looking in indexes: https://pypi.org/simple, https://us-python.pkg.dev/colab-wheels/public/simple/\n",
            "Collecting bayesian-optimization\n",
            "  Downloading bayesian_optimization-1.4.2-py3-none-any.whl (17 kB)\n",
            "Requirement already satisfied: numpy>=1.9.0 in /usr/local/lib/python3.9/dist-packages (from bayesian-optimization) (1.22.4)\n",
            "Requirement already satisfied: scikit-learn>=0.18.0 in /usr/local/lib/python3.9/dist-packages (from bayesian-optimization) (1.2.2)\n",
            "Collecting colorama>=0.4.6\n",
            "  Downloading colorama-0.4.6-py2.py3-none-any.whl (25 kB)\n",
            "Requirement already satisfied: scipy>=1.0.0 in /usr/local/lib/python3.9/dist-packages (from bayesian-optimization) (1.10.1)\n",
            "Requirement already satisfied: joblib>=1.1.1 in /usr/local/lib/python3.9/dist-packages (from scikit-learn>=0.18.0->bayesian-optimization) (1.1.1)\n",
            "Requirement already satisfied: threadpoolctl>=2.0.0 in /usr/local/lib/python3.9/dist-packages (from scikit-learn>=0.18.0->bayesian-optimization) (3.1.0)\n",
            "Installing collected packages: colorama, bayesian-optimization\n",
            "Successfully installed bayesian-optimization-1.4.2 colorama-0.4.6\n"
          ]
        }
      ]
    },
    {
      "cell_type": "code",
      "source": [
        "from bayes_opt import BayesianOptimization\n",
        "\n",
        "optimizer = BayesianOptimization(f=eval_function,\n",
        "                                 pbounds=param_bounds,\n",
        "                                 random_state=0)"
      ],
      "metadata": {
        "id": "itPRm3yQx9th"
      },
      "execution_count": null,
      "outputs": []
    },
    {
      "cell_type": "code",
      "source": [
        "# 베이지안 최적화 수행\n",
        "optimizer.maximize(init_points=3, n_iter=6)"
      ],
      "metadata": {
        "colab": {
          "base_uri": "https://localhost:8080/",
          "height": 1000
        },
        "id": "DjZmXV7gyKvL",
        "outputId": "dbd838d2-44de-444c-d037-b3e348a06f32"
      },
      "execution_count": null,
      "outputs": [
        {
          "output_type": "stream",
          "name": "stdout",
          "text": [
            "|   iter    |  target   | baggin... | featur... | lambda_l1 | lambda_l2 | min_ch... | min_ch... | num_le... |\n",
            "-------------------------------------------------------------------------------------------------------------\n",
            "하이퍼파라미터: {'num_leaves': 34, 'lambda_l1': 0.8205526752143287, 'lambda_l2': 0.9544883182996897, 'feature_fraction': 0.6715189366372419, 'bagging_fraction': 0.7646440511781974, 'min_child_samples': 8, 'min_child_weight': 29.376823391999682, 'feature_pre_filter': False, 'objective': 'binary', 'learning_rate': 0.005, 'bagging_freq': 1, 'force_row_wise': True, 'random_state': 1991}\n"
          ]
        },
        {
          "output_type": "stream",
          "name": "stderr",
          "text": [
            "/usr/local/lib/python3.9/dist-packages/lightgbm/engine.py:181: UserWarning: 'early_stopping_rounds' argument is deprecated and will be removed in a future release of LightGBM. Pass 'early_stopping()' callback via 'callbacks' argument instead.\n",
            "  _log_warning(\"'early_stopping_rounds' argument is deprecated and will be removed in a future release of LightGBM. \"\n",
            "/usr/local/lib/python3.9/dist-packages/lightgbm/engine.py:239: UserWarning: 'verbose_eval' argument is deprecated and will be removed in a future release of LightGBM. Pass 'log_evaluation()' callback via 'callbacks' argument instead.\n",
            "  _log_warning(\"'verbose_eval' argument is deprecated and will be removed in a future release of LightGBM. \"\n"
          ]
        },
        {
          "output_type": "stream",
          "name": "stdout",
          "text": [
            "[LightGBM] [Info] Number of positive: 17383, number of negative: 458786\n",
            "[LightGBM] [Info] Total Bins 1555\n",
            "[LightGBM] [Info] Number of data points in the train set: 476169, number of used features: 217\n",
            "[LightGBM] [Info] [binary:BoostFromScore]: pavg=0.036506 -> initscore=-3.273091\n",
            "[LightGBM] [Info] Start training from score -3.273091\n",
            "지니계수 : 0.2855811556220905\n",
            "\n",
            "| \u001b[0m1        \u001b[0m | \u001b[0m0.2856   \u001b[0m | \u001b[0m0.7646   \u001b[0m | \u001b[0m0.6715   \u001b[0m | \u001b[0m0.8206   \u001b[0m | \u001b[0m0.9545   \u001b[0m | \u001b[0m7.695    \u001b[0m | \u001b[0m29.38    \u001b[0m | \u001b[0m34.38    \u001b[0m |\n",
            "하이퍼파라미터: {'num_leaves': 39, 'lambda_l1': 0.7766883037651555, 'lambda_l2': 0.9791725038082665, 'feature_fraction': 0.6963662760501029, 'bagging_fraction': 0.867531900234624, 'min_child_samples': 8, 'min_child_weight': 27.04133683281797, 'feature_pre_filter': False, 'objective': 'binary', 'learning_rate': 0.005, 'bagging_freq': 1, 'force_row_wise': True, 'random_state': 1991}\n",
            "[LightGBM] [Info] Number of positive: 17383, number of negative: 458786\n",
            "[LightGBM] [Info] Total Bins 1555\n",
            "[LightGBM] [Info] Number of data points in the train set: 476169, number of used features: 217\n",
            "[LightGBM] [Info] [binary:BoostFromScore]: pavg=0.036506 -> initscore=-3.273091\n",
            "[LightGBM] [Info] Start training from score -3.273091\n",
            "지니계수 : 0.2837380537005777\n",
            "\n",
            "| \u001b[0m2        \u001b[0m | \u001b[0m0.2837   \u001b[0m | \u001b[0m0.8675   \u001b[0m | \u001b[0m0.6964   \u001b[0m | \u001b[0m0.7767   \u001b[0m | \u001b[0m0.9792   \u001b[0m | \u001b[0m8.116    \u001b[0m | \u001b[0m27.04    \u001b[0m | \u001b[0m39.26    \u001b[0m |\n",
            "하이퍼파라미터: {'num_leaves': 40, 'lambda_l1': 0.7040436794880651, 'lambda_l2': 0.9832619845547939, 'feature_fraction': 0.608712929970154, 'bagging_fraction': 0.6213108174593661, 'min_child_samples': 9, 'min_child_weight': 36.10036444740457, 'feature_pre_filter': False, 'objective': 'binary', 'learning_rate': 0.005, 'bagging_freq': 1, 'force_row_wise': True, 'random_state': 1991}\n",
            "[LightGBM] [Info] Number of positive: 17383, number of negative: 458786\n",
            "[LightGBM] [Info] Total Bins 1555\n",
            "[LightGBM] [Info] Number of data points in the train set: 476169, number of used features: 217\n",
            "[LightGBM] [Info] [binary:BoostFromScore]: pavg=0.036506 -> initscore=-3.273091\n",
            "[LightGBM] [Info] Start training from score -3.273091\n",
            "지니계수 : 0.2857848354322048\n",
            "\n",
            "| \u001b[95m3        \u001b[0m | \u001b[95m0.2858   \u001b[0m | \u001b[95m0.6213   \u001b[0m | \u001b[95m0.6087   \u001b[0m | \u001b[95m0.704    \u001b[0m | \u001b[95m0.9833   \u001b[0m | \u001b[95m9.113    \u001b[0m | \u001b[95m36.1     \u001b[0m | \u001b[95m39.79    \u001b[0m |\n",
            "하이퍼파라미터: {'num_leaves': 30, 'lambda_l1': 0.8444997594874222, 'lambda_l2': 0.9234023852202012, 'feature_fraction': 0.6593983245038058, 'bagging_fraction': 0.8977977822397395, 'min_child_samples': 9, 'min_child_weight': 10.549362495448534, 'feature_pre_filter': False, 'objective': 'binary', 'learning_rate': 0.005, 'bagging_freq': 1, 'force_row_wise': True, 'random_state': 1991}\n",
            "[LightGBM] [Info] Number of positive: 17383, number of negative: 458786\n"
          ]
        },
        {
          "output_type": "stream",
          "name": "stderr",
          "text": [
            "/usr/local/lib/python3.9/dist-packages/lightgbm/engine.py:181: UserWarning: 'early_stopping_rounds' argument is deprecated and will be removed in a future release of LightGBM. Pass 'early_stopping()' callback via 'callbacks' argument instead.\n",
            "  _log_warning(\"'early_stopping_rounds' argument is deprecated and will be removed in a future release of LightGBM. \"\n",
            "/usr/local/lib/python3.9/dist-packages/lightgbm/engine.py:239: UserWarning: 'verbose_eval' argument is deprecated and will be removed in a future release of LightGBM. Pass 'log_evaluation()' callback via 'callbacks' argument instead.\n",
            "  _log_warning(\"'verbose_eval' argument is deprecated and will be removed in a future release of LightGBM. \"\n"
          ]
        },
        {
          "output_type": "stream",
          "name": "stdout",
          "text": [
            "[LightGBM] [Info] Total Bins 1555\n",
            "[LightGBM] [Info] Number of data points in the train set: 476169, number of used features: 217\n",
            "[LightGBM] [Info] [binary:BoostFromScore]: pavg=0.036506 -> initscore=-3.273091\n",
            "[LightGBM] [Info] Start training from score -3.273091\n",
            "지니계수 : 0.2828993761731121\n",
            "\n",
            "| \u001b[0m4        \u001b[0m | \u001b[0m0.2829   \u001b[0m | \u001b[0m0.8978   \u001b[0m | \u001b[0m0.6594   \u001b[0m | \u001b[0m0.8445   \u001b[0m | \u001b[0m0.9234   \u001b[0m | \u001b[0m8.619    \u001b[0m | \u001b[0m10.55    \u001b[0m | \u001b[0m30.09    \u001b[0m |\n",
            "하이퍼파라미터: {'num_leaves': 37, 'lambda_l1': 0.7738449330497988, 'lambda_l2': 0.9032695189818599, 'feature_fraction': 0.6606341064409726, 'bagging_fraction': 0.7666713964943057, 'min_child_samples': 9, 'min_child_weight': 29.306172421380474, 'feature_pre_filter': False, 'objective': 'binary', 'learning_rate': 0.005, 'bagging_freq': 1, 'force_row_wise': True, 'random_state': 1991}\n",
            "[LightGBM] [Info] Number of positive: 17383, number of negative: 458786\n"
          ]
        },
        {
          "output_type": "stream",
          "name": "stderr",
          "text": [
            "/usr/local/lib/python3.9/dist-packages/lightgbm/engine.py:181: UserWarning: 'early_stopping_rounds' argument is deprecated and will be removed in a future release of LightGBM. Pass 'early_stopping()' callback via 'callbacks' argument instead.\n",
            "  _log_warning(\"'early_stopping_rounds' argument is deprecated and will be removed in a future release of LightGBM. \"\n",
            "/usr/local/lib/python3.9/dist-packages/lightgbm/engine.py:239: UserWarning: 'verbose_eval' argument is deprecated and will be removed in a future release of LightGBM. Pass 'log_evaluation()' callback via 'callbacks' argument instead.\n",
            "  _log_warning(\"'verbose_eval' argument is deprecated and will be removed in a future release of LightGBM. \"\n"
          ]
        },
        {
          "output_type": "stream",
          "name": "stdout",
          "text": [
            "[LightGBM] [Info] Total Bins 1555\n",
            "[LightGBM] [Info] Number of data points in the train set: 476169, number of used features: 217\n",
            "[LightGBM] [Info] [binary:BoostFromScore]: pavg=0.036506 -> initscore=-3.273091\n",
            "[LightGBM] [Info] Start training from score -3.273091\n"
          ]
        },
        {
          "output_type": "error",
          "ename": "KeyboardInterrupt",
          "evalue": "ignored",
          "traceback": [
            "\u001b[0;31m---------------------------------------------------------------------------\u001b[0m",
            "\u001b[0;31mKeyboardInterrupt\u001b[0m                         Traceback (most recent call last)",
            "\u001b[0;32m<ipython-input-28-919e038420f6>\u001b[0m in \u001b[0;36m<cell line: 2>\u001b[0;34m()\u001b[0m\n\u001b[1;32m      1\u001b[0m \u001b[0;31m# 베이지안 최적화 수행\u001b[0m\u001b[0;34m\u001b[0m\u001b[0;34m\u001b[0m\u001b[0m\n\u001b[0;32m----> 2\u001b[0;31m \u001b[0moptimizer\u001b[0m\u001b[0;34m.\u001b[0m\u001b[0mmaximize\u001b[0m\u001b[0;34m(\u001b[0m\u001b[0minit_points\u001b[0m\u001b[0;34m=\u001b[0m\u001b[0;36m3\u001b[0m\u001b[0;34m,\u001b[0m \u001b[0mn_iter\u001b[0m\u001b[0;34m=\u001b[0m\u001b[0;36m6\u001b[0m\u001b[0;34m)\u001b[0m\u001b[0;34m\u001b[0m\u001b[0;34m\u001b[0m\u001b[0m\n\u001b[0m",
            "\u001b[0;32m/usr/local/lib/python3.9/dist-packages/bayes_opt/bayesian_optimization.py\u001b[0m in \u001b[0;36mmaximize\u001b[0;34m(self, init_points, n_iter, acquisition_function, acq, kappa, kappa_decay, kappa_decay_delay, xi, **gp_params)\u001b[0m\n\u001b[1;32m    309\u001b[0m                 \u001b[0mx_probe\u001b[0m \u001b[0;34m=\u001b[0m \u001b[0mself\u001b[0m\u001b[0;34m.\u001b[0m\u001b[0msuggest\u001b[0m\u001b[0;34m(\u001b[0m\u001b[0mutil\u001b[0m\u001b[0;34m)\u001b[0m\u001b[0;34m\u001b[0m\u001b[0;34m\u001b[0m\u001b[0m\n\u001b[1;32m    310\u001b[0m                 \u001b[0miteration\u001b[0m \u001b[0;34m+=\u001b[0m \u001b[0;36m1\u001b[0m\u001b[0;34m\u001b[0m\u001b[0;34m\u001b[0m\u001b[0m\n\u001b[0;32m--> 311\u001b[0;31m             \u001b[0mself\u001b[0m\u001b[0;34m.\u001b[0m\u001b[0mprobe\u001b[0m\u001b[0;34m(\u001b[0m\u001b[0mx_probe\u001b[0m\u001b[0;34m,\u001b[0m \u001b[0mlazy\u001b[0m\u001b[0;34m=\u001b[0m\u001b[0;32mFalse\u001b[0m\u001b[0;34m)\u001b[0m\u001b[0;34m\u001b[0m\u001b[0;34m\u001b[0m\u001b[0m\n\u001b[0m\u001b[1;32m    312\u001b[0m \u001b[0;34m\u001b[0m\u001b[0m\n\u001b[1;32m    313\u001b[0m             \u001b[0;32mif\u001b[0m \u001b[0mself\u001b[0m\u001b[0;34m.\u001b[0m\u001b[0m_bounds_transformer\u001b[0m \u001b[0;32mand\u001b[0m \u001b[0miteration\u001b[0m \u001b[0;34m>\u001b[0m \u001b[0;36m0\u001b[0m\u001b[0;34m:\u001b[0m\u001b[0;34m\u001b[0m\u001b[0;34m\u001b[0m\u001b[0m\n",
            "\u001b[0;32m/usr/local/lib/python3.9/dist-packages/bayes_opt/bayesian_optimization.py\u001b[0m in \u001b[0;36mprobe\u001b[0;34m(self, params, lazy)\u001b[0m\n\u001b[1;32m    206\u001b[0m             \u001b[0mself\u001b[0m\u001b[0;34m.\u001b[0m\u001b[0m_queue\u001b[0m\u001b[0;34m.\u001b[0m\u001b[0madd\u001b[0m\u001b[0;34m(\u001b[0m\u001b[0mparams\u001b[0m\u001b[0;34m)\u001b[0m\u001b[0;34m\u001b[0m\u001b[0;34m\u001b[0m\u001b[0m\n\u001b[1;32m    207\u001b[0m         \u001b[0;32melse\u001b[0m\u001b[0;34m:\u001b[0m\u001b[0;34m\u001b[0m\u001b[0;34m\u001b[0m\u001b[0m\n\u001b[0;32m--> 208\u001b[0;31m             \u001b[0mself\u001b[0m\u001b[0;34m.\u001b[0m\u001b[0m_space\u001b[0m\u001b[0;34m.\u001b[0m\u001b[0mprobe\u001b[0m\u001b[0;34m(\u001b[0m\u001b[0mparams\u001b[0m\u001b[0;34m)\u001b[0m\u001b[0;34m\u001b[0m\u001b[0;34m\u001b[0m\u001b[0m\n\u001b[0m\u001b[1;32m    209\u001b[0m             \u001b[0mself\u001b[0m\u001b[0;34m.\u001b[0m\u001b[0mdispatch\u001b[0m\u001b[0;34m(\u001b[0m\u001b[0mEvents\u001b[0m\u001b[0;34m.\u001b[0m\u001b[0mOPTIMIZATION_STEP\u001b[0m\u001b[0;34m)\u001b[0m\u001b[0;34m\u001b[0m\u001b[0;34m\u001b[0m\u001b[0m\n\u001b[1;32m    210\u001b[0m \u001b[0;34m\u001b[0m\u001b[0m\n",
            "\u001b[0;32m/usr/local/lib/python3.9/dist-packages/bayes_opt/target_space.py\u001b[0m in \u001b[0;36mprobe\u001b[0;34m(self, params)\u001b[0m\n\u001b[1;32m    234\u001b[0m         \u001b[0mx\u001b[0m \u001b[0;34m=\u001b[0m \u001b[0mself\u001b[0m\u001b[0;34m.\u001b[0m\u001b[0m_as_array\u001b[0m\u001b[0;34m(\u001b[0m\u001b[0mparams\u001b[0m\u001b[0;34m)\u001b[0m\u001b[0;34m\u001b[0m\u001b[0;34m\u001b[0m\u001b[0m\n\u001b[1;32m    235\u001b[0m         \u001b[0mparams\u001b[0m \u001b[0;34m=\u001b[0m \u001b[0mdict\u001b[0m\u001b[0;34m(\u001b[0m\u001b[0mzip\u001b[0m\u001b[0;34m(\u001b[0m\u001b[0mself\u001b[0m\u001b[0;34m.\u001b[0m\u001b[0m_keys\u001b[0m\u001b[0;34m,\u001b[0m \u001b[0mx\u001b[0m\u001b[0;34m)\u001b[0m\u001b[0;34m)\u001b[0m\u001b[0;34m\u001b[0m\u001b[0;34m\u001b[0m\u001b[0m\n\u001b[0;32m--> 236\u001b[0;31m         \u001b[0mtarget\u001b[0m \u001b[0;34m=\u001b[0m \u001b[0mself\u001b[0m\u001b[0;34m.\u001b[0m\u001b[0mtarget_func\u001b[0m\u001b[0;34m(\u001b[0m\u001b[0;34m**\u001b[0m\u001b[0mparams\u001b[0m\u001b[0;34m)\u001b[0m\u001b[0;34m\u001b[0m\u001b[0;34m\u001b[0m\u001b[0m\n\u001b[0m\u001b[1;32m    237\u001b[0m \u001b[0;34m\u001b[0m\u001b[0m\n\u001b[1;32m    238\u001b[0m         \u001b[0;32mif\u001b[0m \u001b[0mself\u001b[0m\u001b[0;34m.\u001b[0m\u001b[0m_constraint\u001b[0m \u001b[0;32mis\u001b[0m \u001b[0;32mNone\u001b[0m\u001b[0;34m:\u001b[0m\u001b[0;34m\u001b[0m\u001b[0;34m\u001b[0m\u001b[0m\n",
            "\u001b[0;32m<ipython-input-24-f8d184796020>\u001b[0m in \u001b[0;36meval_function\u001b[0;34m(num_leaves, lambda_l1, lambda_l2, feature_fraction, bagging_fraction, min_child_samples, min_child_weight)\u001b[0m\n\u001b[1;32m     19\u001b[0m \u001b[0;34m\u001b[0m\u001b[0m\n\u001b[1;32m     20\u001b[0m     \u001b[0;31m# LightGBM 모델 훈련\u001b[0m\u001b[0;34m\u001b[0m\u001b[0;34m\u001b[0m\u001b[0m\n\u001b[0;32m---> 21\u001b[0;31m     lgb_model = lgb.train(params=params, \n\u001b[0m\u001b[1;32m     22\u001b[0m                            \u001b[0mtrain_set\u001b[0m\u001b[0;34m=\u001b[0m\u001b[0mbayes_dtrain\u001b[0m\u001b[0;34m,\u001b[0m\u001b[0;34m\u001b[0m\u001b[0;34m\u001b[0m\u001b[0m\n\u001b[1;32m     23\u001b[0m                            \u001b[0mnum_boost_round\u001b[0m\u001b[0;34m=\u001b[0m\u001b[0;36m2500\u001b[0m\u001b[0;34m,\u001b[0m\u001b[0;34m\u001b[0m\u001b[0;34m\u001b[0m\u001b[0m\n",
            "\u001b[0;32m/usr/local/lib/python3.9/dist-packages/lightgbm/engine.py\u001b[0m in \u001b[0;36mtrain\u001b[0;34m(params, train_set, num_boost_round, valid_sets, valid_names, fobj, feval, init_model, feature_name, categorical_feature, early_stopping_rounds, evals_result, verbose_eval, learning_rates, keep_training_booster, callbacks)\u001b[0m\n\u001b[1;32m    290\u001b[0m                                     evaluation_result_list=None))\n\u001b[1;32m    291\u001b[0m \u001b[0;34m\u001b[0m\u001b[0m\n\u001b[0;32m--> 292\u001b[0;31m         \u001b[0mbooster\u001b[0m\u001b[0;34m.\u001b[0m\u001b[0mupdate\u001b[0m\u001b[0;34m(\u001b[0m\u001b[0mfobj\u001b[0m\u001b[0;34m=\u001b[0m\u001b[0mfobj\u001b[0m\u001b[0;34m)\u001b[0m\u001b[0;34m\u001b[0m\u001b[0;34m\u001b[0m\u001b[0m\n\u001b[0m\u001b[1;32m    293\u001b[0m \u001b[0;34m\u001b[0m\u001b[0m\n\u001b[1;32m    294\u001b[0m         \u001b[0mevaluation_result_list\u001b[0m \u001b[0;34m=\u001b[0m \u001b[0;34m[\u001b[0m\u001b[0;34m]\u001b[0m\u001b[0;34m\u001b[0m\u001b[0;34m\u001b[0m\u001b[0m\n",
            "\u001b[0;32m/usr/local/lib/python3.9/dist-packages/lightgbm/basic.py\u001b[0m in \u001b[0;36mupdate\u001b[0;34m(self, train_set, fobj)\u001b[0m\n\u001b[1;32m   3019\u001b[0m             \u001b[0;32mif\u001b[0m \u001b[0mself\u001b[0m\u001b[0;34m.\u001b[0m\u001b[0m__set_objective_to_none\u001b[0m\u001b[0;34m:\u001b[0m\u001b[0;34m\u001b[0m\u001b[0;34m\u001b[0m\u001b[0m\n\u001b[1;32m   3020\u001b[0m                 \u001b[0;32mraise\u001b[0m \u001b[0mLightGBMError\u001b[0m\u001b[0;34m(\u001b[0m\u001b[0;34m'Cannot update due to null objective function.'\u001b[0m\u001b[0;34m)\u001b[0m\u001b[0;34m\u001b[0m\u001b[0;34m\u001b[0m\u001b[0m\n\u001b[0;32m-> 3021\u001b[0;31m             _safe_call(_LIB.LGBM_BoosterUpdateOneIter(\n\u001b[0m\u001b[1;32m   3022\u001b[0m                 \u001b[0mself\u001b[0m\u001b[0;34m.\u001b[0m\u001b[0mhandle\u001b[0m\u001b[0;34m,\u001b[0m\u001b[0;34m\u001b[0m\u001b[0;34m\u001b[0m\u001b[0m\n\u001b[1;32m   3023\u001b[0m                 ctypes.byref(is_finished)))\n",
            "\u001b[0;31mKeyboardInterrupt\u001b[0m: "
          ]
        }
      ]
    },
    {
      "cell_type": "markdown",
      "source": [
        "결과 확인"
      ],
      "metadata": {
        "id": "9-TxSv5ayOyZ"
      }
    },
    {
      "cell_type": "code",
      "source": [
        "# 평가함수 점수가 최대일 때 하이퍼파라미터\n",
        "max_params = optimizer.max['params']\n",
        "max_params"
      ],
      "metadata": {
        "id": "kw7bfA6PyK5E"
      },
      "execution_count": null,
      "outputs": []
    },
    {
      "cell_type": "code",
      "source": [
        "# 정수형 하이퍼파라미터 변환\n",
        "max_params['num_leaves'] = int(round(max_params['num_leaves']))\n",
        "max_params['min_child_samples'] = int(round(max_params['min_child_samples']))"
      ],
      "metadata": {
        "id": "6thYWm52yWQ1"
      },
      "execution_count": null,
      "outputs": []
    },
    {
      "cell_type": "code",
      "source": [
        "# 값이 고정된 하이퍼파라미터 추가\n",
        "max_params.update(fixed_params)\n",
        "max_params"
      ],
      "metadata": {
        "id": "E9o5WnfIyW2k"
      },
      "execution_count": null,
      "outputs": []
    },
    {
      "cell_type": "markdown",
      "source": [
        "### 모델 훈련 및 성능 검증"
      ],
      "metadata": {
        "id": "jn5VC9QcydNu"
      }
    },
    {
      "cell_type": "code",
      "source": [
        "\n",
        "from sklearn.model_selection import StratifiedKFold\n",
        "\n",
        "# 층화 K 폴드 교차 검증기 생성\n",
        "folds = StratifiedKFold(n_splits=5, shuffle=True, random_state=1991)\n",
        "\n",
        "# OOF 방식으로 훈련된 모델로 검증 데이터 타깃값을 예측한 확률을 담을 1차원 배열\n",
        "oof_val_preds = np.zeros(X.shape[0]) \n",
        "# OOF 방식으로 훈련된 모델로 테스트 데이터 타깃값을 예측한 확률을 담을 1차원 배열\n",
        "oof_test_preds_lgb = np.zeros(X_test.shape[0]) \n",
        "\n",
        "# OOF 방식으로 모델 훈련, 검증, 예측\n",
        "for idx, (train_idx, valid_idx) in enumerate(folds.split(X, y)):\n",
        "    # 각 폴드를 구분하는 문구 출력\n",
        "    print('#'*40, f'폴드 {idx+1} / 폴드 {folds.n_splits}', '#'*40)\n",
        "    \n",
        "    # 훈련용 데이터, 검증용 데이터 설정\n",
        "    X_train, y_train = X[train_idx], y[train_idx] # 훈련용 데이터\n",
        "    X_valid, y_valid = X[valid_idx], y[valid_idx] # 검증용 데이터\n",
        "\n",
        "    # LightGBM 전용 데이터셋 생성\n",
        "    dtrain = lgb.Dataset(X_train, y_train) # LightGBM 전용 훈련 데이터셋\n",
        "    dvalid = lgb.Dataset(X_valid, y_valid) # LightGBM 전용 검증 데이터셋\n",
        "                          \n",
        "    # LightGBM 모델 훈련\n",
        "    lgb_model = lgb.train(params=max_params,    # 최적 하이퍼파라미터\n",
        "                          train_set=dtrain,     # 훈련 데이터셋\n",
        "                          num_boost_round=2500, # 부스팅 반복 횟수\n",
        "                          valid_sets=dvalid,    # 성능 평가용 검증 데이터셋\n",
        "                          feval=gini,           # 검증용 평가지표\n",
        "                          early_stopping_rounds=300, # 조기종료 조건\n",
        "                          verbose_eval=100)     # 100번째마다 점수 출력\n",
        "    \n",
        "    # 테스트 데이터를 활용해 OOF 예측\n",
        "    oof_test_preds_lgb += lgb_model.predict(X_test)/folds.n_splits\n",
        "    # 모델 성능 평가를 위한 검증 데이터 타깃값 예측 \n",
        "    oof_val_preds[valid_idx] += lgb_model.predict(X_valid)\n",
        "    \n",
        "    # 검증 데이터 예측확률에 대한 정규화 지니계수\n",
        "    gini_score = eval_gini(y_valid, oof_val_preds[valid_idx])\n",
        "    print(f'폴드 {idx+1} 지니계수 : {gini_score}\\n')"
      ],
      "metadata": {
        "id": "5EU7uWQmyewW"
      },
      "execution_count": null,
      "outputs": []
    },
    {
      "cell_type": "code",
      "source": [
        "print('OOF 검증 데이터 지니계수 :', eval_gini(y, oof_val_preds))"
      ],
      "metadata": {
        "id": "HIvci_RUyvog"
      },
      "execution_count": null,
      "outputs": []
    },
    {
      "cell_type": "markdown",
      "source": [
        "### 예측 및 결과 제출"
      ],
      "metadata": {
        "id": "IzupEPl8ywxT"
      }
    },
    {
      "cell_type": "code",
      "source": [
        "submission['target'] = oof_test_preds\n",
        "submission.to_csv('submission.csv')"
      ],
      "metadata": {
        "id": "ZH_OKgn_ywLM"
      },
      "execution_count": null,
      "outputs": []
    },
    {
      "cell_type": "markdown",
      "source": [
        "# LightGBM + XGBoost (Ensemble)"
      ],
      "metadata": {
        "id": "JpQUTmiuzWOQ"
      }
    },
    {
      "cell_type": "markdown",
      "source": [
        "LightGBM 에서 사용한 코드 + XGBoost 를 위한 부분만 추가"
      ],
      "metadata": {
        "id": "WoOUwXMtznd6"
      }
    },
    {
      "cell_type": "code",
      "source": [
        "# XGBoost용 gini() 함수\n",
        "def gini_xgb(preds, dtrain):\n",
        "    labels = dtrain.get_label()\n",
        "    return 'gini', eval_gini(labels, preds)"
      ],
      "metadata": {
        "id": "v1JH7BdEza2b"
      },
      "execution_count": null,
      "outputs": []
    },
    {
      "cell_type": "markdown",
      "source": [
        "XGBoost 훈련 추가"
      ],
      "metadata": {
        "id": "R5VQMjVXz1f9"
      }
    },
    {
      "cell_type": "code",
      "source": [
        "max_params_xgb = {\n",
        "    'colsample_bytree': 0.8843124587484356,\n",
        "    'gamma': 10.452246227672624,\n",
        "    'max_depth': 7,\n",
        "    'min_child_weight': 6.494091293383359,\n",
        "    'reg_alpha': 8.551838810159788,\n",
        "    'reg_lambda': 1.3814765995549108,\n",
        "    'scale_pos_weight': 1.423280772455086,\n",
        "    'subsample': 0.7001630536555632,\n",
        "    'objective': 'binary:logistic',\n",
        "    'learning_rate': 0.02,\n",
        "    'random_state': 1991\n",
        "}"
      ],
      "metadata": {
        "id": "VYgiNIukz0Ud"
      },
      "execution_count": null,
      "outputs": []
    },
    {
      "cell_type": "code",
      "source": [
        "import xgboost as xgb\n",
        "\n",
        "# OOF 방식으로 훈련된 모델로 검증 데이터 타깃값을 예측한 확률을 담을 1차원 배열\n",
        "oof_val_preds_xgb = np.zeros(X.shape[0]) \n",
        "# OOF 방식으로 훈련된 모델로 테스트 데이터 타깃값을 예측한 확률을 담을 1차원 배열\n",
        "oof_test_preds_xgb = np.zeros(X_test.shape[0]) \n",
        "\n",
        "# OOF 방식으로 모델 훈련, 검증, 예측\n",
        "for idx, (train_idx, valid_idx) in enumerate(folds.split(X, y)):\n",
        "    # 각 폴드를 구분하는 문구 출력\n",
        "    print('#'*40, f'폴드 {idx+1} / 폴드 {folds.n_splits}', '#'*40)\n",
        "    \n",
        "    # 훈련용 데이터, 검증용 데이터 설정\n",
        "    X_train, y_train = X[train_idx], y[train_idx]\n",
        "    X_valid, y_valid = X[valid_idx], y[valid_idx]\n",
        "\n",
        "    # XGBoost 전용 데이터셋 생성 \n",
        "    dtrain = xgb.DMatrix(X_train, y_train)\n",
        "    dvalid = xgb.DMatrix(X_valid, y_valid)\n",
        "    dtest = xgb.DMatrix(X_test)\n",
        "\n",
        "    # XGBoost 모델 훈련\n",
        "    xgb_model = xgb.train(params=max_params_xgb, \n",
        "                          dtrain=dtrain,\n",
        "                          num_boost_round=2000,\n",
        "                          evals=[(dvalid, 'valid')],\n",
        "                          maximize=True,\n",
        "                          feval=gini_xgb,\n",
        "                          early_stopping_rounds=200,\n",
        "                          verbose_eval=100)\n",
        "\n",
        "    # 모델 성능이 가장 좋을 때의 부스팅 반복 횟수 저장\n",
        "    best_iter = xgb_model.best_iteration\n",
        "\n",
        "    # 테스트 데이터를 활용해 OOF 예측\n",
        "    oof_test_preds_xgb += xgb_model.predict(dtest,\n",
        "                                            iteration_range=(0, best_iter))/folds.n_splits\n",
        "    \n",
        "    # 모델 성능 평가를 위한 검증 데이터 타깃값 예측 \n",
        "    oof_val_preds_xgb[valid_idx] += xgb_model.predict(dvalid, \n",
        "                                                      iteration_range=(0, best_iter))\n",
        "    \n",
        "    # 검증 데이터 예측확률에 대한 정규화 지니계수\n",
        "    gini_score = eval_gini(y_valid, oof_val_preds_xgb[valid_idx])\n",
        "    print(f'폴드 {idx+1} 지니계수 : {gini_score}\\n')"
      ],
      "metadata": {
        "id": "b50LpuV8z-qU"
      },
      "execution_count": null,
      "outputs": []
    },
    {
      "cell_type": "markdown",
      "source": [
        "훈련한 XGBoost 에 대한 예측 결과"
      ],
      "metadata": {
        "id": "gfP69_Kd0C0G"
      }
    },
    {
      "cell_type": "code",
      "source": [
        "print('XGBoost OOF 검증 데이터 지니계수 :', eval_gini(y, oof_val_preds_xgb))"
      ],
      "metadata": {
        "id": "flDkfQGQ0FAH"
      },
      "execution_count": null,
      "outputs": []
    },
    {
      "cell_type": "markdown",
      "source": [
        "## 앙상블 수행"
      ],
      "metadata": {
        "id": "3KIo8j320FqY"
      }
    },
    {
      "cell_type": "code",
      "source": [
        "oof_test_preds = oof_test_preds_lgb * 0.5 + oof_test_preds_xgb * 0.5        # 가중치 동일하게 설정"
      ],
      "metadata": {
        "id": "Yrq-1tTV0Hb9"
      },
      "execution_count": null,
      "outputs": []
    },
    {
      "cell_type": "code",
      "source": [
        "submission['target'] = oof_test_preds\n",
        "submission.to_csv('submission.csv')"
      ],
      "metadata": {
        "id": "GpqyQF7E0N2c"
      },
      "execution_count": null,
      "outputs": []
    }
  ]
}